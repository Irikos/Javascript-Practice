{
 "cells": [
  {
   "cell_type": "code",
   "execution_count": 144,
   "metadata": {},
   "outputs": [
    {
     "name": "stderr",
     "output_type": "stream",
     "text": [
      "[nltk_data] Downloading package stopwords to /home/irikos/nltk_data...\n",
      "[nltk_data]   Package stopwords is already up-to-date!\n"
     ]
    },
    {
     "data": {
      "text/plain": [
       "Synset('savings_bank.n.02')"
      ]
     },
     "execution_count": 144,
     "metadata": {},
     "output_type": "execute_result"
    }
   ],
   "source": [
    "import nltk\n",
    "nltk.download('stopwords')\n",
    "from nltk.corpus import stopwords\n",
    "from nltk.corpus import wordnet\n",
    "import numpy as np\n",
    "\n",
    "from nltk.wsd import lesk\n",
    "lesk(nltk.word_tokenize('I went to the bank to deposit money.'),'bank')"
   ]
  },
  {
   "cell_type": "code",
   "execution_count": 145,
   "metadata": {},
   "outputs": [],
   "source": [
    "# 1. Implement Original Lesk algorithm with the help of a function that computes the score for two \n",
    "# given glosses. For a given text and a given word, try to find the sense of that word, considering \n",
    "# the Lesk measure. Check your result with the already implemented (simplified) lesk algorithm in \n",
    "# nltk. You may have different results, as the simplified Lesk algorithm compares the target word \n",
    "# glosses with the words from the context (not their definitions).\n",
    "def get_context(sentence):\n",
    "    sentence_split = nltk.word_tokenize(sentence.lower())    \n",
    "    only_words = [word.lower() for word in sentence_split if word.isalnum()]\n",
    "    relevant_words = [word for word in only_words if word not in stopwords.words('english')]\n",
    "    return relevant_words\n",
    "\n",
    "def simplified_lesk(sentence, word):\n",
    "    best_sense = \"\"\n",
    "    max_overlap = 0\n",
    "    context = get_context(sentence)\n",
    "    \n",
    "    for synset in wordnet.synsets(word):\n",
    "        overlap = 0\n",
    "        split_def = synset.definition().split(' ')\n",
    "        polished_def = [word for word in split_def if word not in stopwords.words('english')]\n",
    "        \n",
    "        intersection = np.intersect1d(context, polished_def)\n",
    "        overlap += len(intersection)\n",
    "        \n",
    "        for example in synset.examples():\n",
    "            example_context = get_context(example)\n",
    "            example_intersection = np.intersect1d(context, example_context)\n",
    "            \n",
    "            overlap += len(example_intersection)\n",
    "            print(synset)\n",
    "            print(\"Context\", context)\n",
    "            print(\"Example:\", example_context)\n",
    "            print(\"Intersection:\", example_intersection)\n",
    "        print(\"overlap:\", overlap)\n",
    "        print(\" \")\n",
    "        if (overlap > max_overlap):\n",
    "            max_overlap = overlap\n",
    "            best_sense = synset\n",
    "    return (best_sense)"
   ]
  },
  {
   "cell_type": "code",
   "execution_count": 146,
   "metadata": {},
   "outputs": [
    {
     "name": "stdout",
     "output_type": "stream",
     "text": [
      "Synset('bank.n.01')\n",
      "Context ['went', 'bank', 'deposit', 'money']\n",
      "Example: ['pulled', 'canoe', 'bank']\n",
      "Intersection: ['bank']\n",
      "Synset('bank.n.01')\n",
      "Context ['went', 'bank', 'deposit', 'money']\n",
      "Example: ['sat', 'bank', 'river', 'watched', 'currents']\n",
      "Intersection: ['bank']\n",
      "overlap: 2\n",
      " \n",
      "Synset('depository_financial_institution.n.01')\n",
      "Context ['went', 'bank', 'deposit', 'money']\n",
      "Example: ['cashed', 'check', 'bank']\n",
      "Intersection: ['bank']\n",
      "Synset('depository_financial_institution.n.01')\n",
      "Context ['went', 'bank', 'deposit', 'money']\n",
      "Example: ['bank', 'holds', 'mortgage', 'home']\n",
      "Intersection: ['bank']\n",
      "overlap: 3\n",
      " \n",
      "Synset('bank.n.03')\n",
      "Context ['went', 'bank', 'deposit', 'money']\n",
      "Example: ['huge', 'bank', 'earth']\n",
      "Intersection: ['bank']\n",
      "overlap: 1\n",
      " \n",
      "Synset('bank.n.04')\n",
      "Context ['went', 'bank', 'deposit', 'money']\n",
      "Example: ['operated', 'bank', 'switches']\n",
      "Intersection: ['bank']\n",
      "overlap: 1\n",
      " \n",
      "overlap: 0\n",
      " \n",
      "Synset('bank.n.06')\n",
      "Context ['went', 'bank', 'deposit', 'money']\n",
      "Example: ['tried', 'break', 'bank', 'monte', 'carlo']\n",
      "Intersection: ['bank']\n",
      "overlap: 1\n",
      " \n",
      "overlap: 0\n",
      " \n",
      "Synset('savings_bank.n.02')\n",
      "Context ['went', 'bank', 'deposit', 'money']\n",
      "Example: ['coin', 'bank', 'empty']\n",
      "Intersection: ['bank']\n",
      "overlap: 2\n",
      " \n",
      "Synset('bank.n.09')\n",
      "Context ['went', 'bank', 'deposit', 'money']\n",
      "Example: ['bank', 'corner', 'nassau', 'witherspoon']\n",
      "Intersection: ['bank']\n",
      "overlap: 1\n",
      " \n",
      "Synset('bank.n.10')\n",
      "Context ['went', 'bank', 'deposit', 'money']\n",
      "Example: ['plane', 'went', 'steep', 'bank']\n",
      "Intersection: ['bank' 'went']\n",
      "overlap: 2\n",
      " \n",
      "Synset('bank.v.01')\n",
      "Context ['went', 'bank', 'deposit', 'money']\n",
      "Example: ['pilot', 'bank', 'aircraft']\n",
      "Intersection: ['bank']\n",
      "overlap: 1\n",
      " \n",
      "Synset('bank.v.02')\n",
      "Context ['went', 'bank', 'deposit', 'money']\n",
      "Example: ['bank', 'roads']\n",
      "Intersection: ['bank']\n",
      "overlap: 2\n",
      " \n",
      "Synset('bank.v.03')\n",
      "Context ['went', 'bank', 'deposit', 'money']\n",
      "Example: ['bank', 'town']\n",
      "Intersection: ['bank']\n",
      "overlap: 2\n",
      " \n",
      "overlap: 0\n",
      " \n",
      "overlap: 0\n",
      " \n",
      "Synset('deposit.v.02')\n",
      "Context ['went', 'bank', 'deposit', 'money']\n",
      "Example: ['deposits', 'paycheck', 'every', 'month']\n",
      "Intersection: []\n",
      "overlap: 1\n",
      " \n",
      "Synset('bank.v.07')\n",
      "Context ['went', 'bank', 'deposit', 'money']\n",
      "Example: ['bank', 'fire']\n",
      "Intersection: ['bank']\n",
      "overlap: 1\n",
      " \n",
      "Synset('trust.v.01')\n",
      "Context ['went', 'bank', 'deposit', 'money']\n",
      "Example: ['trust', 'god']\n",
      "Intersection: []\n",
      "Synset('trust.v.01')\n",
      "Context ['went', 'bank', 'deposit', 'money']\n",
      "Example: ['rely', 'friends']\n",
      "Intersection: []\n",
      "Synset('trust.v.01')\n",
      "Context ['went', 'bank', 'deposit', 'money']\n",
      "Example: ['bank', 'good', 'education']\n",
      "Intersection: ['bank']\n",
      "Synset('trust.v.01')\n",
      "Context ['went', 'bank', 'deposit', 'money']\n",
      "Example: ['swear', 'grandmother', 'recipes']\n",
      "Intersection: []\n",
      "overlap: 1\n",
      " \n"
     ]
    },
    {
     "data": {
      "text/plain": [
       "Synset('depository_financial_institution.n.01')"
      ]
     },
     "execution_count": 146,
     "metadata": {},
     "output_type": "execute_result"
    }
   ],
   "source": [
    "sentence = 'Students enjoy going to school, studying and reading books'\n",
    "word = 'school'\n",
    "\n",
    "sentence2 = \"I went to the bank to deposit money.\"\n",
    "word2 = 'bank'\n",
    "simplified_lesk(sentence2, word2)"
   ]
  },
  {
   "cell_type": "code",
   "execution_count": 71,
   "metadata": {},
   "outputs": [],
   "source": [
    "# 2. Implement extended Lesk algorithm. For a list of 7-10 words, print the measure for each pair of \n",
    "# words (without repeating the words). Just like in the former exercise, try to obtain the word sense \n",
    "# for the given text and word. Can you find a text and word where simple Lesk gives the wrong answer, \n",
    "# however extended Lesk gives the right answer?\n",
    "\n",
    "def extended_lesk(sentence, word):\n",
    "    return 0"
   ]
  },
  {
   "cell_type": "code",
   "execution_count": null,
   "metadata": {},
   "outputs": [],
   "source": []
  }
 ],
 "metadata": {
  "kernelspec": {
   "display_name": "Python 3",
   "language": "python",
   "name": "python3"
  },
  "language_info": {
   "codemirror_mode": {
    "name": "ipython",
    "version": 3
   },
   "file_extension": ".py",
   "mimetype": "text/x-python",
   "name": "python",
   "nbconvert_exporter": "python",
   "pygments_lexer": "ipython3",
   "version": "3.7.6"
  }
 },
 "nbformat": 4,
 "nbformat_minor": 4
}
