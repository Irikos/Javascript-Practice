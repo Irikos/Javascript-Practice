{
 "cells": [
  {
   "cell_type": "code",
   "execution_count": 6,
   "metadata": {},
   "outputs": [],
   "source": [
    "# doing the NLTK tutorial book @ https://www.nltk.org/book/ch01.html\n",
    "import nltk"
   ]
  },
  {
   "cell_type": "code",
   "execution_count": 7,
   "metadata": {},
   "outputs": [],
   "source": [
    "# will open a pop-up. Download book -> Everything used in the NLTK Book\n",
    "# in it's own cell and commented as to not download it every time\n",
    "# nltk.download()"
   ]
  },
  {
   "cell_type": "code",
   "execution_count": 8,
   "metadata": {},
   "outputs": [],
   "source": [
    "from nltk.book import *"
   ]
  },
  {
   "cell_type": "code",
   "execution_count": 52,
   "metadata": {},
   "outputs": [
    {
     "name": "stdout",
     "output_type": "stream",
     "text": [
      "very so exceedingly heartily a as good great extremely remarkably\n",
      "sweet vast amazingly\n",
      "is_pretty a_pretty be_glad am_glad a_lucky\n"
     ]
    }
   ],
   "source": [
    "# text3.concordance('God')\n",
    "# text3.similar('love')\n",
    "# text3.common_contexts([\"love\", \"earth\"])\n",
    "\n",
    "# text3.concordance('love')\n",
    "# text3.concordance('earth')\n",
    "text2.similar('monstrous')\n",
    "text2.common_contexts([\"very\", \"monstrous\"])\n",
    "text2.concordance('monstrous')\n",
    "text2.concordance('very')"
   ]
  },
  {
   "cell_type": "code",
   "execution_count": 68,
   "metadata": {},
   "outputs": [
    {
     "data": {
      "image/png": "[encoded data removed]",
      "text/plain": [
       "<Figure size 432x288 with 1 Axes>"
      ]
     },
     "metadata": {
      "needs_background": "light"
     },
     "output_type": "display_data"
    }
   ],
   "source": [
    "text3.dispersion_plot([\"God\", \"said\", \"unto\", \"do\", \"saved\", \"help\", \"hate\", \"evil\"])"
   ]
  },
  {
   "cell_type": "code",
   "execution_count": 72,
   "metadata": {},
   "outputs": [
    {
     "name": "stderr",
     "output_type": "stream",
     "text": [
      "Building ngram index...\n"
     ]
    },
    {
     "name": "stdout",
     "output_type": "stream",
     "text": [
      "knew , had by this remembrance , and if , by rapid degrees , so long .\n",
      ", she could live without one another , and in her rambles . at least\n",
      "the last evening of a brother , could you know , from the first .\n",
      "Dashwood ? this gentleman himself , and must put up with a kindness\n",
      "which they are very much vexed at , for it -- and I shall keep it\n",
      "entirely . admire it ; and it is , explain the grounds , or if any\n",
      "place could give her ease , was a\n"
     ]
    },
    {
     "data": {
      "text/plain": [
       "'knew , had by this remembrance , and if , by rapid degrees , so long .\\n, she could live without one another , and in her rambles . at least\\nthe last evening of a brother , could you know , from the first .\\nDashwood ? this gentleman himself , and must put up with a kindness\\nwhich they are very much vexed at , for it -- and I shall keep it\\nentirely . admire it ; and it is , explain the grounds , or if any\\nplace could give her ease , was a'"
      ]
     },
     "execution_count": 72,
     "metadata": {},
     "output_type": "execute_result"
    }
   ],
   "source": [
    "text2.generate()"
   ]
  }
 ],
 "metadata": {
  "kernelspec": {
   "display_name": "Python 3",
   "language": "python",
   "name": "python3"
  },
  "language_info": {
   "codemirror_mode": {
    "name": "ipython",
    "version": 3
   },
   "file_extension": ".py",
   "mimetype": "text/x-python",
   "name": "python",
   "nbconvert_exporter": "python",
   "pygments_lexer": "ipython3",
   "version": "3.7.4"
  }
 },
 "nbformat": 4,
 "nbformat_minor": 2
}
