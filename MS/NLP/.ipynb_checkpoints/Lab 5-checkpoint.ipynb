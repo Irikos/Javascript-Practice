{
 "cells": [
  {
   "cell_type": "code",
   "execution_count": 1,
   "metadata": {},
   "outputs": [
    {
     "name": "stderr",
     "output_type": "stream",
     "text": [
      "[nltk_data] Downloading package stopwords to /home/irikos/nltk_data...\n",
      "[nltk_data]   Package stopwords is already up-to-date!\n"
     ]
    },
    {
     "data": {
      "text/plain": [
       "Synset('savings_bank.n.02')"
      ]
     },
     "execution_count": 1,
     "metadata": {},
     "output_type": "execute_result"
    }
   ],
   "source": [
    "import nltk\n",
    "nltk.download('stopwords')\n",
    "from nltk.corpus import stopwords\n",
    "from nltk.corpus import wordnet\n",
    "import numpy as np\n",
    "\n",
    "from nltk.wsd import lesk\n",
    "lesk(nltk.word_tokenize('I went to the bank to deposit money.'),'bank')"
   ]
  },
  {
   "cell_type": "code",
   "execution_count": 39,
   "metadata": {},
   "outputs": [],
   "source": [
    "# 1. Implement Original Lesk algorithm with the help of a function that computes the score for two \n",
    "# given glosses. For a given text and a given word, try to find the sense of that word, considering \n",
    "# the Lesk measure. Check your result with the already implemented (simplified) lesk algorithm in \n",
    "# nltk. You may have different results, as the simplified Lesk algorithm compares the target word \n",
    "# glosses with the words from the context (not their definitions).\n",
    "def get_context(sentence):\n",
    "    sentence_split = nltk.word_tokenize(sentence.lower())    \n",
    "    only_words = [word.lower() for word in sentence_split if word.isalnum()]\n",
    "    relevant_words = [word for word in only_words if word not in stopwords.words('english')]\n",
    "    return relevant_words\n",
    "\n",
    "def simplified_lesk(sentence, word, part_of_speech):\n",
    "    best_sense = \"\"\n",
    "    max_overlap = 0\n",
    "    context = get_context(sentence)\n",
    "    for synset in wordnet.synsets(word):\n",
    "        if (str(synset.pos()) == part_of_speech):\n",
    "            overlap = 0\n",
    "            split_def = synset.definition().split(' ')\n",
    "            polished_def = [word for word in split_def if word not in stopwords.words('english')]\n",
    "\n",
    "            intersection = get_intersection(context, polished_def)\n",
    "            overlap += len(intersection)\n",
    "\n",
    "            for example in synset.examples():\n",
    "                example_context = get_context(example)\n",
    "                example_intersection = np.intersect1d(context, example_context)\n",
    "\n",
    "                overlap += len(example_intersection)\n",
    "            if (overlap > max_overlap):\n",
    "                max_overlap = overlap\n",
    "                best_sense = synset\n",
    "    return (best_sense)\n",
    "\n",
    "def get_intersection(gloss1, gloss2):\n",
    "    return np.intersect1d(gloss1, gloss2)\n",
    "    \n",
    "    "
   ]
  },
  {
   "cell_type": "code",
   "execution_count": 40,
   "metadata": {},
   "outputs": [
    {
     "data": {
      "text/plain": [
       "Synset('bank.v.02')"
      ]
     },
     "execution_count": 40,
     "metadata": {},
     "output_type": "execute_result"
    }
   ],
   "source": [
    "sentence = 'Students enjoy going to school, studying and reading books'\n",
    "word = 'school'\n",
    "\n",
    "sentence2 = \"I went to the bank to deposit money.\"\n",
    "word2 = 'bank'\n",
    "simplified_lesk(sentence2, word2, 'v')"
   ]
  },
  {
   "cell_type": "code",
   "execution_count": 129,
   "metadata": {},
   "outputs": [],
   "source": [
    "# 2. Implement extended Lesk algorithm. For a list of 7-10 words, print the measure for each pair of \n",
    "# words (without repeating the words). Just like in the former exercise, try to obtain the word sense \n",
    "# for the given text and word. Can you find a text and word where simple Lesk gives the wrong answer, \n",
    "# however extended Lesk gives the right answer?\n",
    "\n",
    "def extended_lesk(sentence, word):\n",
    "    return 0\n",
    "\n",
    "def compute_score(syn1, syn2):\n",
    "    syn1 = wordnet.synsets(syn1)[0]\n",
    "    syn2 = wordnet.synsets(syn2)[0]\n",
    "    syn1_all = return_all(syn1)\n",
    "    syn2_all = return_all(syn2)\n",
    "    common = longest_common_sentence(syn1_all, syn2_all)\n",
    "    common_all = \"\"\n",
    "    score = 0\n",
    "    while(len(common) != 0):\n",
    "        if (common_all.find(common) == -1):\n",
    "            score += len(common)\n",
    "        syn1_all.replace(common, '')\n",
    "        syn2_all.replace(common, '')\n",
    "        common = longest_common_sentence(syn1_all, syn2_all)\n",
    "        print(syn1_all)\n",
    "        \n",
    "    \n",
    "\n",
    "def return_all(synset):\n",
    "    syn_all = \"\"\n",
    "    for hyp in synset.hypernyms():\n",
    "        syn_all += \" \" + hyp.definition().lower()\n",
    "    for hyp in synset.hyponyms():\n",
    "        syn_all += \" \" + hyp.definition().lower()\n",
    "    for hyp in synset.part_meronyms():\n",
    "        syn_all += \" \" + hyp.definition().lower()\n",
    "    for hyp in synset.substance_meronyms():\n",
    "        syn_all += \" \" + hyp.definition().lower()\n",
    "    for hyp in synset.member_meronyms():\n",
    "        syn_all += \" \" + hyp.definition().lower()\n",
    "    for hyp in synset.similar_tos():\n",
    "        syn_all += \" \" + hyp.definition().lower()\n",
    "    for hyp in synset.also_sees():\n",
    "        syn_all += \" \" + hyp.definition().lower()\n",
    "    return syn_all\n",
    "\n",
    "### taken from stackoverflow\n",
    "def longest_common_substring(s1, s2):\n",
    "    m = [[0] * (1 + len(s2)) for i in range(1 + len(s1))]\n",
    "    longest, x_longest = 0, 0\n",
    "    for x in range(1, 1 + len(s1)):\n",
    "        for y in range(1, 1 + len(s2)):\n",
    "            if s1[x - 1] == s2[y - 1]:\n",
    "                m[x][y] = m[x - 1][y - 1] + 1\n",
    "            if m[x][y] > longest:\n",
    "                longest = m[x][y]\n",
    "                x_longest = x\n",
    "            else:\n",
    "                m[x][y] = 0\n",
    "    return s1[x_longest - longest: x_longest]\n",
    "\n",
    "def longest_common_sentence(s1, s2):\n",
    "    s1_words = s1.split(' ')\n",
    "    s2_words = s2.split(' ')  \n",
    "    return ' '.join(longest_common_substring(s1_words, s2_words))\n",
    "\n"
   ]
  },
  {
   "cell_type": "code",
   "execution_count": 130,
   "metadata": {},
   "outputs": [
    {
     "ename": "KeyboardInterrupt",
     "evalue": "",
     "output_type": "error",
     "traceback": [
      "\u001b[0;31m---------------------------------------------------------------------------\u001b[0m",
      "\u001b[0;31mKeyboardInterrupt\u001b[0m                         Traceback (most recent call last)",
      "\u001b[0;32m<ipython-input-130-134513122b9c>\u001b[0m in \u001b[0;36m<module>\u001b[0;34m\u001b[0m\n\u001b[0;32m----> 1\u001b[0;31m \u001b[0mcompute_score\u001b[0m\u001b[0;34m(\u001b[0m\u001b[0;34m'bank'\u001b[0m\u001b[0;34m,\u001b[0m \u001b[0;34m'bank'\u001b[0m\u001b[0;34m)\u001b[0m\u001b[0;34m\u001b[0m\u001b[0;34m\u001b[0m\u001b[0m\n\u001b[0m",
      "\u001b[0;32m<ipython-input-129-d59c390962e8>\u001b[0m in \u001b[0;36mcompute_score\u001b[0;34m(syn1, syn2)\u001b[0m\n\u001b[1;32m     20\u001b[0m         \u001b[0msyn1_all\u001b[0m\u001b[0;34m.\u001b[0m\u001b[0mreplace\u001b[0m\u001b[0;34m(\u001b[0m\u001b[0mcommon\u001b[0m\u001b[0;34m,\u001b[0m \u001b[0;34m''\u001b[0m\u001b[0;34m)\u001b[0m\u001b[0;34m\u001b[0m\u001b[0;34m\u001b[0m\u001b[0m\n\u001b[1;32m     21\u001b[0m         \u001b[0msyn2_all\u001b[0m\u001b[0;34m.\u001b[0m\u001b[0mreplace\u001b[0m\u001b[0;34m(\u001b[0m\u001b[0mcommon\u001b[0m\u001b[0;34m,\u001b[0m \u001b[0;34m''\u001b[0m\u001b[0;34m)\u001b[0m\u001b[0;34m\u001b[0m\u001b[0;34m\u001b[0m\u001b[0m\n\u001b[0;32m---> 22\u001b[0;31m         \u001b[0mcommon\u001b[0m \u001b[0;34m=\u001b[0m \u001b[0mlongest_common_sentence\u001b[0m\u001b[0;34m(\u001b[0m\u001b[0msyn1_all\u001b[0m\u001b[0;34m,\u001b[0m \u001b[0msyn2_all\u001b[0m\u001b[0;34m)\u001b[0m\u001b[0;34m\u001b[0m\u001b[0;34m\u001b[0m\u001b[0m\n\u001b[0m\u001b[1;32m     23\u001b[0m \u001b[0;34m\u001b[0m\u001b[0m\n\u001b[1;32m     24\u001b[0m \u001b[0;34m\u001b[0m\u001b[0m\n",
      "\u001b[0;32m<ipython-input-129-d59c390962e8>\u001b[0m in \u001b[0;36mlongest_common_sentence\u001b[0;34m(s1, s2)\u001b[0m\n\u001b[1;32m     60\u001b[0m     \u001b[0ms1_words\u001b[0m \u001b[0;34m=\u001b[0m \u001b[0ms1\u001b[0m\u001b[0;34m.\u001b[0m\u001b[0msplit\u001b[0m\u001b[0;34m(\u001b[0m\u001b[0;34m' '\u001b[0m\u001b[0;34m)\u001b[0m\u001b[0;34m\u001b[0m\u001b[0;34m\u001b[0m\u001b[0m\n\u001b[1;32m     61\u001b[0m     \u001b[0ms2_words\u001b[0m \u001b[0;34m=\u001b[0m \u001b[0ms2\u001b[0m\u001b[0;34m.\u001b[0m\u001b[0msplit\u001b[0m\u001b[0;34m(\u001b[0m\u001b[0;34m' '\u001b[0m\u001b[0;34m)\u001b[0m\u001b[0;34m\u001b[0m\u001b[0;34m\u001b[0m\u001b[0m\n\u001b[0;32m---> 62\u001b[0;31m     \u001b[0;32mreturn\u001b[0m \u001b[0;34m' '\u001b[0m\u001b[0;34m.\u001b[0m\u001b[0mjoin\u001b[0m\u001b[0;34m(\u001b[0m\u001b[0mlongest_common_substring\u001b[0m\u001b[0;34m(\u001b[0m\u001b[0ms1_words\u001b[0m\u001b[0;34m,\u001b[0m \u001b[0ms2_words\u001b[0m\u001b[0;34m)\u001b[0m\u001b[0;34m)\u001b[0m\u001b[0;34m\u001b[0m\u001b[0;34m\u001b[0m\u001b[0m\n\u001b[0m\u001b[1;32m     63\u001b[0m \u001b[0;34m\u001b[0m\u001b[0m\n",
      "\u001b[0;32m<ipython-input-129-d59c390962e8>\u001b[0m in \u001b[0;36mlongest_common_substring\u001b[0;34m(s1, s2)\u001b[0m\n\u001b[1;32m     50\u001b[0m             \u001b[0;32mif\u001b[0m \u001b[0ms1\u001b[0m\u001b[0;34m[\u001b[0m\u001b[0mx\u001b[0m \u001b[0;34m-\u001b[0m \u001b[0;36m1\u001b[0m\u001b[0;34m]\u001b[0m \u001b[0;34m==\u001b[0m \u001b[0ms2\u001b[0m\u001b[0;34m[\u001b[0m\u001b[0my\u001b[0m \u001b[0;34m-\u001b[0m \u001b[0;36m1\u001b[0m\u001b[0;34m]\u001b[0m\u001b[0;34m:\u001b[0m\u001b[0;34m\u001b[0m\u001b[0;34m\u001b[0m\u001b[0m\n\u001b[1;32m     51\u001b[0m                 \u001b[0mm\u001b[0m\u001b[0;34m[\u001b[0m\u001b[0mx\u001b[0m\u001b[0;34m]\u001b[0m\u001b[0;34m[\u001b[0m\u001b[0my\u001b[0m\u001b[0;34m]\u001b[0m \u001b[0;34m=\u001b[0m \u001b[0mm\u001b[0m\u001b[0;34m[\u001b[0m\u001b[0mx\u001b[0m \u001b[0;34m-\u001b[0m \u001b[0;36m1\u001b[0m\u001b[0;34m]\u001b[0m\u001b[0;34m[\u001b[0m\u001b[0my\u001b[0m \u001b[0;34m-\u001b[0m \u001b[0;36m1\u001b[0m\u001b[0;34m]\u001b[0m \u001b[0;34m+\u001b[0m \u001b[0;36m1\u001b[0m\u001b[0;34m\u001b[0m\u001b[0;34m\u001b[0m\u001b[0m\n\u001b[0;32m---> 52\u001b[0;31m             \u001b[0;32mif\u001b[0m \u001b[0mm\u001b[0m\u001b[0;34m[\u001b[0m\u001b[0mx\u001b[0m\u001b[0;34m]\u001b[0m\u001b[0;34m[\u001b[0m\u001b[0my\u001b[0m\u001b[0;34m]\u001b[0m \u001b[0;34m>\u001b[0m \u001b[0mlongest\u001b[0m\u001b[0;34m:\u001b[0m\u001b[0;34m\u001b[0m\u001b[0;34m\u001b[0m\u001b[0m\n\u001b[0m\u001b[1;32m     53\u001b[0m                 \u001b[0mlongest\u001b[0m \u001b[0;34m=\u001b[0m \u001b[0mm\u001b[0m\u001b[0;34m[\u001b[0m\u001b[0mx\u001b[0m\u001b[0;34m]\u001b[0m\u001b[0;34m[\u001b[0m\u001b[0my\u001b[0m\u001b[0;34m]\u001b[0m\u001b[0;34m\u001b[0m\u001b[0;34m\u001b[0m\u001b[0m\n\u001b[1;32m     54\u001b[0m                 \u001b[0mx_longest\u001b[0m \u001b[0;34m=\u001b[0m \u001b[0mx\u001b[0m\u001b[0;34m\u001b[0m\u001b[0;34m\u001b[0m\u001b[0m\n",
      "\u001b[0;31mKeyboardInterrupt\u001b[0m: "
     ]
    }
   ],
   "source": [
    "compute_score('bank', 'bank')"
   ]
  },
  {
   "cell_type": "code",
   "execution_count": null,
   "metadata": {},
   "outputs": [],
   "source": []
  },
  {
   "cell_type": "code",
   "execution_count": null,
   "metadata": {},
   "outputs": [],
   "source": []
  }
 ],
 "metadata": {
  "kernelspec": {
   "display_name": "Python 3",
   "language": "python",
   "name": "python3"
  },
  "language_info": {
   "codemirror_mode": {
    "name": "ipython",
    "version": 3
   },
   "file_extension": ".py",
   "mimetype": "text/x-python",
   "name": "python",
   "nbconvert_exporter": "python",
   "pygments_lexer": "ipython3",
   "version": "3.7.6"
  }
 },
 "nbformat": 4,
 "nbformat_minor": 4
}
