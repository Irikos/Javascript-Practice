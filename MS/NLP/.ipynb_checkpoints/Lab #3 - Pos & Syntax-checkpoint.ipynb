{
 "cells": [
  {
   "cell_type": "code",
   "execution_count": 2,
   "metadata": {},
   "outputs": [],
   "source": [
    "import os\n",
    "import wikipedia\n",
    "import nltk\n",
    "from nltk.tag.stanford import StanfordPOSTagger"
   ]
  },
  {
   "cell_type": "code",
   "execution_count": 3,
   "metadata": {},
   "outputs": [],
   "source": [
    "tagger=StanfordPOSTagger('./english-bidirectional-distsim.tagger', './stanford-postagger.jar')"
   ]
  },
  {
   "cell_type": "code",
   "execution_count": 4,
   "metadata": {},
   "outputs": [
    {
     "data": {
      "text/plain": [
       "[('I', 'PRP'), ('saw', 'VBD'), ('a', 'DT'), ('cat', 'NN')]"
      ]
     },
     "execution_count": 4,
     "metadata": {},
     "output_type": "execute_result"
    }
   ],
   "source": [
    "tagger.tag([\"I\",\"saw\",\"a\",\"cat\"])"
   ]
  },
  {
   "cell_type": "code",
   "execution_count": 5,
   "metadata": {},
   "outputs": [
    {
     "name": "stdout",
     "output_type": "stream",
     "text": [
      "Elon Musk\n",
      "['Elon', 'Reeve', 'Musk', 'born', 'June', '28', '1971', 'is', 'an', 'engineer', 'industrial', 'designer', 'technology', 'entrepreneur', 'and', 'philanthropist', 'He', 'is', 'a', 'citizen', 'of', 'South', 'Africa', 'the', 'United', 'States', 'where', 'he', 'has', 'lived', 'most', 'of', 'his', 'life', 'and', 'currently', 'resides', 'and', 'Canada', 'He', 'is', 'the', 'founder', 'CEO', 'and', 'chief', 'engineer', 'designer', 'of', 'SpaceX', 'co', 'founder', 'CEO', 'and', 'product', 'architect', 'of', 'Tesla', 'Inc', 'founder', 'of', 'The', 'Boring', 'Company', 'co', 'founder', 'of', 'Neuralink', 'and', 'co', 'founder', 'and', 'initial', 'co', 'chairman', 'of', 'OpenAI', 'He', 'was', 'elected', 'a', 'Fellow', 'of', 'the', 'Royal', 'Society', 'FRS', 'in', '2018', 'In', 'December', '2016', 'he', 'was', 'ranked', '21st', 'on', 'the', 'Forbes', 'list', 'of', 'The', 'World', 's', 'Most', 'Powerful', 'People', 'and', 'was', 'ranked', 'joint', 'first', 'on', 'the', 'Forbes', 'list', 'of', 'the', 'Most', 'Innovative', 'Leaders', 'of', '2019', 'As', 'of', 'May', '2020', 'he', 'has', 'a', 'net', 'worth', 'of', '36', '5', 'billion', 'and', 'is', 'listed', 'by', 'Forbes', 'as', 'the', '31st', 'richest', 'person', 'in', 'the', 'world', 'He', 'is', 'the', 'longest', 'tenured', 'CEO', 'of', 'any', 'automotive', 'manufacturer', 'globally', 'Born', 'and', 'raised', 'in', 'Pretoria', 'South', 'Africa', 'Musk', 'briefly', 'attended', 'the', 'University', 'of', 'Pretoria', 'before', 'moving', 'to', 'Canada', 'when', 'he', 'was', '17', 'to', 'attend', 'Queen', 's', 'University', 'He', 'transferred', 'to', 'the', 'University', 'of', 'Pennsylvania', 'two', 'years', 'later', 'where', 'he', 'received']\n",
      "[('Elon', 'NNP'), ('Reeve', 'NNP'), ('Musk', 'NNP'), ('born', 'VBN'), ('June', 'NNP'), ('28', 'CD'), ('1971', 'CD'), ('is', 'VBZ'), ('an', 'DT'), ('engineer', 'NN'), ('industrial', 'JJ'), ('designer', 'NN'), ('technology', 'NN'), ('entrepreneur', 'NN'), ('and', 'CC'), ('philanthropist', 'NN')]\n",
      "[('He', 'PRP'), ('is', 'VBZ'), ('a', 'DT'), ('citizen', 'NN'), ('of', 'IN'), ('South', 'NNP'), ('Africa', 'NNP'), ('the', 'DT'), ('United', 'NNP'), ('States', 'NNPS'), ('where', 'WRB'), ('he', 'PRP'), ('has', 'VBZ'), ('lived', 'VBN'), ('most', 'JJS'), ('of', 'IN'), ('his', 'PRP$'), ('life', 'NN'), ('and', 'CC'), ('currently', 'RB'), ('resides', 'VBZ'), ('and', 'CC'), ('Canada', 'NNP')]\n",
      "[('He', 'PRP'), ('is', 'VBZ'), ('the', 'DT'), ('founder', 'NN'), ('CEO', 'NN'), ('and', 'CC'), ('chief', 'JJ'), ('engineer', 'NN'), ('designer', 'NN'), ('of', 'IN'), ('SpaceX', 'FW'), ('co', 'FW'), ('founder', 'NN'), ('CEO', 'NN'), ('and', 'CC'), ('product', 'NN'), ('architect', 'NN'), ('of', 'IN'), ('Tesla', 'NNP'), ('Inc', 'NNP'), ('founder', 'NN'), ('of', 'IN'), ('The', 'DT'), ('Boring', 'JJ'), ('Company', 'NN'), ('co', 'NN'), ('founder', 'NN'), ('of', 'IN'), ('Neuralink', 'NN'), ('and', 'CC'), ('co', 'NN'), ('founder', 'NN'), ('and', 'CC'), ('initial', 'JJ'), ('co', 'NN'), ('chairman', 'NN'), ('of', 'IN'), ('OpenAI', 'NN')]\n",
      "[('He', 'PRP'), ('was', 'VBD'), ('elected', 'VBN'), ('a', 'DT'), ('Fellow', 'NNP'), ('of', 'IN'), ('the', 'DT'), ('Royal', 'NNP'), ('Society', 'NNP'), ('FRS', 'NNP'), ('in', 'IN'), ('2018', 'CD')]\n",
      "[('In', 'IN'), ('December', 'NNP'), ('2016', 'CD'), ('he', 'PRP'), ('was', 'VBD'), ('ranked', 'VBN'), ('21st', 'JJ'), ('on', 'IN'), ('the', 'DT'), ('Forbes', 'NNP'), ('list', 'NN'), ('of', 'IN'), ('The', 'DT'), ('World', 'NNP'), ('s', 'NN'), ('Most', 'NNP'), ('Powerful', 'NNP'), ('People', 'NNP'), ('and', 'CC'), ('was', 'VBD'), ('ranked', 'VBN'), ('joint', 'JJ'), ('first', 'RB'), ('on', 'IN'), ('the', 'DT'), ('Forbes', 'NNP'), ('list', 'NN'), ('of', 'IN'), ('the', 'DT'), ('Most', 'JJS'), ('Innovative', 'JJ'), ('Leaders', 'NNS'), ('of', 'IN'), ('2019', 'CD')]\n",
      "[('As', 'IN'), ('of', 'IN'), ('May', 'NNP'), ('2020', 'CD'), ('he', 'PRP'), ('has', 'VBZ'), ('a', 'DT'), ('net', 'JJ'), ('worth', 'NN'), ('of', 'IN'), ('36', 'CD'), ('5', 'CD'), ('billion', 'CD'), ('and', 'CC'), ('is', 'VBZ'), ('listed', 'VBN'), ('by', 'IN'), ('Forbes', 'NNP'), ('as', 'IN'), ('the', 'DT'), ('31st', 'JJ'), ('richest', 'JJS'), ('person', 'NN'), ('in', 'IN'), ('the', 'DT'), ('world', 'NN')]\n",
      "[('He', 'PRP'), ('is', 'VBZ'), ('the', 'DT'), ('longest', 'JJS'), ('tenured', 'JJ'), ('CEO', 'NN'), ('of', 'IN'), ('any', 'DT'), ('automotive', 'JJ'), ('manufacturer', 'NN'), ('globally', 'RB'), ('Born', 'VBN'), ('and', 'CC'), ('raised', 'VBN'), ('in', 'IN'), ('Pretoria', 'NNP'), ('South', 'NNP'), ('Africa', 'NNP'), ('Musk', 'NNP'), ('briefly', 'NN'), ('attended', 'VBD'), ('the', 'DT'), ('University', 'NNP'), ('of', 'IN'), ('Pretoria', 'NNP'), ('before', 'IN'), ('moving', 'VBG'), ('to', 'TO'), ('Canada', 'NNP'), ('when', 'WRB'), ('he', 'PRP'), ('was', 'VBD'), ('17', 'CD'), ('to', 'TO'), ('attend', 'VB'), ('Queen', 'NNP'), ('s', 'NN'), ('University', 'NNP')]\n",
      "[('He', 'PRP'), ('transferred', 'VBD'), ('to', 'TO'), ('the', 'DT'), ('University', 'NNP'), ('of', 'IN'), ('Pennsylvania', 'NNP'), ('two', 'CD'), ('years', 'NNS'), ('later', 'RB'), ('where', 'WRB'), ('he', 'PRP'), ('received', 'VBD'), ('a', 'DT'), ('bachelor', 'NN'), ('s', 'NN'), ('degree', 'NN'), ('in', 'IN'), ('economics', 'NNS'), ('from', 'IN'), ('the', 'DT'), ('Wharton', 'NNP'), ('School', 'NNP'), ('and', 'CC'), ('a', 'DT'), ('bachelor', 'NN'), ('s', 'NN'), ('degree', 'NN'), ('in', 'IN'), ('physics', 'NNS'), ('from', 'IN'), ('the', 'DT'), ('College', 'NNP'), ('of', 'IN'), ('Arts', 'NNP'), ('and', 'CC'), ('Sciences', 'NNP')]\n",
      "[('He', 'PRP'), ('began', 'VBD'), ('a', 'DT'), ('Ph', 'NN'), ('D', 'NN'), ('in', 'IN'), ('applied', 'JJ'), ('physics', 'NNS'), ('and', 'CC'), ('material', 'NN'), ('sciences', 'NNS'), ('at', 'IN'), ('Stanford', 'NNP'), ('University', 'NNP'), ('in', 'IN'), ('1995', 'CD'), ('but', 'CC'), ('dropped', 'VBD'), ('out', 'RP'), ('after', 'IN'), ('two', 'CD'), ('days', 'NNS'), ('to', 'TO'), ('pursue', 'VB'), ('a', 'DT'), ('business', 'NN'), ('career', 'NN')]\n",
      "[('He', 'PRP'), ('subsequently', 'RB'), ('co', 'RB'), ('founded', 'VBN'), ('with', 'IN'), ('his', 'PRP$'), ('brother', 'NN'), ('Kimbal', 'NNP'), ('Zip2', 'NN'), ('a', 'DT'), ('web', 'NN'), ('software', 'NN'), ('company', 'NN'), ('which', 'WDT'), ('was', 'VBD'), ('acquired', 'VBN'), ('by', 'IN'), ('Compaq', 'NNP'), ('for', 'IN'), ('340', 'CD'), ('million', 'CD'), ('in', 'IN'), ('1999', 'CD')]\n",
      "[('Musk', 'NNP'), ('then', 'RB'), ('founded', 'VBD'), ('X', 'NN'), ('com', 'NN'), ('an', 'DT'), ('online', 'JJ'), ('bank', 'NN')]\n",
      "[('It', 'PRP'), ('merged', 'VBD'), ('with', 'IN'), ('Confinity', 'NN'), ('in', 'IN'), ('2000', 'CD'), ('which', 'WDT'), ('had', 'VBD'), ('launched', 'VBN'), ('PayPal', 'NNP'), ('the', 'DT'), ('previous', 'JJ'), ('year', 'NN'), ('and', 'CC'), ('was', 'VBD'), ('subsequently', 'RB'), ('bought', 'VBN'), ('by', 'IN'), ('eBay', 'NNP'), ('for', 'IN'), ('1', 'CD'), ('5', 'CD'), ('billion', 'CD'), ('in', 'IN'), ('October', 'NNP'), ('2002', 'CD'), ('In', 'NNP'), ('May', 'NNP'), ('2002', 'CD'), ('Musk', 'NNP'), ('founded', 'VBD'), ('SpaceX', 'NNP'), ('an', 'DT'), ('aerospace', 'NN'), ('manufacturer', 'NN'), ('and', 'CC'), ('space', 'NN'), ('transport', 'NN'), ('services', 'NNS'), ('company', 'NN'), ('of', 'IN'), ('which', 'WDT'), ('he', 'PRP'), ('is', 'VBZ'), ('CEO', 'NN'), ('and', 'CC'), ('lead', 'NN'), ('designer', 'NN')]\n",
      "[('He', 'PRP'), ('joined', 'VBD'), ('Tesla', 'NNP'), ('Motors', 'NNP'), ('Inc', 'NNP'), ('now', 'RB'), ('Tesla', 'NNP'), ('Inc', 'NNP'), ('an', 'DT'), ('electric', 'JJ'), ('vehicle', 'NN'), ('manufacturer', 'NN'), ('in', 'IN'), ('2004', 'CD'), ('the', 'DT'), ('year', 'NN'), ('after', 'IN'), ('it', 'PRP'), ('was', 'VBD'), ('founded', 'VBN'), ('and', 'CC'), ('became', 'VBD'), ('its', 'PRP$'), ('CEO', 'NN'), ('and', 'CC'), ('product', 'NN'), ('architect', 'NN')]\n",
      "[('In', 'IN'), ('2006', 'CD'), ('he', 'PRP'), ('inspired', 'VBD'), ('the', 'DT'), ('creation', 'NN'), ('of', 'IN'), ('SolarCity', 'NNP'), ('a', 'DT'), ('solar', 'JJ'), ('energy', 'NN'), ('services', 'NNS'), ('company', 'NN'), ('now', 'RB'), ('a', 'DT'), ('subsidiary', 'NN'), ('of', 'IN'), ('Tesla', 'NNP')]\n",
      "[('In', 'IN'), ('2015', 'CD'), ('Musk', 'NN'), ('co', 'NN'), ('founded', 'VBD'), ('OpenAI', 'NN'), ('a', 'DT'), ('nonprofit', 'JJ'), ('research', 'NN'), ('company', 'NN'), ('that', 'WDT'), ('aims', 'VBZ'), ('to', 'TO'), ('promote', 'VB'), ('friendly', 'JJ'), ('artificial', 'JJ'), ('intelligence', 'NN')]\n",
      "[('In', 'IN'), ('July', 'NNP'), ('2016', 'CD'), ('he', 'PRP'), ('co', 'RB'), ('founded', 'VBD'), ('Neuralink', 'NNP'), ('a', 'DT'), ('neurotechnology', 'NN'), ('company', 'NN'), ('focused', 'VBD'), ('on', 'IN'), ('developing', 'VBG'), ('brain', 'NN'), ('computer', 'NN'), ('interfaces', 'NNS')]\n",
      "[('In', 'IN'), ('December', 'NNP'), ('2016', 'CD'), ('Musk', 'NNP'), ('founded', 'VBD'), ('The', 'DT'), ('Boring', 'JJ'), ('Company', 'NN'), ('an', 'DT'), ('infrastructure', 'NN'), ('and', 'CC'), ('tunnel', 'NN'), ('construction', 'NN'), ('company', 'NN'), ('focused', 'VBD'), ('on', 'IN'), ('tunnels', 'NNS'), ('optimized', 'VBN'), ('for', 'IN'), ('electric', 'JJ'), ('vehicles', 'NNS')]\n",
      "[('Apart', 'RB'), ('from', 'IN'), ('Tesla', 'NNP'), ('Musk', 'NNP'), ('is', 'VBZ'), ('not', 'RB'), ('an', 'DT'), ('investor', 'NN'), ('in', 'IN'), ('the', 'DT'), ('stock', 'NN'), ('market', 'NN')]\n",
      "[('In', 'IN'), ('addition', 'NN'), ('to', 'TO'), ('his', 'PRP$'), ('primary', 'JJ'), ('business', 'NN'), ('pursuits', 'NNS'), ('Musk', 'NNP'), ('has', 'VBZ'), ('envisioned', 'VBN'), ('a', 'DT'), ('high', 'JJ'), ('speed', 'NN'), ('transportation', 'NN'), ('system', 'NN'), ('known', 'VBN'), ('as', 'IN'), ('the', 'DT'), ('Hyperloop', 'NNP'), ('and', 'CC'), ('has', 'VBZ'), ('proposed', 'VBN'), ('a', 'DT'), ('vertical', 'JJ'), ('take', 'NN'), ('off', 'RP'), ('and', 'CC'), ('landing', 'NN'), ('supersonic', 'JJ'), ('jet', 'NN'), ('electric', 'JJ'), ('aircraft', 'NN'), ('with', 'IN'), ('electric', 'JJ'), ('fan', 'NN'), ('propulsion', 'NN'), ('known', 'VBN'), ('as', 'IN'), ('the', 'DT'), ('Musk', 'NNP'), ('electric', 'JJ'), ('jet', 'NN')]\n",
      "[('Musk', 'NNP'), ('has', 'VBZ'), ('said', 'VBD'), ('the', 'DT'), ('goals', 'NNS'), ('of', 'IN'), ('SpaceX', 'NNP'), ('Tesla', 'NNP'), ('and', 'CC'), ('SolarCity', 'NNP'), ('revolve', 'VB'), ('around', 'IN'), ('his', 'PRP$'), ('vision', 'NN'), ('to', 'TO'), ('change', 'VB'), ('the', 'DT'), ('world', 'NN'), ('and', 'CC'), ('help', 'NN'), ('humanity', 'NN')]\n"
     ]
    }
   ],
   "source": [
    "# we're gonna use the Elon Musk page in this homework, just like in the 2nd homework\n",
    "# note: the page cannot be found by 'Elon Musk', as is the link\n",
    "\n",
    "# 1.1 Choose a wikipedia article. You will download and acces the article using this python module: wikipedia. \n",
    "# Use the content property to extract the text. Print the title of the article and the first N=200 words from \n",
    "# the article to verify that all works well. Print the POS-tagging for the first N=20 sentences.\n",
    "\n",
    "page = wikipedia.page('Musk Elon')\n",
    "title = page.title\n",
    "content = page.content\n",
    "\n",
    "\n",
    "# title of the article and the first N=200 words\n",
    "print(title)\n",
    "\n",
    "tokenizer = nltk.RegexpTokenizer(r\"\\w+\")\n",
    "only_words = tokenizer.tokenize(content)\n",
    "print(only_words[:200])\n",
    "\n",
    "# The POS-tagging for the first N=20 sentences.\n",
    "sentences = nltk.sent_tokenize(content)\n",
    "for sentence in sentences[:20]:\n",
    "    sentence_words = tokenizer.tokenize(sentence)\n",
    "    print(tagger.tag(sentence_words))\n",
    "\n",
    "# I initially did this, but feel that the for approach is clerer for each sentence.\n",
    "# tagger.tag(sentences[:20])"
   ]
  },
  {
   "cell_type": "code",
   "execution_count": 13,
   "metadata": {},
   "outputs": [
    {
     "name": "stdout",
     "output_type": "stream",
     "text": [
      "['designer,', 'technology', 'entrepreneur', 'philanthropist.', 'citizen', '(where', 'life', 'engineer/designer', 'CEO', 'product', 'architect', 'founder', 'Company;', 'co-founder', 'Neuralink;', 'co-founder', 'co-chairman', 'OpenAI.', 'list', 'list']\n",
      "PRP\n",
      "RB\n",
      "NN\n",
      "[['He', 'he', 'He', 'He', 'he'], ['currently'], ['designer,', 'technology', 'entrepreneur', 'philanthropist.', 'citizen', '(where', 'life', 'engineer/designer', 'CEO', 'product', 'architect', 'founder', 'Company;', 'co-founder', 'Neuralink;', 'co-founder', 'co-chairman', 'OpenAI.', 'list', 'list']]\n"
     ]
    }
   ],
   "source": [
    "# 1.2 \n",
    "# Create a function that receives a part of speech tag and returns a list with all the words from \n",
    "# the text (can be given as a parameter too) that represent that part of speech. \n",
    "def find_speech_parts(part_of_speech, text):\n",
    "    returned_list = []\n",
    "    for tag in tagger.tag(text):\n",
    "        if (part_of_speech == tag[1]):\n",
    "            returned_list.append(tag[0])\n",
    "    return returned_list\n",
    "\n",
    "print (find_speech_parts('NN', sentences[:5]))\n",
    "\n",
    "# Create a function that receives a list of POS tags and returns a list with words having any of \n",
    "# the given POS tags (use the first function in implementing the second one).\n",
    "def find_words_by_pos(pos_tag_list, text):\n",
    "    returned_list = []\n",
    "    for tag in pos_tag_list:\n",
    "        returned_list.append(find_speech_parts(tag, text))\n",
    "    return returned_list\n",
    "\n",
    "\n",
    "print (find_words_by_pos(['PRP', 'RB', 'NN'], sentences[:5]))\n"
   ]
  },
  {
   "cell_type": "code",
   "execution_count": null,
   "metadata": {},
   "outputs": [],
   "source": [
    "\n"
   ]
  }
 ],
 "metadata": {
  "kernelspec": {
   "display_name": "Python 3",
   "language": "python",
   "name": "python3"
  },
  "language_info": {
   "codemirror_mode": {
    "name": "ipython",
    "version": 3
   },
   "file_extension": ".py",
   "mimetype": "text/x-python",
   "name": "python",
   "nbconvert_exporter": "python",
   "pygments_lexer": "ipython3",
   "version": "3.7.6"
  }
 },
 "nbformat": 4,
 "nbformat_minor": 4
}
