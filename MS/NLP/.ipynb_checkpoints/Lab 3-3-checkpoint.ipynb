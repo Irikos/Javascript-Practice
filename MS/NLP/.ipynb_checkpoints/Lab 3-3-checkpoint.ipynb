{
 "cells": [
  {
   "cell_type": "code",
   "execution_count": null,
   "metadata": {},
   "outputs": [],
   "source": [
    "# imports\n",
    "import os\n",
    "import sys\n",
    "import nltk\n",
    "from nltk.tag.stanford import StanfordPOSTagger\n",
    "from nltk.parse.stanford import StanfordParser\n",
    "from nltk.parse.stanford import StanfordDependencyParser"
   ]
  },
  {
   "cell_type": "code",
   "execution_count": null,
   "metadata": {},
   "outputs": [],
   "source": [
    "tagger=StanfordPOSTagger('./english-bidirectional-distsim.tagger', './stanford-postagger.jar')\n",
    "\n",
    "os.environ['JAVAHOME'] = \"stanford-parser.jar\"\n",
    "os.environ['STANFORD_PARSER'] = './stanford-postagger.jar'\n",
    "os.environ['STANFORD_MODELS'] = './stanford-parser-3.9.2-models.jar'\n",
    "parser = StanfordParser(model_path='./englishPCFG.ser.gz')\n",
    "dependency_parser = StanfordDependencyParser(path_to_jar=cale_parser, path_to_models_jar=cale_modele)"
   ]
  },
  {
   "cell_type": "code",
   "execution_count": 16,
   "metadata": {},
   "outputs": [
    {
     "name": "stdout",
     "output_type": "stream",
     "text": [
      "Sentence - number 1\n",
      "We have to go to the stars one day, it's the only way!\n",
      "\n",
      "Sentence - number 2\n",
      "Count me in, I'm always up for a great adventure!\n",
      "\n",
      "Sentence - number 3\n",
      "Staying inside is messing with our heads, we must be careful!\n",
      "\n",
      "Sentence - number 4\n",
      "Sure, I don't see why we didn't do it from the beginning.\n",
      "\n",
      "Sentence - number 5\n",
      "Summer is almost here, and so are the mosquitos.\n"
     ]
    }
   ],
   "source": [
    "file = open(\"Lab 3-5 sentences.txt\")\n",
    "\n",
    "sentence_index = 0\n",
    "for sentence in file:\n",
    "    sentence_index += 1\n",
    "    print('Sentence - number', sentence_index)\n",
    "    propozitie = parser.raw_parse_sents((sentence))\n",
    "    print(print(list(propozitie)))\n",
    "    dependente = dependency_parser.raw_parse(sentence)\n",
    "    for dep in dependente:\n",
    "        print(list(dep.triples()))"
   ]
  },
  {
   "cell_type": "code",
   "execution_count": null,
   "metadata": {},
   "outputs": [],
   "source": []
  }
 ],
 "metadata": {
  "kernelspec": {
   "display_name": "Python 3",
   "language": "python",
   "name": "python3"
  },
  "language_info": {
   "codemirror_mode": {
    "name": "ipython",
    "version": 3
   },
   "file_extension": ".py",
   "mimetype": "text/x-python",
   "name": "python",
   "nbconvert_exporter": "python",
   "pygments_lexer": "ipython3",
   "version": "3.7.6"
  }
 },
 "nbformat": 4,
 "nbformat_minor": 4
}
