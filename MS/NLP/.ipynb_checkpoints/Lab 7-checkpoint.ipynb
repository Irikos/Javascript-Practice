{
 "cells": [
  {
   "cell_type": "code",
   "execution_count": 1,
   "metadata": {},
   "outputs": [
    {
     "name": "stderr",
     "output_type": "stream",
     "text": [
      "[nltk_data] Downloading package stopwords to /home/irikos/nltk_data...\n",
      "[nltk_data]   Package stopwords is already up-to-date!\n",
      "[nltk_data] Downloading package senseval to /home/irikos/nltk_data...\n",
      "[nltk_data]   Package senseval is already up-to-date!\n"
     ]
    }
   ],
   "source": [
    "import nltk\n",
    "nltk.download('stopwords')\n",
    "from nltk.corpus import stopwords\n",
    "from nltk.corpus import wordnet\n",
    "from nltk.corpus import senseval\n",
    "nltk.download('senseval')\n",
    "import numpy as np\n",
    "from sklearn.metrics import confusion_matrix, accuracy_score\n",
    "from sklearn.model_selection import train_test_split\n",
    "from nltk.stem import WordNetLemmatizer\n",
    "from sklearn.naive_bayes import MultinomialNB\n",
    "import random"
   ]
  },
  {
   "cell_type": "code",
   "execution_count": 2,
   "metadata": {},
   "outputs": [],
   "source": [
    "lem=WordNetLemmatizer()"
   ]
  },
  {
   "cell_type": "code",
   "execution_count": 3,
   "metadata": {},
   "outputs": [],
   "source": [
    "def lemmatize_tuple(tupl):\n",
    "    if (tupl[0].lower() not in stopwords.words('english')):\n",
    "        if(tupl[1].lower()) in ['nn', 'nns', 'nnp', 'nnps']:\n",
    "            return ((lem.lemmatize(tupl[0], wordnet.NOUN).lower(), 'n'))\n",
    "\n",
    "        if(tupl[1].lower()) in ['vb', 'vbd', 'vbg', 'vbn', 'vbp', 'vbz']:\n",
    "            return ((lem.lemmatize(tupl[0], wordnet.VERB).lower(), 'v'))\n",
    "\n",
    "        if(tupl[1].lower()) in ['jj', 'jjr', 'jjs']:\n",
    "            return ((lem.lemmatize(tupl[0], wordnet.ADJ).lower(), 'j'))\n",
    "\n",
    "        if(tupl[1].lower() in ['rb', 'rbr', 'rbs', 'WRB']):\n",
    "            return ((lem.lemmatize(tupl[0], wordnet.ADV).lower(), 'r'))\n",
    "    \n",
    "    return False"
   ]
  },
  {
   "cell_type": "code",
   "execution_count": 4,
   "metadata": {},
   "outputs": [],
   "source": [
    "inst=senseval.instances('interest.pos')"
   ]
  },
  {
   "cell_type": "code",
   "execution_count": 5,
   "metadata": {},
   "outputs": [
    {
     "data": {
      "text/plain": [
       "(2368, 5958)"
      ]
     },
     "execution_count": 5,
     "metadata": {},
     "output_type": "execute_result"
    }
   ],
   "source": [
    "lemmatized_inst = []\n",
    "for row in inst:\n",
    "    for tup in row.context:\n",
    "        new_tup = lemmatize_tuple(tup)\n",
    "        if ((new_tup != False) and (new_tup not in lemmatized_inst)):\n",
    "            lemmatized_inst.append(new_tup)\n",
    "\n",
    "matrix = np.zeros((len(inst), len(lemmatized_inst)))\n",
    "\n",
    "matrix.shape"
   ]
  },
  {
   "cell_type": "code",
   "execution_count": 6,
   "metadata": {},
   "outputs": [],
   "source": [
    "# refactor later, wrote in a hurry\n",
    "index = 0\n",
    "for row in inst:\n",
    "    for tup in row.context:\n",
    "        new_tup = lemmatize_tuple(tup)\n",
    "        index2 = 0\n",
    "        for element in lemmatized_inst:\n",
    "            if (new_tup == element):\n",
    "                matrix[index][index2] += 1\n",
    "            index2 += 1\n",
    "    index += 1       "
   ]
  },
  {
   "cell_type": "code",
   "execution_count": 7,
   "metadata": {},
   "outputs": [],
   "source": [
    "Y = []\n",
    "for row in inst:\n",
    "    Y.append(row.senses[0])"
   ]
  },
  {
   "cell_type": "code",
   "execution_count": 8,
   "metadata": {},
   "outputs": [
    {
     "data": {
      "text/plain": [
       "(2368, 5958)"
      ]
     },
     "execution_count": 8,
     "metadata": {},
     "output_type": "execute_result"
    }
   ],
   "source": [
    "# I went with matrix initially, but moved to X for convention\n",
    "X = matrix\n",
    "# random.shuffle(X)\n",
    "X.shape"
   ]
  },
  {
   "cell_type": "code",
   "execution_count": 9,
   "metadata": {},
   "outputs": [],
   "source": [
    "X_train, X_test, y_train, y_test = train_test_split(X, Y, test_size=0.33, random_state=42)"
   ]
  },
  {
   "cell_type": "code",
   "execution_count": 10,
   "metadata": {},
   "outputs": [
    {
     "data": {
      "text/plain": [
       "MultinomialNB(alpha=1.0, class_prior=None, fit_prior=True)"
      ]
     },
     "execution_count": 10,
     "metadata": {},
     "output_type": "execute_result"
    }
   ],
   "source": [
    "clf = MultinomialNB()\n",
    "clf.fit(X_train, y_train)"
   ]
  },
  {
   "cell_type": "code",
   "execution_count": 11,
   "metadata": {},
   "outputs": [],
   "source": [
    "pred_y = clf.predict(X_test)"
   ]
  },
  {
   "cell_type": "code",
   "execution_count": 12,
   "metadata": {},
   "outputs": [
    {
     "name": "stdout",
     "output_type": "stream",
     "text": [
      "0.8516624040920716\n"
     ]
    }
   ],
   "source": [
    "acc = accuracy_score(y_test, pred_y)\n",
    "print(acc)\n",
    "\n",
    "f = open(\"lab7-output.txt\", \"w\")\n",
    "f.write(\"Accuracy: \" + str(acc))\n",
    "f.close()"
   ]
  }
 ],
 "metadata": {
  "kernelspec": {
   "display_name": "Python 3",
   "language": "python",
   "name": "python3"
  },
  "language_info": {
   "codemirror_mode": {
    "name": "ipython",
    "version": 3
   },
   "file_extension": ".py",
   "mimetype": "text/x-python",
   "name": "python",
   "nbconvert_exporter": "python",
   "pygments_lexer": "ipython3",
   "version": "3.7.6"
  }
 },
 "nbformat": 4,
 "nbformat_minor": 4
}
