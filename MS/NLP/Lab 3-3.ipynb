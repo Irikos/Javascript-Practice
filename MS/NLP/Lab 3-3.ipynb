{
 "cells": [
  {
   "cell_type": "code",
   "execution_count": 20,
   "metadata": {},
   "outputs": [],
   "source": [
    "# imports\n",
    "import os\n",
    "import sys\n",
    "import nltk\n",
    "from nltk.parse.stanford import StanfordParser\n",
    "from nltk.parse.stanford import StanfordDependencyParser"
   ]
  },
  {
   "cell_type": "code",
   "execution_count": 31,
   "metadata": {},
   "outputs": [
    {
     "name": "stderr",
     "output_type": "stream",
     "text": [
      "/home/irikos/anaconda3/lib/python3.7/site-packages/ipykernel_launcher.py:4: DeprecationWarning: The StanfordParser will be deprecated\n",
      "Please use \u001b[91mnltk.parse.corenlp.CoreNLPParser\u001b[0m instead.\n",
      "  after removing the cwd from sys.path.\n",
      "/home/irikos/anaconda3/lib/python3.7/site-packages/ipykernel_launcher.py:5: DeprecationWarning: The StanfordDependencyParser will be deprecated\n",
      "Please use \u001b[91mnltk.parse.corenlp.CoreNLPDependencyParser\u001b[0m instead.\n",
      "  \"\"\"\n"
     ]
    }
   ],
   "source": [
    "os.environ['JAVAHOME'] = \"/usr/bin/java\"\n",
    "os.environ['STANFORD_PARSER'] = './stanford-parser.jar'\n",
    "os.environ['STANFORD_MODELS'] = './stanford-parser-3.9.2-models.jar'\n",
    "parser = StanfordParser(model_path='./englishPCFG.ser.gz')\n",
    "dependency_parser = StanfordDependencyParser(path_to_jar='./stanford-parser.jar', path_to_models_jar='./englishPCFG.ser.gz')"
   ]
  },
  {
   "cell_type": "code",
   "execution_count": 52,
   "metadata": {},
   "outputs": [
    {
     "name": "stdout",
     "output_type": "stream",
     "text": [
      "Sentence - number 1\n",
      "[Tree('ROOT', [Tree('S', [Tree('S', [Tree('NP', [Tree('PRP', ['We'])]), Tree('VP', [Tree('VBP', ['have']), Tree('S', [Tree('VP', [Tree('TO', ['to']), Tree('VP', [Tree('VB', ['go']), Tree('PP', [Tree('TO', ['to']), Tree('NP', [Tree('DT', ['the']), Tree('NNS', ['stars'])])]), Tree('NP', [Tree('CD', ['one']), Tree('NN', ['day'])])])])])])]), Tree(',', [',']), Tree('NP', [Tree('PRP', ['it'])]), Tree('VP', [Tree('VBZ', [\"'s\"]), Tree('NP', [Tree('DT', ['the']), Tree('JJ', ['only']), Tree('NN', ['way'])])]), Tree('.', ['!'])])])]\n",
      "[(('way', 'NN'), 'ccomp', ('have', 'VBP')), (('have', 'VBP'), 'nsubj', ('We', 'PRP')), (('have', 'VBP'), 'xcomp', ('go', 'VB')), (('go', 'VB'), 'mark', ('to', 'TO')), (('go', 'VB'), 'nmod', ('stars', 'NNS')), (('stars', 'NNS'), 'case', ('to', 'TO')), (('stars', 'NNS'), 'det', ('the', 'DT')), (('go', 'VB'), 'nmod:tmod', ('day', 'NN')), (('day', 'NN'), 'nummod', ('one', 'CD')), (('way', 'NN'), 'nsubj', ('it', 'PRP')), (('way', 'NN'), 'cop', (\"'s\", 'VBZ')), (('way', 'NN'), 'det', ('the', 'DT')), (('way', 'NN'), 'amod', ('only', 'JJ'))]\n",
      "--------------------------------------------------------------\n",
      "Sentence - number 2\n",
      "[Tree('ROOT', [Tree('S', [Tree('S', [Tree('VP', [Tree('VB', ['Count']), Tree('NP', [Tree('PRP', ['me'])]), Tree('PP', [Tree('IN', ['in'])])])]), Tree(',', [',']), Tree('NP', [Tree('PRP', ['I'])]), Tree('VP', [Tree('VBP', [\"'m\"]), Tree('ADVP', [Tree('RB', ['always']), Tree('RB', ['up'])]), Tree('PP', [Tree('IN', ['for']), Tree('NP', [Tree('DT', ['a']), Tree('JJ', ['great']), Tree('NN', ['adventure'])])])]), Tree('.', ['!'])])])]\n",
      "[(('adventure', 'NN'), 'ccomp', ('Count', 'VB')), (('Count', 'VB'), 'dobj', ('me', 'PRP')), (('Count', 'VB'), 'nmod', ('in', 'IN')), (('adventure', 'NN'), 'nsubj', ('I', 'PRP')), (('adventure', 'NN'), 'cop', (\"'m\", 'VBP')), (('adventure', 'NN'), 'advmod', ('up', 'RB')), (('up', 'RB'), 'advmod', ('always', 'RB')), (('adventure', 'NN'), 'case', ('for', 'IN')), (('adventure', 'NN'), 'det', ('a', 'DT')), (('adventure', 'NN'), 'amod', ('great', 'JJ'))]\n",
      "--------------------------------------------------------------\n",
      "Sentence - number 3\n",
      "[Tree('ROOT', [Tree('S', [Tree('S', [Tree('S', [Tree('VP', [Tree('VBG', ['Staying']), Tree('ADVP', [Tree('RB', ['inside'])])])]), Tree('VP', [Tree('VBZ', ['is']), Tree('VP', [Tree('VBG', ['messing']), Tree('PP', [Tree('IN', ['with']), Tree('NP', [Tree('PRP$', ['our']), Tree('NNS', ['heads'])])])])])]), Tree(',', [',']), Tree('NP', [Tree('PRP', ['we'])]), Tree('VP', [Tree('MD', ['must']), Tree('VP', [Tree('VB', ['be']), Tree('ADJP', [Tree('JJ', ['careful'])])])]), Tree('.', ['!'])])])]\n",
      "[(('careful', 'JJ'), 'ccomp', ('messing', 'VBG')), (('messing', 'VBG'), 'csubj', ('Staying', 'VBG')), (('Staying', 'VBG'), 'advmod', ('inside', 'RB')), (('messing', 'VBG'), 'aux', ('is', 'VBZ')), (('messing', 'VBG'), 'nmod', ('heads', 'NNS')), (('heads', 'NNS'), 'case', ('with', 'IN')), (('heads', 'NNS'), 'nmod:poss', ('our', 'PRP$')), (('careful', 'JJ'), 'nsubj', ('we', 'PRP')), (('careful', 'JJ'), 'aux', ('must', 'MD')), (('careful', 'JJ'), 'cop', ('be', 'VB'))]\n",
      "--------------------------------------------------------------\n",
      "Sentence - number 4\n",
      "[Tree('ROOT', [Tree('S', [Tree('INTJ', [Tree('RB', ['Sure'])]), Tree(',', [',']), Tree('NP', [Tree('PRP', ['I'])]), Tree('VP', [Tree('VBP', ['do']), Tree('RB', [\"n't\"]), Tree('VP', [Tree('VB', ['see']), Tree('SBAR', [Tree('WHADVP', [Tree('WRB', ['why'])]), Tree('S', [Tree('NP', [Tree('PRP', ['we'])]), Tree('VP', [Tree('VBD', ['did']), Tree('RB', [\"n't\"]), Tree('VP', [Tree('VB', ['do']), Tree('NP', [Tree('PRP', ['it'])]), Tree('PP', [Tree('IN', ['from']), Tree('NP', [Tree('DT', ['the']), Tree('NN', ['beginning'])])])])])])])])]), Tree('.', ['.'])])])]\n",
      "[(('see', 'VB'), 'discourse', ('Sure', 'RB')), (('see', 'VB'), 'nsubj', ('I', 'PRP')), (('see', 'VB'), 'aux', ('do', 'VBP')), (('see', 'VB'), 'neg', (\"n't\", 'RB')), (('see', 'VB'), 'advcl', ('do', 'VB')), (('do', 'VB'), 'advmod', ('why', 'WRB')), (('do', 'VB'), 'nsubj', ('we', 'PRP')), (('do', 'VB'), 'aux', ('did', 'VBD')), (('do', 'VB'), 'neg', (\"n't\", 'RB')), (('do', 'VB'), 'dobj', ('it', 'PRP')), (('do', 'VB'), 'nmod', ('beginning', 'NN')), (('beginning', 'NN'), 'case', ('from', 'IN')), (('beginning', 'NN'), 'det', ('the', 'DT'))]\n",
      "--------------------------------------------------------------\n",
      "Sentence - number 5\n",
      "[Tree('ROOT', [Tree('S', [Tree('S', [Tree('NP', [Tree('NNPS', ['Summer'])]), Tree('VP', [Tree('VBZ', ['is']), Tree('ADVP', [Tree('RB', ['almost'])]), Tree('ADVP', [Tree('RB', ['here'])])])]), Tree(',', [',']), Tree('CC', ['and']), Tree('RB', ['so']), Tree('S', [Tree('VP', [Tree('VBP', ['are']), Tree('NP', [Tree('DT', ['the']), Tree('NNS', ['mosquitos'])])])]), Tree('.', ['.'])])])]\n",
      "[(('is', 'VBZ'), 'nsubj', ('Summer', 'NNPS')), (('is', 'VBZ'), 'advmod', ('almost', 'RB')), (('is', 'VBZ'), 'advmod', ('here', 'RB')), (('is', 'VBZ'), 'cc', ('so', 'RB')), (('so', 'RB'), 'cc', ('and', 'CC')), (('is', 'VBZ'), 'conj', ('mosquitos', 'NNS')), (('mosquitos', 'NNS'), 'cop', ('are', 'VBP')), (('mosquitos', 'NNS'), 'det', ('the', 'DT'))]\n",
      "--------------------------------------------------------------\n"
     ]
    }
   ],
   "source": [
    "file = open(\"Lab 3-5 sentences.txt\")\n",
    "\n",
    "sentence_index = 0\n",
    "for sentence in file:\n",
    "    sentence_index += 1\n",
    "    print('Sentence - number', sentence_index)\n",
    "    propozitie = parser.raw_parse(sentence)\n",
    "    print(list(propozitie))\n",
    "    dependente = dependency_parser.raw_parse(sentence)\n",
    "    for dep in dependente:\n",
    "        print(list(dep.triples()))\n",
    "    print(\"--------------------------------------------------------------\")"
   ]
  },
  {
   "cell_type": "code",
   "execution_count": null,
   "metadata": {},
   "outputs": [],
   "source": []
  }
 ],
 "metadata": {
  "kernelspec": {
   "display_name": "Python 3",
   "language": "python",
   "name": "python3"
  },
  "language_info": {
   "codemirror_mode": {
    "name": "ipython",
    "version": 3
   },
   "file_extension": ".py",
   "mimetype": "text/x-python",
   "name": "python",
   "nbconvert_exporter": "python",
   "pygments_lexer": "ipython3",
   "version": "3.7.6"
  }
 },
 "nbformat": 4,
 "nbformat_minor": 4
}
