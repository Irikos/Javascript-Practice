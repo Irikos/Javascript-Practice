{
 "cells": [
  {
   "cell_type": "code",
   "execution_count": 48,
   "metadata": {},
   "outputs": [
    {
     "name": "stderr",
     "output_type": "stream",
     "text": [
      "[nltk_data] Downloading package punkt to /home/irikos/nltk_data...\n",
      "[nltk_data]   Package punkt is already up-to-date!\n",
      "[nltk_data] Downloading package wordnet to /home/irikos/nltk_data...\n",
      "[nltk_data]   Package wordnet is already up-to-date!\n"
     ]
    }
   ],
   "source": [
    "import os\n",
    "import wikipedia\n",
    "import nltk\n",
    "from nltk.tag.stanford import StanfordPOSTagger\n",
    "from nltk.stem import WordNetLemmatizer\n",
    "\n",
    "nltk.download('punkt')\n",
    "nltk.download('wordnet')\n",
    "from nltk.corpus import wordnet\n",
    "from pycontractions import Contractions\n",
    "from nltk.corpus import stopwords\n",
    "from nltk.stem import WordNetLemmatizer\n",
    "from num2words import num2words\n",
    "import matplotlib.pyplot as plt\n",
    "\n",
    "\n",
    "# need to be local and downloaded. Current path assumes it is in the same folder\n",
    "# download from: https://s3.amazonaws.com/dl4j-distribution/GoogleNews-vectors-negative300.bin.gz\n",
    "cont = Contractions('GoogleNews-vectors-negative300.bin')\n",
    "\n",
    "# # takes a bit\n",
    "# cont.load_models()"
   ]
  },
  {
   "cell_type": "code",
   "execution_count": 5,
   "metadata": {},
   "outputs": [],
   "source": [
    "tagger=StanfordPOSTagger('./english-bidirectional-distsim.tagger', './stanford-postagger.jar')"
   ]
  },
  {
   "cell_type": "code",
   "execution_count": 7,
   "metadata": {},
   "outputs": [
    {
     "name": "stdout",
     "output_type": "stream",
     "text": [
      "Elon Musk\n",
      "['Elon', 'Reeve', 'Musk', 'born', 'June', '28', '1971', 'is', 'an', 'engineer', 'industrial', 'designer', 'and', 'technology', 'entrepreneur', 'He', 'is', 'a', 'citizen', 'of', 'South', 'Africa', 'the', 'United', 'States', 'where', 'he', 'has', 'lived', 'most', 'of', 'his', 'life', 'and', 'currently', 'resides', 'and', 'Canada', 'He', 'is', 'the', 'founder', 'CEO', 'and', 'chief', 'engineer', 'designer', 'of', 'SpaceX', 'co', 'founder', 'CEO', 'and', 'product', 'architect', 'of', 'Tesla', 'Inc', 'founder', 'of', 'The', 'Boring', 'Company', 'co', 'founder', 'of', 'Neuralink', 'and', 'co', 'founder', 'and', 'initial', 'co', 'chairman', 'of', 'OpenAI', 'He', 'was', 'elected', 'a', 'Fellow', 'of', 'the', 'Royal', 'Society', 'FRS', 'in', '2018', 'In', 'December', '2016', 'he', 'was', 'ranked', '21st', 'on', 'the', 'Forbes', 'list', 'of', 'The', 'World', 's', 'Most', 'Powerful', 'People', 'and', 'was', 'ranked', 'joint', 'first', 'on', 'the', 'Forbes', 'list', 'of', 'the', 'Most', 'Innovative', 'Leaders', 'of', '2019', 'As', 'of', 'May', '2020', 'he', 'has', 'a', 'net', 'worth', 'of', '36', '5', 'billion', 'and', 'is', 'listed', 'by', 'Forbes', 'as', 'the', '31st', 'richest', 'person', 'in', 'the', 'world', 'He', 'is', 'the', 'longest', 'tenured', 'CEO', 'of', 'any', 'automotive', 'manufacturer', 'globally', 'Born', 'and', 'raised', 'in', 'Pretoria', 'South', 'Africa', 'Musk', 'briefly', 'attended', 'the', 'University', 'of', 'Pretoria', 'before', 'moving', 'to', 'Canada', 'when', 'he', 'was', '17', 'to', 'attend', 'Queen', 's', 'University', 'He', 'transferred', 'to', 'the', 'University', 'of', 'Pennsylvania', 'two', 'years', 'later', 'where', 'he', 'received', 'a']\n",
      "[('Elon', 'NNP'), ('Reeve', 'NNP'), ('Musk', 'NNP'), ('born', 'VBN'), ('June', 'NNP'), ('28', 'CD'), ('1971', 'CD'), ('is', 'VBZ'), ('an', 'DT'), ('engineer', 'NN'), ('industrial', 'JJ'), ('designer', 'NN'), ('and', 'CC'), ('technology', 'NN'), ('entrepreneur', 'NN')]\n",
      "[('He', 'PRP'), ('is', 'VBZ'), ('a', 'DT'), ('citizen', 'NN'), ('of', 'IN'), ('South', 'NNP'), ('Africa', 'NNP'), ('the', 'DT'), ('United', 'NNP'), ('States', 'NNPS'), ('where', 'WRB'), ('he', 'PRP'), ('has', 'VBZ'), ('lived', 'VBN'), ('most', 'JJS'), ('of', 'IN'), ('his', 'PRP$'), ('life', 'NN'), ('and', 'CC'), ('currently', 'RB'), ('resides', 'VBZ'), ('and', 'CC'), ('Canada', 'NNP')]\n",
      "[('He', 'PRP'), ('is', 'VBZ'), ('the', 'DT'), ('founder', 'NN'), ('CEO', 'NN'), ('and', 'CC'), ('chief', 'JJ'), ('engineer', 'NN'), ('designer', 'NN'), ('of', 'IN'), ('SpaceX', 'FW'), ('co', 'FW'), ('founder', 'NN'), ('CEO', 'NN'), ('and', 'CC'), ('product', 'NN'), ('architect', 'NN'), ('of', 'IN'), ('Tesla', 'NNP'), ('Inc', 'NNP'), ('founder', 'NN'), ('of', 'IN'), ('The', 'DT'), ('Boring', 'JJ'), ('Company', 'NN'), ('co', 'NN'), ('founder', 'NN'), ('of', 'IN'), ('Neuralink', 'NN'), ('and', 'CC'), ('co', 'NN'), ('founder', 'NN'), ('and', 'CC'), ('initial', 'JJ'), ('co', 'NN'), ('chairman', 'NN'), ('of', 'IN'), ('OpenAI', 'NN')]\n",
      "[('He', 'PRP'), ('was', 'VBD'), ('elected', 'VBN'), ('a', 'DT'), ('Fellow', 'NNP'), ('of', 'IN'), ('the', 'DT'), ('Royal', 'NNP'), ('Society', 'NNP'), ('FRS', 'NNP'), ('in', 'IN'), ('2018', 'CD')]\n",
      "[('In', 'IN'), ('December', 'NNP'), ('2016', 'CD'), ('he', 'PRP'), ('was', 'VBD'), ('ranked', 'VBN'), ('21st', 'JJ'), ('on', 'IN'), ('the', 'DT'), ('Forbes', 'NNP'), ('list', 'NN'), ('of', 'IN'), ('The', 'DT'), ('World', 'NNP'), ('s', 'NN'), ('Most', 'NNP'), ('Powerful', 'NNP'), ('People', 'NNP'), ('and', 'CC'), ('was', 'VBD'), ('ranked', 'VBN'), ('joint', 'JJ'), ('first', 'RB'), ('on', 'IN'), ('the', 'DT'), ('Forbes', 'NNP'), ('list', 'NN'), ('of', 'IN'), ('the', 'DT'), ('Most', 'JJS'), ('Innovative', 'JJ'), ('Leaders', 'NNS'), ('of', 'IN'), ('2019', 'CD')]\n",
      "[('As', 'IN'), ('of', 'IN'), ('May', 'NNP'), ('2020', 'CD'), ('he', 'PRP'), ('has', 'VBZ'), ('a', 'DT'), ('net', 'JJ'), ('worth', 'NN'), ('of', 'IN'), ('36', 'CD'), ('5', 'CD'), ('billion', 'CD'), ('and', 'CC'), ('is', 'VBZ'), ('listed', 'VBN'), ('by', 'IN'), ('Forbes', 'NNP'), ('as', 'IN'), ('the', 'DT'), ('31st', 'JJ'), ('richest', 'JJS'), ('person', 'NN'), ('in', 'IN'), ('the', 'DT'), ('world', 'NN')]\n",
      "[('He', 'PRP'), ('is', 'VBZ'), ('the', 'DT'), ('longest', 'JJS'), ('tenured', 'JJ'), ('CEO', 'NN'), ('of', 'IN'), ('any', 'DT'), ('automotive', 'JJ'), ('manufacturer', 'NN'), ('globally', 'RB'), ('Born', 'VBN'), ('and', 'CC'), ('raised', 'VBN'), ('in', 'IN'), ('Pretoria', 'NNP'), ('South', 'NNP'), ('Africa', 'NNP'), ('Musk', 'NNP'), ('briefly', 'NN'), ('attended', 'VBD'), ('the', 'DT'), ('University', 'NNP'), ('of', 'IN'), ('Pretoria', 'NNP'), ('before', 'IN'), ('moving', 'VBG'), ('to', 'TO'), ('Canada', 'NNP'), ('when', 'WRB'), ('he', 'PRP'), ('was', 'VBD'), ('17', 'CD'), ('to', 'TO'), ('attend', 'VB'), ('Queen', 'NNP'), ('s', 'NN'), ('University', 'NNP')]\n",
      "[('He', 'PRP'), ('transferred', 'VBD'), ('to', 'TO'), ('the', 'DT'), ('University', 'NNP'), ('of', 'IN'), ('Pennsylvania', 'NNP'), ('two', 'CD'), ('years', 'NNS'), ('later', 'RB'), ('where', 'WRB'), ('he', 'PRP'), ('received', 'VBD'), ('a', 'DT'), ('bachelor', 'NN'), ('s', 'NN'), ('degree', 'NN'), ('in', 'IN'), ('economics', 'NNS'), ('from', 'IN'), ('the', 'DT'), ('Wharton', 'NNP'), ('School', 'NNP'), ('and', 'CC'), ('a', 'DT'), ('bachelor', 'NN'), ('s', 'NN'), ('degree', 'NN'), ('in', 'IN'), ('physics', 'NNS'), ('from', 'IN'), ('the', 'DT'), ('College', 'NNP'), ('of', 'IN'), ('Arts', 'NNP'), ('and', 'CC'), ('Sciences', 'NNP')]\n",
      "[('He', 'PRP'), ('began', 'VBD'), ('a', 'DT'), ('Ph', 'NN'), ('D', 'NN'), ('in', 'IN'), ('applied', 'JJ'), ('physics', 'NNS'), ('and', 'CC'), ('material', 'NN'), ('sciences', 'NNS'), ('at', 'IN'), ('Stanford', 'NNP'), ('University', 'NNP'), ('in', 'IN'), ('1995', 'CD'), ('but', 'CC'), ('dropped', 'VBD'), ('out', 'RP'), ('after', 'IN'), ('two', 'CD'), ('days', 'NNS'), ('to', 'TO'), ('pursue', 'VB'), ('a', 'DT'), ('business', 'NN'), ('career', 'NN')]\n",
      "[('He', 'PRP'), ('subsequently', 'RB'), ('co', 'RB'), ('founded', 'VBN'), ('with', 'IN'), ('his', 'PRP$'), ('brother', 'NN'), ('Kimbal', 'NNP'), ('Zip2', 'NN'), ('a', 'DT'), ('web', 'NN'), ('software', 'NN'), ('company', 'NN'), ('which', 'WDT'), ('was', 'VBD'), ('acquired', 'VBN'), ('by', 'IN'), ('Compaq', 'NNP'), ('for', 'IN'), ('340', 'CD'), ('million', 'CD'), ('in', 'IN'), ('1999', 'CD')]\n",
      "[('Musk', 'NNP'), ('then', 'RB'), ('founded', 'VBD'), ('X', 'NN'), ('com', 'NN'), ('an', 'DT'), ('online', 'JJ'), ('bank', 'NN')]\n",
      "[('It', 'PRP'), ('merged', 'VBD'), ('with', 'IN'), ('Confinity', 'NN'), ('in', 'IN'), ('2000', 'CD'), ('which', 'WDT'), ('had', 'VBD'), ('launched', 'VBN'), ('PayPal', 'NNP'), ('the', 'DT'), ('previous', 'JJ'), ('year', 'NN'), ('and', 'CC'), ('was', 'VBD'), ('subsequently', 'RB'), ('bought', 'VBN'), ('by', 'IN'), ('eBay', 'NNP'), ('for', 'IN'), ('1', 'CD'), ('5', 'CD'), ('billion', 'CD'), ('in', 'IN'), ('October', 'NNP'), ('2002', 'CD')]\n",
      "[('In', 'IN'), ('May', 'NNP'), ('2002', 'CD'), ('Musk', 'NNP'), ('founded', 'VBD'), ('SpaceX', 'NNP'), ('an', 'DT'), ('aerospace', 'NN'), ('manufacturer', 'NN'), ('and', 'CC'), ('space', 'NN'), ('transport', 'NN'), ('services', 'NNS'), ('company', 'NN'), ('of', 'IN'), ('which', 'WDT'), ('he', 'PRP'), ('is', 'VBZ'), ('CEO', 'NN'), ('and', 'CC'), ('lead', 'NN'), ('designer', 'NN')]\n",
      "[('He', 'PRP'), ('joined', 'VBD'), ('Tesla', 'NNP'), ('Motors', 'NNP'), ('Inc', 'NNP'), ('now', 'RB'), ('Tesla', 'NNP'), ('Inc', 'NNP'), ('an', 'DT'), ('electric', 'JJ'), ('vehicle', 'NN'), ('manufacturer', 'NN'), ('in', 'IN'), ('2004', 'CD'), ('the', 'DT'), ('year', 'NN'), ('after', 'IN'), ('it', 'PRP'), ('was', 'VBD'), ('founded', 'VBN'), ('and', 'CC'), ('became', 'VBD'), ('its', 'PRP$'), ('CEO', 'NN'), ('and', 'CC'), ('product', 'NN'), ('architect', 'NN')]\n",
      "[('In', 'IN'), ('2006', 'CD'), ('he', 'PRP'), ('helped', 'VBD'), ('creating', 'VBG'), ('SolarCity', 'NNP'), ('a', 'DT'), ('solar', 'JJ'), ('energy', 'NN'), ('services', 'NNS'), ('company', 'NN'), ('now', 'RB'), ('a', 'DT'), ('subsidiary', 'NN'), ('of', 'IN'), ('Tesla', 'NNP')]\n",
      "[('In', 'IN'), ('2015', 'CD'), ('Musk', 'NN'), ('co', 'NN'), ('founded', 'VBD'), ('OpenAI', 'NN'), ('a', 'DT'), ('nonprofit', 'JJ'), ('research', 'NN'), ('company', 'NN'), ('that', 'WDT'), ('aims', 'VBZ'), ('to', 'TO'), ('promote', 'VB'), ('friendly', 'JJ'), ('artificial', 'JJ'), ('intelligence', 'NN')]\n",
      "[('In', 'IN'), ('July', 'NNP'), ('2016', 'CD'), ('he', 'PRP'), ('co', 'RB'), ('founded', 'VBD'), ('Neuralink', 'NNP'), ('a', 'DT'), ('neurotechnology', 'NN'), ('company', 'NN'), ('focused', 'VBD'), ('on', 'IN'), ('developing', 'VBG'), ('brain', 'NN'), ('computer', 'NN'), ('interfaces', 'NNS')]\n",
      "[('In', 'IN'), ('December', 'NNP'), ('2016', 'CD'), ('Musk', 'NNP'), ('founded', 'VBD'), ('The', 'DT'), ('Boring', 'JJ'), ('Company', 'NN'), ('an', 'DT'), ('infrastructure', 'NN'), ('and', 'CC'), ('tunnel', 'NN'), ('construction', 'NN'), ('company', 'NN'), ('focused', 'VBD'), ('on', 'IN'), ('tunnels', 'NNS'), ('optimized', 'VBN'), ('for', 'IN'), ('electric', 'JJ'), ('vehicles', 'NNS')]\n",
      "[('In', 'IN'), ('addition', 'NN'), ('to', 'TO'), ('his', 'PRP$'), ('primary', 'JJ'), ('business', 'NN'), ('pursuits', 'NNS'), ('Musk', 'NNP'), ('has', 'VBZ'), ('envisioned', 'VBN'), ('a', 'DT'), ('high', 'JJ'), ('speed', 'NN'), ('transportation', 'NN'), ('system', 'NN'), ('known', 'VBN'), ('as', 'IN'), ('the', 'DT'), ('Hyperloop', 'NN')]\n",
      "[('Musk', 'NNP'), ('has', 'VBZ'), ('said', 'VBD'), ('the', 'DT'), ('goals', 'NNS'), ('of', 'IN'), ('SpaceX', 'NNP'), ('Tesla', 'NNP'), ('and', 'CC'), ('SolarCity', 'NNP'), ('revolve', 'VB'), ('around', 'IN'), ('his', 'PRP$'), ('vision', 'NN'), ('to', 'TO'), ('change', 'VB'), ('the', 'DT'), ('world', 'NN'), ('and', 'CC'), ('help', 'NN'), ('humanity', 'NN')]\n"
     ]
    }
   ],
   "source": [
    "# we're gonna use the Elon Musk page in this homework, just like in the 2nd homework\n",
    "# note: the page cannot be found by 'Elon Musk', as is the link\n",
    "\n",
    "# 1.1 Choose a wikipedia article. You will download and acces the article using this python module: wikipedia. \n",
    "# Use the content property to extract the text. Print the title of the article and the first N=200 words from \n",
    "# the article to verify that all works well. Print the POS-tagging for the first N=20 sentences.\n",
    "\n",
    "page = wikipedia.page('Musk Elon')\n",
    "title = page.title\n",
    "content = page.content\n",
    "\n",
    "\n",
    "# title of the article and the first N=200 words\n",
    "print(title)\n",
    "\n",
    "tokenizer = nltk.RegexpTokenizer(r\"\\w+\")\n",
    "only_words = tokenizer.tokenize(content)\n",
    "print(only_words[:200])\n",
    "\n",
    "# The POS-tagging for the first N=20 sentences.\n",
    "sentences = nltk.sent_tokenize(content)\n",
    "for sentence in sentences[:20]:\n",
    "    sentence_words = tokenizer.tokenize(sentence)\n",
    "    print(tagger.tag(sentence_words))\n",
    "\n",
    "# I initially did this, but feel that the for approach is clerer for each sentence.\n",
    "# tagger.tag(sentences[:20])"
   ]
  },
  {
   "cell_type": "code",
   "execution_count": 9,
   "metadata": {},
   "outputs": [
    {
     "name": "stdout",
     "output_type": "stream",
     "text": [
      "['designer', 'technology', 'entrepreneur.', 'citizen', '(where', 'life', 'engineer/designer', 'CEO', 'product', 'architect', 'founder', 'Company;', 'co-founder', 'Neuralink;', 'co-founder', 'co-chairman', 'OpenAI.', 'list', 'list']\n",
      "[['He', 'he', 'He', 'He', 'he'], ['currently'], ['designer', 'technology', 'entrepreneur.', 'citizen', '(where', 'life', 'engineer/designer', 'CEO', 'product', 'architect', 'founder', 'Company;', 'co-founder', 'Neuralink;', 'co-founder', 'co-chairman', 'OpenAI.', 'list', 'list']]\n"
     ]
    }
   ],
   "source": [
    "# 1.2 \n",
    "# Create a function that receives a part of speech tag and returns a list with all the words from \n",
    "# the text (can be given as a parameter too) that represent that part of speech. \n",
    "def find_speech_parts(part_of_speech, text):\n",
    "    returned_list = []\n",
    "    for tag in tagger.tag(text):\n",
    "        if (part_of_speech == tag[1]):\n",
    "            returned_list.append(tag[0])\n",
    "    return returned_list\n",
    "\n",
    "print (find_speech_parts('NN', sentences[:5]))\n",
    "\n",
    "# Create a function that receives a list of POS tags and returns a list with words having any of \n",
    "# the given POS tags (use the first function in implementing the second one).\n",
    "def find_words_by_pos(pos_tag_list, text):\n",
    "    returned_list = []\n",
    "    for tag in pos_tag_list:\n",
    "        returned_list.append(find_speech_parts(tag, text))\n",
    "    return returned_list\n",
    "\n",
    "\n",
    "print (find_words_by_pos(['PRP', 'RB', 'NN'], sentences[:5]))\n"
   ]
  },
  {
   "cell_type": "code",
   "execution_count": 17,
   "metadata": {},
   "outputs": [
    {
     "name": "stdout",
     "output_type": "stream",
     "text": [
      "NN\n",
      "NNS\n",
      "NP\n",
      "NPS\n",
      "[['designer,', 'technology', 'entrepreneur', 'philanthropist.', 'citizen', '(where', 'life', 'engineer/designer', 'CEO', 'product', 'architect', 'founder', 'Company;', 'co-founder', 'Neuralink;', 'co-founder', 'co-chairman', 'OpenAI.', 'list', 'list', 'worth', 'person', 'world.', 'CEO', 'manufacturer', 'globally.Born', 'briefly', 'later,', \"bachelor's\", 'degree', \"bachelor's\", 'degree', 'Ph.D.', 'material', 'business', 'career.', '(with', 'brother', 'web', 'software', 'company,', 'X.com,', 'bank.', 'Confinity', 'year', 'SpaceX,', 'aerospace', 'manufacturer', 'space', 'transport', 'company,', 'designer.', 'vehicle', 'manufacturer,', 'year', 'founded,', 'CEO', 'product', 'architect.', '2006,', 'creation', 'SolarCity,', 'energy', 'company', 'subsidiary', 'Musk', 'OpenAI,', 'research', 'company', 'intelligence.', 'Neuralink,', 'neurotechnology', 'company', 'Company,', 'infrastructure', 'tunnel', 'construction', 'company', 'vehicles.', 'investor', 'stock', 'market.', 'addition', 'business', 'transportation', 'system', 'Hyperloop,', 'take-off', 'landing', 'jet', 'aircraft', 'fan', 'propulsion,', 'electric', 'vision', 'world', 'warming', 'energy', 'production', 'consumption,', 'risk', 'extinction', 'colony', 'life', '==', 'son', 'model', 'dietitian', 'engineer,', 'pilot,', 'sailor.', 'brother,', '(born', 'sister,', 'grandfather,', 'grandmother', 'British,', 'ancestry.', 'father', 'Pretoria,', 'choice', 'father,', '\"a', 'being.\"', 'half-sister', 'half-brother.Due', 'part', 'fact', 'father', 'mine', 'lifestyle\"', 'reader.', 'age', 'interest', 'computing', 'VIC-20.', 'computer', 'programming', 'and,', 'age', 'code', 'video', 'game', 'magazine', 'childhood', 'reading', 'lesson', '\"you', 'set', 'civilization,', 'probability', 'age', 'length', 'age', 'one\".Musk', 'childhood', 'group', 'flight', 'stairs.Musk', \"Musk's\", 'father', 'college', 'States,', '\"I', 'possible,', 'country', \"father's\", 'birthday,', 'passport', 'Education', '===', 'months.', 'service', 'military.', 'business', 'Pennsylvania;', 'Bachelor', 'degree', 'Bachelor', 'Science', 'degree', 'summer:', 'energy', 'storage', 'start-up', 'energy', 'storage,', 'start-up', 'lead', 'engineer', '\"He', 'energy.', 'idea', 'hardware', 'stuff', 'works,', 'PC', 'hacker', 'background', 'Musk', 'PhD', 'energy', 'science', 'Internet', 'company,', 'Zip2', 'brother,', 'Kimbal,', 'Zip2,', 'web', 'software', 'company,', 'money', 'group', 'angel', 'investors.', 'company', 'internet', 'city', 'guide', 'newspaper', 'industry,', 'maps,', 'pages,', 'vector', 'mapping', 'direction', 'code', 'Tribune,', 'board', 'merger', 'Zip2', 'cash', 'percent', 'share', 'X.com,', 'e-mail', 'payment', 'company,', 'US$10', 'sale', 'Zip2.', 'year', 'later,', 'company', 'Confinity,', 'money-transfer', 'service', 'PayPal.', 'company', 'service', 'role', 'CEO', '(although', 'board)', 'company', 'desire', 'infrastructure', 'stock,', 'shareholder,', 'domain', 'amount,', 'value', 'project', 'greenhouse', 'Mars,', 'food', 'regolith,', 'attempt', 'interest', 'space', 'exploration.', 'aerospace', 'fixer),', 'Adeo', 'friend', 'college),', '(ICBMs)', 'space.', 'group', 'novice', 'designers.', 'group', 'empty-handed.', 'group', 'ICBMs,', 'venture', 'capital', 'arm,', 'In-Q-Tel,', 'Laboratory,', 'maker', 'group', 'meeting', 'rocket', 'price', 'meeting.', 'flight', 'company', 'investor', 'rocket', 'percent', 'price', 'rocket', 'time.', 'that,', 'theory,', 'integration', 'approach', 'software', 'launch', 'price', 'factor', 'SpaceX', 'goal', 'civilization.', 'SpaceX,', 'officer', '(CEO)', 'chief', 'technology', 'officer', '(CTO)', 'Hawthorne,', 'company.', 'trust', 'voting', 'shares.SpaceX', 'space', 'launch', 'focus', 'state', 'rocket', 'launch', '(a', 'nod', 'spacecraft', '(a', 'nod', 'family', 'launch', 'spacecraft', 'span', 'rocket', 'vehicle', 'satellite', 'orbit.SpaceX', 'producer', 'rocket', 'world', 'holder', 'record', 'ratio', 'rocket', 'engine', '(the', 'engine', 'weight', 'family', 'cars.', 'combination,', 'stage', 'MN', 'pounds)', 'thrust,', 'company', 'crew', 'cargo', 'demonstration', 'Station,', 'US$1.6', 'program', 'contract', 'rocket', 'spacecraft', 'Station,', 'vehicle', 'ISS,', 'history', 'company', 'vehicle', 'transport', 'contract', 'part', 'program,', 'astronaut', 'transport', 'capability', '2020.Musk', 'key', 'space', 'travel', 'reusable,', 'space', 'industry', 'infeasible.', 'SpaceX', 'stage', 'rocket', 'launch', 'pad,', 'time', 'rocket—a', 'step', 'rocket', 'reusability', 'cost', 'access', 'stage', 'recovery', 'landing', 'spaceport', 'recovery', 'platform,', 'end', 'stage', 'landing', 'recovery', 'attempted,', 'stage', 'maiden', 'flight', '2010.In', 'flights,', 'year', 'capacity', 'rocket', 'N1)', 'rocket', 'operation', 'mission', 'dummy', 'payload.SpaceX', 'development', 'constellation', 'orbit', 'satellite', 'prototype', 'set', 'test', 'deployment', 'piece', 'constellation', 'launched.', 'cost', 'project', 'constellation', 'series', 'space', 'exploration', 'step', 'consciousness', 'life', 'hedge', 'survival', 'species.', 'asteroid', 'volcano', 'us,', 'virus,', 'creation', 'hole,', 'warming', 'technology', 'end', 'years,', 'weaponry', 'potential', 'ourselves.', 'Sooner', 'later,', 'life', 'ball—or', 'goal', 'cost', 'spaceflight', 'factor', 'interview,', 'surface', 'colony', 'population', 'that,', \"Mars'\", 'atmosphere', 'oxygen,', 'transportation', 'cars,', 'trains,', 'Hyperloop,', 'aircraft).', 'Musk', 'flight', 'Spaceship', 'departure', 'planet', 'flight', 'architecture', 'design', 'launch', 'vehicle', 'spacecraft', 'launch', 'service', 'provider', 'set', 'Lunar-orbit,', 'missions,', 'passenger', 'transport', 'Earth,', '9-meter', 'core', 'diameter.', 'development', 'prototype', 'rocket', 'engine', '(Raptor)', 'development', 'test', 'flight', 'announcement', 'circumnavigation', 'mission,', 'flight', 'concept', 'stage', 'spaceship', 'rear', 'canard', 'entry,', 'delta', 'wing', 'split', 'year', 'earlier.', 'BFR', 'design', 'stage;', 'engine', 'model', 'stage.', 'stage', 'design', 'nose', 'ship,', 'base,', 'landing', 'SpaceX', '\"no', 'stage', 'reusability.\"', 'BFR', 'stage', 'booster', 'stage,', \"Earth's\", 'gravity', 'well', '(not', 'company', 'round', 'funding.', \"company's\", 'development', 'round', 'investment', \"Tesla's\", 'board', 'chairman.', 'three,', 'AC', 'Propulsion', 'tzero', 'roadster', 'role', 'company', 'product', 'design', 'level,', 'business', 'operations.', 'crisis', 'series', 'leadership', 'company', 'CEO', 'product', 'architect', 'today.', 'Musk', 'CEO', 'manufacturer', \"globally.Tesla's\", '\"master', 'plan\",', 'was:', 'money', 'money', 'car.', 'above,', 'power', 'generation', 'options.', 'Roadster,', '2008,', 'countries.', 'delivery', 'sedan', 'product,', 'X,', 'however,', 'X', 'launch', 'addition', 'powertrain', 'Class,', 'RAV4', 'EV.', 'Musk', 'base', 'price', 'US$35,000.', 'deliveries', 'US$35,000', 'base', 'model', 'model', 'model', 'E', 'trademark,', 'Musk', '\"Ford', 'mainstream', 'work', 'vehicle', 'acceleration', \"Spaceballs'\", 'starship', 'Speed,', 'Plaid', 'Speed).In', 'interview', 'range', 'network', 'supercharger', 'stations,', 'number', 'June,', 'expansion', 'Canada,', 'technology', 'anyone', 'faith', 'bid', 'automobile', 'development', 'reality', 'car', 'vehicle', \"doesn't\", 'hydrocarbons)', 'non-existent,', 'average', 'vehicle', 'sales,\"', 'Musk', 'said.In', 'Tesla.com', 'domain', 'name', 'domain.', 'battery', 'supply', 'car', 'output,', 'battery', 'factory', 'output', 'phase', 'battery', 'vehicle', 'factory,', 'partnership', 'Panasonic.', 'Gigafactory', 'GWh/yr', 'batteries.', 'plan', 'part', 'battery', 'storage.', 'vehicle', 'product', 'line', 'SUV', 'pickup', 'truck].', 'capability', 'manual', 'learning.', 'car', 'money', 'autopilot', 'hardware', 'software', 'in-house,', 'partnership', 'Mobileye.In', 'contract', 'government', 'lithium', 'ion', 'battery', 'pack,', 'energy', 'twitter,', 'guarantee', 'deadline', 'battery', 'performance', 'returns,', 'skepticism', 'tweet', 'funding', 'lawsuit', 'Musk', 'deal', 'tweet', 'false,', 'misleading,', 'damaging', 'investors,', 'integrity.', 'settlement', 'SEC,', 'each,', 'Musk', 'tweet', 'investigation.', 'tweet', 'Musk', 'tweet,', 'agency', '[SEC]', \"'Shortseller\", 'Enrichment', \"Commission,'\", 'settlement', 'week', 'communications.\"', 'interview', \"CBS's\", 'Minutes,', 'Musk', 'stated,', '\"I', 'clear.', 'tweet', 'filing', 'court,', 'court', 'contempt', 'settlement', 'agreement', 'tweet,', 'agreement', 'agreement', 'agreement', 'list', 'preclearance', 'groundbreaking', 'Gigafactory,', 'plant', 'visit', 'premier', 'admiration', 'often,', 'premier', '\"We', 'card', 'helps.\"', 'time', 'ground-breaking', 'production', 'year.In', 'model', 'Y', 'SUV/CUV', 'pickup', 'truck.', 'month,', 'year', 'location', 'movie', 'Blade', 'Runner,', 'design', 'inspiration,', 'production', 'Musk', 'shares,', 'company.', 'salary', 'dollar,', 'CEOs;', 'remainder', 'compensation', 'form', 'stock', 'bonuses.', 'option', \"Tesla's\", 'market', 'value', 'shareholder', 'approval', 'package', 'grant', 'speculation', 'departure', 'time', 'business', 'ventures.', 'A', 'report', 'firm', 'concept', 'capital', 'SolarCity,', 'provider', 'power', 'subsidiary', 'Tesla.The', 'motivation', 'warming.', 'vehicle', 'impact', 'rooftop', 'power', 'grid,', 'program', 'Musk', 'SolarCity', 'production', 'facility', 'size', 'plant', 'plant', '\"one', 'panel', 'production', 'world,\"', 'years.', '(PV)', 'cell', 'factory,', 'subsidiary', 'factory', 'part', 'plan', 'money', 'economy', 'area—to', 'factory', 'Musk', 'concept', 'transportation', 'system', 'air', 'cushion', 'induction', 'air', 'compressors.', 'mechanism', 'concept', 'document', 'that,', 'addition', 'technology,', 'route', 'transport', 'system', 'built:', 'Area.After', 'dozen', 'months,', 'transportation', 'design', 'system', 'whitepaper', 'mode', 'transport', 'distances.', 'alpha', 'design', 'vacuum', 'drag,', 'travel', 'power,', 'compressor', 'document', 'alpha', 'design', 'cost', 'LA-to-SF', 'Hyperloop', 'system', 'amount', 'design', 'competition', 'track', 'pod', 'competition.', 'track', 'tunnel.Hyperloop', 'One,', 'company', 'Musk,', 'test', 'track', 'a.m.', 'seconds,', 'speed', 'mph.On', 'government', 'approval\"', 'hyperloop', 'approval', 'creation', 'OpenAI,', 'intelligence', '(AI)', 'research', 'company.', 'OpenAI', 'intelligence', 'way', 'humanity.By', 'AI', 'power', 'profits,', 'power', 'concentration', 'OpenAI', 'board', 'role', 'interview', 'intelligence', 'indiscriminately.', 'foundation', 'line', 'website,', 'support', '\"development', 'intelligence', 'Neuralink,', 'neurotechnology', 'startup', 'company', 'brain', 'intelligence.', 'company', 'brain,', 'purpose', 'software', 'pace', 'intelligence.', 'memory', 'computing', 'devices.Musk', 'intelligence,', 'technology', 'mind-computer', 'Company', '===', '\"[I]', 'tunnel', 'boring', 'machine', 'digging', 'company', '\"Exciting', 'progress', 'tunnel', 'digging', 'month', 'so.\"', 'company', 'digging', '(9.1', 'premises', 'construction', 'decrease', 'tunnel', 'boring', 'cost', 'mile', 'feasibility', 'tunnel', 'network.', 'tunnel', 'width', 'only,', 'exhaust', 'combustion', 'engines.By', 'TBC', 'construction,', 'place,', 'tunnel', 'state', 'technology', 'product', 'line', 'public', 'test', 'tunnel', 'Hawthorne,', 'California,', 'proof-of-concept', 'design', 'tunnel', 'boring', 'machine', '(TBM),', 'Prufrock,', 'assembly', 'engineering', 'testing', 'company', '\"flamethrowers\"', '2018,', 'movie', 'rescue', '===', 'assistance', 'cave', 'rescue', 'rescue', 'help', 'government.', 'submarine', 'rescue', 'effort', 'process', 'leader', 'rescue', 'diving', 'team,', 'construction', 'mini-submarine', 'back-up,', 'case', 'flooding', 'worsened.', \"Musk's\", 'mini-submarine', 'oxygen', 'transfer', 'tube', \"children's\", 'soccer', 'team,', 'design,', 'dive', 'team', 'feedback,', '(1.5', 'tube', 'front', 'diver', 'buoyancy,', 'problem', 'difficulty', 'scuba', 'cave', 'panicking.', 'case', 'mini-submarine', 'boat', 'manufacturer,', 'escape', 'day', 'time,', 'face', 'oxygen', '(fifth', 'class)', \"team's\", 'rescue', 'viability', 'backlash', '====', 'supervisor', 'rescue', 'operation', 'submarine', 'fit', 'mission', 'caver', 'cave', 'role', 'rescue,', 'submarine', 'nothing', 'effort', 'chance', 'success,', 'conception', 'cave', 'passage', 'like\"', '\"can', 'submarine', 'device', 'backlash', 'tweets,', 'tweet', 'critic', 'action', 'relation', 'apology', 'remarks.', 'response', 'criticism', 'writer', \"hasn't\", 'me?\"', 'day,', 'letter', 'libel', 'lawsuit.At', 'point,', 'investigator', 'offer', 'investigator', 'felon', 'fraud.', 'reporter', 'controversy', 'email', 'record\".', 'guy', 'child', 'bride', 'partner', 'reporter', 'screenshot', 'email,', '\"Off', 'record', 'agreement,\"', 'defamation', 'suit', 'court.', 'slang', 'usage', 'insult', \"man'\", 'insult', 'appearance', 'term', '\"pedo\"', '\"an', 'person', 'insult....\")The', 'defamation', 'case', 'trial', 'tweet.', 'jury', 'favor', '\"My', 'faith', 'humanity', 'truth', 'system', 'justice', 'tequila', 'reality', '\"intent', 'trademark', 'application', 'trademark', 'agave', 'intention', 'product', 'tweet,', 'mockup', 'bottle,', 'Teslaquila', 'tequila', 'tequila', 'producer,', 'request', 'authorization', 'Music', '===', 'rap', 'Harambe\",', 'name', '\"Emo', 'G', 'Records\".', 'track', 'BloodPop.', 'EDM', 'vocals.', 'critic', '\"indistinguishable', 'bedroom', 'electronica', '\"not', 'representation', '===', 'half', 'Republican\"', '\"I\\'m', 'middle,', \"I'm\", '[and]', 'moderate.\"', 'emergence', 'support', 'income;', 'democracy', 'government', 'democracy.', 'socialist,', 'kind', 'productive,', 'good,', 'harm\"—arguing', 'socialism', 'all.\"', 'tax', 'rate', '40%,', 'consumption', 'income', 'taxes,', 'estate', 'tax,', '\"probability', 'progeny', 'capital', 'allocation', '\"[inarguably]', 'country', 'Earth,\"', '\"the', 'force', 'country', 'Musk', 'democracy', 'States,', 'disappearance', 'participation', '\"it', 'mistake', 'election', 'candidate', 'bit', 'guy.', 'sort', 'character', 'States.\"', 'approval', 'choice', 'invitation', 'cooperation', 'Trump,', 'Musk', 'reason', 'better.\"', 'business', 'protest', \"Trump's\", 'decision', 'climate', 'change', 'real.', 'support', 'candidate', 'platform', 'problem', 'job', 'displacement', 'automation', 'tweet', 'income,', 'interview', '(though', 'donor', 'Democrats,\"', 'requirement', 'order', 'voice', 'government.A', 'report', 'group', 'government', 'spending,', 'US$4', 'US$800,000', 'report', '\"SpaceX\\'s', 'campaign', 'support', 'sophisticated,\"', 'SpaceX', 'lobbying', 'presence', 'day', '\"Musk', 'reelection', 'campaign,', 'reelection', 'campaign', 'US$5,000', 'state', 'space', 'US$250,000', 'election', 'cycle.\"', 'Additionally,', 'SpaceX', 'company,', 'lobbying', 'group', 'lobbying', 'firms,', 'lobbyists.Musk', 'supporter', 'action', 'committee', '(PAC)', 'FWD.us,', 'entrepreneur', 'immigration', 'reform.', 'However,', 'support', 'protest', 'Keystone', 'members,', 'out,', 'strategy', 'stated,', '\"We', \"shouldn't\", 'politics.', 'system', 'website', 'hypocrite,\"', 'election', 'Committee—both', 'climate', 'government', 'carbon', 'tax', 'price', 'externality', 'Climate', 'change', 'market', 'solution,', \"consequences.Musk's\", 'entrepreneur', 'money', 'it,', 'time', 'matter', 'faith', 'entrepreneurship', 'technology', 'change,', 'state.', 'habit', 'thinking', 'oneself', 'free-standing,', 'agent,', 'received.', 'time', 'Author', '\"in', 'case', 'Musk,', 'kind', 'defensiveness.', 'business', 'reason', 'lot', 'basis', 'business,', 'speed', 'bit', 'grateful,', 'bit', 'journalist', 'author', 'book', 'vehicle', 'industry,', '\"Elon', 'point', 'view', 'winner,', \"doesn't\", 'government', 'money—I', 'tendency', 'people,', 'ladder', 'scrutiny', 'article', 'SolarCity', 'US$4.9', 'government', 'years.', 'example', 'state,', 'panel', 'factory', 'year.', 'deal', 'property', 'decade,', 'official', 'negotiator', 'string', 'press', 'frustrated,', 'factory', 'safety', 'website', 'truthfulness', 'addition', 'credibility', 'publications.', '\"Pravda\"', 'newspaper', 'backlash', 'journalists,', 'platform', 'user', \"article's\", \"journalist's\", 'credibility', 'abuse.After', 'site', '\"pravda.com\"', 'Internet', 'newspaper', 'site', 'Destiny', 'religion', '===', '\"there', 'kind', 'destiny', 'involved\"', 'transition', 'species,', 'Musk', 'responded:', 'sort', 'master', 'intelligence', 'stuff?', 'master', 'intelligence', 'from?\"', 'sort', 'question.', 'physics.', 'phenomenon', 'pray,', 'worship', 'being,', '\"any', 'listening\"', 'launch\"', 'launch.', 'science', 'religion', 'life', '===', 'Musk', 'life', 'planets,', 'life', 'life', 'universe\",', 'guess.', '\"Musk', 'simulation', 'hypothesis', 'solution', 'absence', 'life', 'argument', 'favour', 'simulation', \"you're\", 'adventure', 'game,', 'background,', 'there.', 'simulation,', \"we're\", 'lab', 'civilization', 'curiosity,', 'mould', 'dish', 'technology', 'level,', 'something', 'civilizations,', 'way.', 'lot', 'intelligence', '===', 'intelligence,', 'threat', 'survival', 'race\".', 'interview', 'threat,', 'oversight,', 'level,', 'something', 'Musk', 'creation', 'intelligence', 'Musk', 'DeepMind,', 'AI', 'firm,', 'Vicarious,', 'company', 'machine', 'intelligence.', 'organization', 'technologies.', 'co-chairman', 'OpenAI,', 'intelligence', 'research', 'company.Musk', 'standpoint', 'investment', 'return...', 'eye', 'intelligence.', 'outcome', 'there.', 'this,', 'outcomes.', 'good,', 'computer', 'simulation,', 'answered:', 'argument', 'simulation', 'following:', 'Pong—two', 'year.', \"we'll\", 'reality,', \"we'll\", 'reality.', 'rate', 'improvement', 'all,', 'reality,', 'intelligence', 'controversy.', 'founder', 'understanding', 'toddler,', 'fields,', 'demon\"', 'analogy', 'research', 'Luddite', 'Award', 'intelligence', 'apocalypse\";', 'president,', 'threat', 'message', 'funding', 'ITIF', 'editorial,', 'siding', 'Musk,', 'concluding:', '\"It', 'progress', 'technology', 'solid,', 'research', 'researcher', 'AI', 'future,', 'time', 'transport', '===', 'event', 'that:', 'transport', 'painful.', 'something', 'lot', 'people,', \"doesn't\", '[sic]', 'start', 'end', 'time.', 'pain', 'everyone', \"doesn't\", 'bunch', 'strangers,', 'killer,', 'OK,', 'great.', 'transport,', 'Afterwards,', 'audience', \"member's\", 'response', 'transportation', 'Japan.His', 'comment', 'criticism', 'public', 'transit', 'planning', 'expert', 'hashtag', '#GreatThingsThatHappenedonTransit', 'order', \"Musk's\", 'notion', 'everybody', 'transport.', 'urbanist', 'journalist', 'planning', 'transportation,', 'transport', 'transport', 'demand?', 'Climate', 'change', 'transport', 'expert', 'consultant', 'Portland,', '\"Musk\\'s', 'hatred', 'sharing', 'space', 'luxury', 'theory', 'city', 'minority', 'outcome', '\"You\\'re', 'idiot\",', '\"Sorry', 'exchange', 'amount', 'attention', 'laureate', 'controversy,', '\"You\\'re', 'idiot\"', 'idea', 'COVID-19', '===', 'criticism', 'online', 'COVID-19', 'pandemic.', 'COVID-19', 'cold', 'panic', '\"dumb\".', 'stating:If', 'somebody', 'house', 'leave,', 'house,', 'fascist,', 'democratic,', 'freedom.Musk', 'claims,', 'disease,', 'virus', 'end', 'April.\"', 'addition,', 'healthcare', 'COVID-19', 'case', 'reasons,', 'video', 'end', 'distancing', 'restrictions,', 'production', 'line', 'compliance', 'state', 'defiance', 'day', '\"Tesla', 'production', 'today', 'rules.', 'line', 'everyone', 'else.', 'anyone', 'arrested,', 'lawsuit', 'shutdown', 'life', '==', 'chairman', 'Musk', 'Foundation,', 'energy', 'disaster', 'SolarCity', 'kW', 'power', 'system', 'hurricane', 'response', 'center', 'US$250,000', 'power', 'project', 'city', 'tsunami.In', 'cartoonist', 'grandnephew', 'construction', 'project', 'museum', 'car', 'park.In', 'research', 'program', 'intelligence', 'trustee', 'signatory', 'Pledge.In', 'effort', 'water', 'water', 'filtration', 'access', 'water', 'schools.', 'area', 'drinking', 'water', 'water', 'filtration', 'systems.Musk', 'donor', 'tree', 'initiative', 'community', 'collaboration', 'filmmaker.', 'She', 'founder', 'movies.Musk', 'author', 'infant', 'death', 'syndrome', '(SIDS)', 'age', 'weeks.', '2004,', 'custody', 'actress', 'married.', 'relationship', 'Riley,', 'Riley,', '\"It', 'years.', 'someone', 'divorce', 'action', 'divorce', 'way,', 'time', 'filing', 'divorce', 'divorce', '2016.Musk', 'actress', 'year', 'Musk', 'musician', 'birth', 'son', 'name', 'Twelve\"),', 'name', 'podcast', 'appearance', '===', 'Experience', 'podcast', 'hours.', 'days,', 'appearance', 'profile', 'program', 'sampling', 'puff', 'cigar', 'claimed,', 'tobacco', 'cannabis.', 'inquiry', 'lot', 'weed', 'productivity...', 'story', 'instability', 'stock', 'incident,', 'confirmation', 'departure', 'cannabis', 'use', 'SpaceX', 'spokesperson', 'investigation', 'situation.', 'interview', 'incident:', '\"I', 'pot.', 'anybody', 'podcast', 'idea', 'recognition', '==', 'member', 'magazine', 'Entrepreneur', 'Year', 'award', 'work', 'award', 'design', 'product', 'design', 'award', 'design', 'Roadster,', 'award', 'contribution', 'field', 'space', 'transportation', 'design', 'rocket', 'award', 'journalist', 'Trophy', '2008/2009,', 'leadership', 'achievement', 'space.', \"Time's\", 'world', 'world', 'body', 'aerospace', 'records,', 'award', 'air', 'space,', 'rocket', 'orbit.', 'century', 'successor', 'rocket', '\"America\\'s', 'award:', 'year', \"President's\", 'award', 'gala', '\"Top', 'World\"', 'list', 'member', 'contribution', 'rescue', 'Medal', 'Musk', '(co-)', 'list', '==', 'Musk', 'restaurant,', '\"idea', 'jet.', '\"In', 'guest', 'appearance', 'episode', 'episode', 'fun', 'episode', 'soup', 'kitchen', 'spin-off', 'prequel', 'series', 'landing', 'stage', 'drone', 'ship', 'scene', 'Musk', 'office', 'notebook', 'feat', 'accomplished.Musk', 'documentary', 'Extinction,', 'custom', 'project', 'buildings,', 'Vatican.Musk', 'episode', 'Musk', 'comedy', 'film', 'Him?', 'characters,', 'bar', 'party.', 'life,', 'who,', '\"Do', 'TV', 'show', 'time', 'travel', 'self', 'pioneer', 'Access', 'series', 'year', 'scientist', 'ship', '\"How', 'history?', 'Musk,', 'Zefram', 'Cochrane?', 'fungus', 'expert?', 'A', 'man', 'survival', 'ego', 'others?\"', 'article', 'day', 'episode', 'aired,', 'mention', '\"also', 'omission', 'founder', 'space', 'entrepreneur', 'fan', 'cameo', 'being,', \"doesn't\", 'rate', 'mention', 'pantheon.', '\"In', 'request', 'reality', 'version', 'tusks,', 'season', 'episode', 'reading', '==', 'Billionaire', 'CEO'], ['Leaders', 'years', 'economics', 'physics', 'physics', 'sciences', 'days', 'services', 'services', 'tunnels', 'goals', 'goals', 'parents', 'suburbs', 'years', 'parents', 'interests', 'actions', 'boys', 'things', 'wishes', 'physics', 'economics', 'internships', 'ultracapacitors', 'Kids', 'days', 'things', 'physics/materials', 'opportunities', 'days', 'directions', 'graphics', 'contracts', 'directors', 'plans', 'services', 'disagreements', 'executives', 'crops', 'supplies', 'missiles', 'payloads', 'companies', 'satellites', 'rockets', 'materials', 'sales', 'vehicles', 'vehicles', 'rockets', 'vehicles', 'engines', 'engines', 'contracts', 'flights', 'companies', 'rockets', 'experts', 'rockets', 'times', 'missions', 'attempts', 'boosters', 'satellites', 'satellites', 'satellites', 'satellites', 'views', 'threats', 'risks', 'dinosaurs', 'millions', 'humans', 'details', 'capabilities', 'vehicles', 'vehicles', 'fins', 'fins', 'flaps', 'engines', 'fins', 'fins', 'parts', 'names', 'planets', 'men', 'roles', 'directors', 'conflicts', 'positions', 'sports', 'sports', 'sales', 'vehicles', 'systems', 'companies', 'investors', 'publications', 'modes', 'vehicles', 'Things', 'limitations', 'coasts', 'plans', 'patents', 'manufacturers', 'programs', 'programs', 'manufacturers', 'roofs', 'segments', 'blackouts', 'days', 'discussions', 'investors', 'terms', 'allegations', 'days', 'interviews', 'terms', 'tweets', 'cars', \"Musk's\", 'terms', 'topics', 'cars', 'deliveries', 'variants', '2021.As', 'shares', 'clients', 'cousins', 'systems', 'batteries', 'plants', 'facilities', 'funds', 'tubes', 'capsules', 'motors', 'engineers', 'foundations', 'designs', 'costs', 'features', 'skis', 'students', 'others', 'pods', 'corporations', 'systems', 'governments', 'conflicts', 'concerns', 'dangers', 'devices', 'beings', 'advancements', 'enhancements', 'dangers', 'ways', 'brains', 'discussions', 'bodies', 'offices', 'vehicles', 'complications', 'plans', 'areas', 'images', 'rescuers', 'employees', 'requests', 'engineers', 'companies', 'Engineers', 'companies', 'hours', 'pounds', 'divers', 'compartments', 'weights', 'children', 'skills', 'pods', 'children', 'masks', 'authorities', 'contributions', 'years', 'relations', 'days', \"it's\", 'preparations', 'counts', 'details', 'years', 'years', 'standards', 'lyrics', 'bits', 'Views', 'resources', 'taxes', 'occasions', 'things', 'things', 'councils', 'voices', 'councils', 'contributions', 'contributions', 'campaigns', 'advocates', 'advertisements', 'causes', 'campaigns', 'candidates', 'positions', 'subsidies', 'companies', 'vehicles', 'statements', 'sources', 'subsidies', 'investors', 'subsidies', 'entrepreneurs', 'people', 'statements', 'buyers', 'products', 'subsidies', 'taxes', 'articles', 'users', 'articles', 'journalists', 'laws', 'entities', 'stars', \"it's\", \"that's\", 'dangers', 'challenges', 'investments', \"what's\", 'movies', 'outcomes', 'humans', 'years', 'rectangles', 'years', 'simulations', 'millions', 'people', \"it's\", 'games', 'warnings', 'warnings', 'AIs', 'cuts', '\"alarmists', 'others', 'scenarios', 'consequences', 'sidelines', 'people', 'users', 'views', 'trains', 'strangers', 'preferences', 'media', 'views', 'aspects', 'businesses', 'earnings', 'people', 'tweets', 'lockdowns', 'children', 'trends', 'cases', 'articles', 'companies', 'numbers', '\"[d]ocs', 'guidelines', 'headquarters', 'efforts', 'systems', 'areas', 'humanity.As', 'fountains', 'systems', 'children', 'schools', 'trees', 'students', 'sons', 'fertilization—twins', 'triplets', 'media', 'proceedings', 'characters', 'topics', 'aspects', 'people', \"Musk's\", 'ramifications', 'contracts', 'Awards', 'recipients', 'recipients', 'people', 'recipients', 'people', 'recipients', 'CEOs', 'Advances', 'Leaders', 'media', 'lines', 'calculations', 'images', 'species', 'episodes', 'lives', \"PewDiePie's\", 'links', 'Appearances', 'IMDb'], [], []]\n"
     ]
    }
   ],
   "source": [
    "# 1.3 Use the function above to print all the nouns (there are multiple tags for nouns), and, respectively all the verbs (corresponding to all verb tags). Also, print the percentage of content words (noun+verbs) from the entire text\n",
    "\n",
    "# all the nouns and all the verbs\n",
    "# wasn't sure if by nouns you also mean propouns. In that case, 'PP', 'PPZ', 'WP', 'WP$' should be added.\n",
    "nouns = find_words_by_pos(['NN', 'NNS', 'NP', 'NPS'], sentences)\n",
    "# print (nouns)"
   ]
  },
  {
   "cell_type": "code",
   "execution_count": 27,
   "metadata": {},
   "outputs": [
    {
     "name": "stdout",
     "output_type": "stream",
     "text": [
      "VB\n",
      "VBD\n",
      "VBG\n",
      "VBN\n",
      "VBP\n",
      "VBZ\n",
      "VH\n",
      "VHD\n",
      "VHG\n",
      "VHN\n",
      "VHP\n",
      "VHZ\n",
      "VV\n",
      "VVD\n",
      "VVG\n",
      "VVN\n",
      "VVP\n",
      "VVZ\n",
      "[['attend', 'pursue', 'promote', 'revolve', '\"change', 'help', 'humanity\".', 'try', 'take', 'prolong', 'reduce', 'go', 'move', 'be', 'get', 'study', 'go', 'pursue', 'launch', 'abandon', 'become', 'move', 'land', 'reawaken', 'buy', 'send', 'look', 'start', 'build', 'cut', 'enjoy', 'Puff', 'put', 'lift', 'provide', 'launch', 'berth', 'develop', 'make', 'space.', 'provide', 'deploy', 'be', 'serve', 'destroy', 'spell', 'extinguish', 'expand', 'go', 'reduce', 'send', \"Mars'\", 'establish', 'have', 'be', 'be', 'explore', 'colonize', 'support', 'replace', 'have', 'use', 'be', 'actuate,', 'upgrade', 'escape', 'oversaw', 'Build', 'build', 'build', 'bring', 'name', 'overcome', 'expand', 'allow', 'be', 'entice', 'speed', 'Create', 'Expand', 'address', 'Develop', 'Enable', 'make', 'install', 'be', 'help', 'alleviate', 'be', 'be', 'confirm', 'bar', 'step', 'regret', 'monitor', 'be', 'respect', 'build', 'hold', 'need', 'visit', 'issue', 'be', 'start', 'buy', 'rise', 'end', 'devote', 'help', 'combat', 'collaborate', 'use', 'smooth', 'triple', 'be', 'be', 'invest', 'help', 'build', 'be', 'make', 'travel', 'use', 'reduce', 'allow', 'reduce', 'build', 'operate', 'run', 'build', 'develop', '\"counteract', 'gain', 'use', 'gain', 'counteract', 'avoid', 'benefit', 'integrate', 'be', 'keep', 'improve', 'allow', 'implant', 'create', 'build', 'start', 'start', 'update', 'begin', 'provide', 'build', 'design', 'help', 'continue', 'place', 'adjust', 'solve', 'have', 'exit', 'fit', 'build', 'Thailand.By', 'use', 'go', 'have', 'be', 'be', 'agree', 'become', 'release', 'make', 'have', 'associate', 'be', 'do', 'exist', 'be', 'say', 'feel', 'have', 'participate', 'withdraw', 'have', 'win', 'represent', 'get', 'believe', 'provide', 'use', 'discourage', 'achieve', 'come', 'take', 'get', 'read', 'exaggerate', 'be', 'become', 'be', 'see', 'think', 'want', 'pull', 'receive', 'build', 'be', 'become', 'rate', 'vote', 'be', 'Well,', 'explain', '\"bless', 'be', 'be', 'see', 'get', 'happen', 'be', 'think', 'be', 'make', 'do', 'improve', 'make', 'keep', 'try', 'make', 'become', 'have', 'say', 'be', 'result', 'get', 'anticipate', 'bring', 'be', 'arrive', 'start', 'want', 'get', 'end?', 'go', 'be', 'dispel', 'be', 'afford\",', 'work', 'say', 'comment', 'shut', 'stay', 'be', 'stay', 'be', 'say', 'be', 'Give', 'be', 'be', 'be', 'be', 'donate', 'donate', 'donate', 'build', 'run', 'help', 'solve', 'install', 'clean', \"'#TeamTrees'\", 'plant', 'love', 'make', 'Musk,', 'be', \"Rogan's\", 'find', 'have', 'smoke', 'tell,', 'smoke', 'reach', 'reach', 'Earth\";', 'be', 'help', 'disguise', 'Set', 'motivate', 'want', 'be', 'Colonize'], ['was', 'was', 'was', 'attended', 'was', 'transferred', 'received', 'began', 'dropped', 'co-founded', 'was', 'founded', 'merged', 'had', 'was', 'founded', 'joined', 'was', 'became', 'inspired', '(now', 'co-founded', 'co-founded', 'focused', 'founded', 'focused', 'said', 'was', 'was', 'was', 'lived', 'made', 'separated', 'owned', 'grew', 'led', 'was', 'developed', 'taught', 'sold', 'created', 'included', 'drew', 'was', 'was', 'threw', 'attended', 'insisted', 'became', 'knew', 'moved', 'attended', 'entered', 'left', 'graduated', 'held', 'researched', 'had', 'had', 'had', 'was', 'commenced', 'dropped', 'started', 'developed', 'marketed', 'obtained', 'persuaded', 'were', 'acquired', 'received', 'co-founded', 'merged', 'had', 'called', 'focused', 'was', 'was', 'remained', 'was', 'received', 'was', 'owned', 'purchased', 'conceived', 'traveled', 'met', 'was', 'was', 'returned', 'returned', 'had', 'was', 'had', 'were', 'considered', 'stormed', 'realized', 'needed.', 'calculated', 'were', 'was', 'ended', 'founded', 'traded', 'held', 'were', 'was', 'designed', 'became', 'announced', 'was', 'retired', 'berthed', 'awarded', 'believed', 'was', 'believed', 'were', 'landed', 'had', 'was', 'had', 'recovered', 'were', 'launched', 'launched', 'built', 'carried', 'began', 'occurred', 'were', 'was', 'was', 'said', 'evolved', 'created', 'said', 'stated', 'was', 'crewed', 'revealed', 'unveiled', 'began', 'unveiled', 'began', 'showed', 'added', 'was', 'had', 'stated', 'were', 'were', 'pointed', 'was', 'was', 'financed', 'played', 'led', 'were', 'took', 'was', 'was', 'assumed', 'built', 'began', 'unveiled', 'was', 'sold', 'was', 'favored', 'led', 'was', 'began', 'intended', 'was', 'held', 'was', 'said', 'planned', 'announced', 'announced', 'had', 'had', 'changed', 'was', 'was', 'was', 'released', 'commenced', 'was', 'arranged', 'arranged', 'was', 'exceeded', 'was', 'had', 'claimed', 'did', 'sought', 'called', 'had', 'reached', 'were', 'was', 'proclaimed', 'triggered', 'said', 'was', 'issued', 'stated', 'reacted', 'was', 'was', 'included', 'traveled', 'met', 'expressed', 'wished', 'was', 'was', 'was', 'were', 'unveiled', 'was', 'was', 'was', 'was', 'were', 'was', 'was', 'argued', 'provided', 'was', 'was', 'was', 'was', 'announced', 'stated', 'started', 'was', 'accepted', 'unveiled', 'was', 'outlined', 'assigned', 'worked', 'was', 'was', 'estimated', 'announced', 'was', 'started', 'had', 'had', 'was', 'had', 'said', 'had', 'described', 'announced', 'left', 'became', 'expressed', 'noted', '\"added', 'co-founded', 'tweeted', 'was', 'tweeted', 'had', 'began', 'had', 'had', 'approved', 'provided', 'opened', 'released', 'sold', 'attempted', 'offered', 'contacted', 'arranged', 'documented', 'urged', 'built', 'delivered', 'was', 'requested', 'were', 'had', 'decided', 'was', 'stated', 'was', 'had', 'had', 'criticized', 'was', 'asserted', 'deleted', 'told', 'tuned', 'stated', 'was', 'issued', 'tweeted', 'sued', 'had', 'emailed', 'accepted', 'was', 'sent', 'had', 'claimed', 'was', 'tweeted', '\"did', 'filed', 'was', 'was', 'began', 'apologized', 'ruled', 'was', 'mentioned', 'appeared', 'filed', 'reaffirmed', 'released', 'was', 'released', 'described', 'posted', 'said', 'was', 'stated', 'was', 'registered', 'prevented', 'stated', 'criticized', 'expressed', 'accepted', 'resigned', 'came', 'said', 'stated', 'was', 'stated', 'found', 'had', 'said', 'contributed', 'gave', 'hired', 'had', 'was', 'withdrew', 'was', 'pulled', 'called', 'argued', 'were', 'interviewed', 'speculated', 'were', 'claimed', 'had', 'were', 'caused', 'announced', 'was', 'suggested', 'caused', 'bought', 'asked', 'believed', 'was', 'asked', 'were', 'asked', 'thought', 'replied', 'said', '\"hope[s]', 'stated', 'described', 'described', 'donated', 'was', 'was', 'had', 'responded', 'had', 'found', 'argued', 'were', 'awarded', 'complained', 'stated', 'disagreed', 'stated', 'stated', 'dismissed', 'functioned', 'sparked', 'started', 'was', 'hated', 'summarized', 'said', 'responded', 'received', 'prompted', 'likened', 'called', 'ordered', 'refuted', 'called', 'sent', 'were', 'promoted', 'suggested', 'were', 'retweeted', 'reopened', 'tweeted', 'announced', 'had', 'collaborated', 'donated', 'had', 'was', 'agreed', 'pledged', 'donated', 'donated', 'donated', 'met', 'were', 'married', 'died', 'had', 'began', 'announced', 'had', 'was', 'filed', 'was', 'announced', 'were', 'was', 'began', 'split', 'revealed', 'had', 'announced', 'was', 'gave', 'appeared', 'had', 'was', 'smoked', 'became', 'dropped', 'coincided', 'wondered', 'told', 'was', 'said', 'watched', 'served', 'was', 'affected', 'presented', 'Named', 'listed', 'was', 'was', 'was', 'Awarded', 'was', 'named', 'was', 'was', 'was', 'was', 'was', 'was', 'met', 'had', 'made', 'Fell', 'poked', 'appeared', 'appeared', 'mailed', 'was', 'was', 'appeared', 'was', 'appeared', 'was', 'was', 'introduced', 'was', 'put', 'published', 'pitched', 'succeeded', 'co-hosted', 'voiced'], ['moving', 'developing', 'reducing', 'reducing', 'establishing', 'life.During', 'using', 'graduating', 'saying', 'thinking', 'seeing', 'obtaining', 'awaiting', 'avoiding', 'publishing', 'being', 'stating', 'containing', 'growing', 'according', 'bringing', 'leaving', 'According', 'building', 'applying', 'creating', 'spacefaring', 'advancing', 'depending', 'replacing', 'making', 'making', 'including', 'doubling', 'belonging', 'preserving', 'expanding', 'departing', 'replacing', 'actuating', 'serving', 'planning', 'joining', 'Following', 'escalating', 'doing', 'building', 'becoming', 'concluding', 'killing', 'tripling', 'including', 'constituting', 'Anticipating', 'existing', '[including', 'using', 'developing', 'ending', 'resulting', 'claiming', 'taking', 'serving', 'admitting', 'denying', 'remaining', 'sending', 'According', 'According', 'describing', 'having', 'according', 'asking', 'violating', 'clarifying', 'tweeting', 'saying', 'granting', 'underlying', 'funding', 'going', 'building', 'incorporating', 'releasing', 'scoping', 'envisioning', 'establishing', 'creating', 'building', 'reaching', 'stopping', 'making', 'owning', 'developing', 'stating', 'creating', 'helping', 'interfacing', 'minimizing', 'working', 'going', 'venting', 'saying', 'working', 'arranging', 'responding', 'weighing', 'transporting', 'learning', 'being', '(using', 'exploring', 'amounting', 'causing', 'considering', 'following', 'showing', 'making', 'using', 'traveling', 'living', 'moving', 'saying', 'growing', 'seeking', 'featuring', 'featuring', 'pretending', 'causing', 'targeting', 'being', 'describing', 'saying', 'Following', 'advising', 'Regarding', 'Leaving', 'lobbying', 'maxing', 'running', 'including', 'criticizing', 'stating', 'holding', 'regarding', 'producing', 'noting', 'acknowledging', 'dealing', 'going', 'looking', 'spending', 'targeting', 'criticizing', 'planning', 'creating', 'calling', 'claiming', 'realizing', 'architecting', 'being', 'playing', 'watching', 'calling', '\"summoning', 'working', 'trying', 'going', 'being', 'playing', 'getting', 'calling', 'saying', 'going', 'touting', 'thinking', 'specializing', 'referring', 'planning', 'saying', 'saying', 'opposing', 'tweeting', 'including', 'saying', 'inflating', 'calling', 'adding', 'restarting', 'moving', 'challenging', 'providing', 'keeping', 'Giving', 'planting', 'dating', 'tweeting', 'dating', 'conflicting', 'According', 'containing', 'growing', 'being', 'processing', 'governing', 'designing', 'Living', 'creating', 'regarding', 'playing', 'volunteering', 'being', 'containing', 'detailing', 'Racing', 'including', 'including', 'saving', 'asking', 'According', 'landing', 'Shaping'], ['born', 'lived', 'elected', 'ranked', 'ranked', 'listed', 'raised', 'acquired', 'launched', 'bought', 'optimized', 'envisioned', 'known', 'proposed', 'known', 'born', 'divorced', 'estranged', 'referred', 'called', 'bullied', 'hospitalized', 'determined', 'called', 'hired', 'raised', 'implemented', 'thwarted', 'renamed', 'ousted', 'acquired', 'refurbished', 'envisioned', 'seen', 'spat', 'worked', 'offered', 'concluded', 'employed', 'funded', 'produced', 'selected', 'followed', 'handled', 'projected', 'been', 'achieved', 'replicated', 'landed', 'been', 'recovered', 'launched', 'estimated', 'influenced', 'stated', 'stated', 'aimed', 'followed', 'performed', 'called', 'redesigned', 'shown', 'revised', 'used', 'given', '\"needed', 'needed', 'incorporated', 'inspired', 'involved', 'ousted', 'iterated', 'aimed', 'delayed', 'unveiled', 'planned', 'blocked', 'compared', 'named', 'used', 'acquired', 'owned', 'opened', 'integrated', 'acquired', 'installed', 'free.', 'achieved', 'expected', 'sued', 'been', 'secured', 'held', 'characterized', 'traded', 'compromised', 'fined', 'forced', 'agreed', 'tweet', 'disputed', 'settled', 'quoted', 'achieved', 'set', 'manufactured', 'expected', 'owned', 'granted', 'approved', 'meant', 'co-founded', 'acquired', 'owned', 'committed', 'followed', 'leased', 'completed', 'driven', 'published', 'posted', 'proposed', 'theorized', 'used', 'announced', 'done', 'lasted', 'received', 'received', 'devoted', 'stated', 'involved', 'centered', 'implanted', 'dedicated', 'stuck', 'named', 'said', 'proposed', 'optimized', 'been', 'claimed', 'inspired', 'based', 'propelled', 'intended', 'had', 'required', 'tested', 'flown', 'been', 'rescued', 'awarded', 'been', 'played', 'worked', 'referred', 'dated', 'been', 'revealed', 'convicted', 'produced', 'written', 'been', 'stated', 'argued', 'used', 'used', 'adopted', 'found', 'vindicated', 'proposed', 'performed', 'written', 'produced', 'described', 'Prompted', 'voiced', 'stated', 'described', 'described', 'existed', 'been', 'done', 'spent', 'been', 'maintained', 'donated', 'donated', 'been', 'started', 'supported', 'contributed', 'funded', 'contributed', 'been', 'accused', 'stated', 'been', 'succeeded,', 'projected', 'estimated', 'given', 'leased', 'estimated', 'published', 'used', 'stated', 'considered', 'spoken', 'invested', 'focused', 'posed', 'said', 'been', 'asked', 'augmented', 'brought', 'clashed,', 'discussed', 'matched', 'adopted', 'Induced', 'received', 'allowed', 'compelled', 'arrested', 'been', 'criticised', 'me.\"', 'filed', 'been', 'devastated', 'asked', 'aimed', 'free,', 'been', 'led', 'produced', 'separated', 'followed', 'ended', 'finalized', 'begun', 'discussed', 'accrued', 'laced', 'carried', 'presented', 'recognized', 'developed', 'given', 'developed', 'Recognized', 'awarded', 'awarded', 'named', 'awarded', 'ranked', 'awarded', 'elected', 'awarded', 'awarded', 'listed', 'titled', 'shown', 'covered', 'followed', 'featured', 'designed', 'endangered', 'voiced', 'met', 'played', 'asked', 'referenced', 'mentioned', 'remembered', 'failed', 'known'], ['include', 'are', 'minimize', 'remember', 'are', 'have', 'produce', 'have', 'face', 'saw:', 'provide', 'car,', 'have', '(or', 'burn', 'are', \"aren't\", 'want', 'do', 'reveal', 'ride', \"hasn't\", 'oppress', 'merge', 'stick', 'think', 'comply', '\"not', 'have', 'seem', 'are', '\"unlike', 'work', 'give', 'give', '\"[for]', 'have', 'have', 'believe', 'are', 'think', 'are', 'are', 'want', 'are', 'want', 'win', 'get', 'do', 'have', 'Do', 'think', 'think', 'have', 'come', 'think', 'know', \"can't\", 'develop,', 'look', 'mean', 'are', \"don't\", 'are', 'like', 'think', 'have', 'know,', 'are', 'are', 'live', 'think', 'were.', 'have', 'have', 'have', 'assume', 'have', 'have', 'say', 'want', 'think', 'sucks.', 'do', 'want', 'want', 'want', 'want,', 'want.', 'are', 'call', 'cannot', 'leave', 'do,', 'make', 'ask', 'have', 'share', 'forever.', 'are', 'know', \"don't\", 'do', 'have', 'include', 'include', 'include', 'include', 'know', 'do', 'show', '=='], ['is', 'is', 'has', 'is', 'has', 'is', 'is', 'is', 'aims', 'is', 'has', 'has', 'has', 'has', 'has', 'is', 'has', 'has', 'is', 'is', 'attempts', 'has', 'is', 'develops', 'manufactures', 'is', 'has', 'is', 'is', 'is', 'is', 'hopes', 'wants', 'lacks', 'holds', 'is', 'has', 'speeds', 'is', 'produces', 'is', 'does', 'is', 'is', 'equates', 'is', 'is', 'is', 'is', 'has', 'is', 'is', 'aims', 'is', 'wants', 'has', 'wants', 'is', 'sees', 'is', 'is', 'requires', 'is', 'is', 'avoids', 'has', 'has', 'is', 'is', 'is', 'has', 'is', 'defines', 'is', 'is', 'wants', 'has', 'has', 'backs', 'has', 'thinks', 'has', 'shifts', 'seeks', 'supports', 'prefers', 'supports', 'is', 'has', 'has', \"that's\", 'believes', 'thinks', 'is', 'is', 'has', 'has', 'is', 'reflects', 'has', 'is', 'is', 'revolves', 'is', 'gives', 'tracks', 'has', 'has', 'has', 'represents', 'uses', 'has', 'has', 'has', 'has', 'does', 'says', \"it's\", 'is', 'is', 'goes', 'is', 'is', 'is', 'is', 'is', 'is', 'includes', 'employs', 'is', \"there's\", 'does', 'begs', 'has', 'does', 'believes', 'is', 'is', 'is', 'is', \"that's\", 'has', \"there's\", 'has', 'has', 'has', 'is', 'thinks', 'is', 'is', 'is', 'is', 'is', 'is', 'is', 'is', 'leave', \"It's\", 'goes', 'is', 'yields', 'does', 'is', 'has', 'wants', 'is', 'is', 'is', 'has', 'is', 'is', 'is', 'focuses', 'is', 'has', 'is', 'is', 'has', 'is', 'is', 'is', 'is', 'is', 'refers', 'responds', 'meets', 'attempts', 'is', 'is', 'is'], [], [], [], [], [], [], [], [], [], [], [], []]\n"
     ]
    }
   ],
   "source": [
    "# 1.3\n",
    "verbs = find_words_by_pos(['VB', 'VBD', 'VBG', 'VBN', 'VBP', 'VBZ', 'VH', 'VHD', 'VHG', 'VHN', 'VHP', 'VHZ', 'VV', 'VVD', 'VVG', 'VVN', 'VVP', 'VVZ'], sentences)\n",
    "print (verbs)"
   ]
  },
  {
   "cell_type": "code",
   "execution_count": 28,
   "metadata": {},
   "outputs": [
    {
     "name": "stdout",
     "output_type": "stream",
     "text": [
      "2351\n",
      "1612\n",
      "11530\n",
      "Noun percentage: 20.39028620988725\n",
      "Verb percentage: 13.980919340849956\n"
     ]
    }
   ],
   "source": [
    "# 1.3\n",
    "total_nouns = 0\n",
    "for noun_list in nouns:\n",
    "    total_nouns += len(noun_list)\n",
    "    \n",
    "total_verbs = 0\n",
    "\n",
    "for verb_list in verbs:\n",
    "    total_verbs += len(verb_list)\n",
    "\n",
    "print (total_nouns)\n",
    "print (total_verbs)\n",
    "print (len(only_words))\n",
    "\n",
    "print (\"Noun percentage:\", total_nouns / len(only_words) * 100)\n",
    "print (\"Verb percentage:\", total_verbs / len(only_words) * 100)"
   ]
  },
  {
   "cell_type": "code",
   "execution_count": 39,
   "metadata": {},
   "outputs": [
    {
     "name": "stdout",
     "output_type": "stream",
     "text": [
      "Original word | POS | Simple lemmatization | Lemmatization with POS\n",
      "['born', 'VBN', 'born', 'bear']\n",
      "['is', 'VBZ', 'is', 'be']\n"
     ]
    }
   ],
   "source": [
    "# 1.4\n",
    "# Print a table of four columns. The columns will be separated with the character \"|\". \n",
    "# The head of the table will be:\n",
    "# Original word | POS | Simple lemmatization | Lemmatization with POS\n",
    "# that will compare the results of lemmatization (WordNetLemmatizer) without giving the part of speech \n",
    "# and the lemmatization with the given part of speech for each word. The table must contain only words \n",
    "# that give different results for the two lemmatizations (for example, the word \"running\" - without \n",
    "# POS, the result will always be running, but with pos=\"v\" it is \"run\"). The table will contain the \n",
    "# results for the first N sentences from the text (each row corresponding to a word). Try to print \n",
    "# only distinct results inside the table (for example, if a word has two occurnces inside the text, \n",
    "# and matches the requirments for appearing in the table, it should have only one corresponding row).\n",
    "\n",
    "# taken from stackoverflow\n",
    "def get_wordnet_pos(treebank_tag):\n",
    "\n",
    "    if treebank_tag.startswith('J'):\n",
    "        return wordnet.ADJ\n",
    "    elif treebank_tag.startswith('V'):\n",
    "        return wordnet.VERB\n",
    "    elif treebank_tag.startswith('N'):\n",
    "        return wordnet.NOUN\n",
    "    elif treebank_tag.startswith('R'):\n",
    "        return wordnet.ADV\n",
    "    else:\n",
    "        return wordnet.NOUN\n",
    "    \n",
    "\n",
    "lem = WordNetLemmatizer()\n",
    "\n",
    "dict_words = {}\n",
    "table = []\n",
    "for sentence in sentences[:1]:\n",
    "    sentence_words = tokenizer.tokenize(sentence)\n",
    "    for word in sentence_words:\n",
    "        tagged_word = tagger.tag([word])\n",
    "        word = tagged_word[0][0]\n",
    "        long_pos = tagged_word[0][1]\n",
    "        pos = get_wordnet_pos(long_pos)\n",
    "        lem_word = lem.lemmatize(word)\n",
    "        try:\n",
    "            lem_word_pos = lem.lemmatize(word, pos=pos)\n",
    "            if (lem_word != lem_word_pos and word not in dict_words):\n",
    "                dict_words[word] = [word, long_pos, lem_word, lem_word_pos]\n",
    "#             print(word, long_pos, lem_word, lem_word_pos)\n",
    "        except:\n",
    "            print(\"oh, well\")\n",
    "\n",
    "print(\"Original word | POS | Simple lemmatization | Lemmatization with POS\")\n",
    "for key in dict_words:\n",
    "    print(dict_words[key])\n",
    "    "
   ]
  },
  {
   "cell_type": "code",
   "execution_count": 50,
   "metadata": {},
   "outputs": [
    {
     "name": "stdout",
     "output_type": "stream",
     "text": [
      "{'NNP': 1764, 'VBN': 281, 'CD': 333, 'VBZ': 190, 'DT': 995, 'JJ': 696, 'NN': 2020, 'CC': 311, 'PRP': 228, 'IN': 1455, 'NNPS': 26, 'JJS': 26, 'PRP$': 116, 'RB': 241, 'FW': 421, 'VBD': 522, 'NNS': 334, 'VBG': 227, 'TO': 299, 'WRB': 37, 'VB': 296, 'RP': 23, 'WDT': 65, 'VBP': 112, 'JJR': 25, 'WP': 27, 'MD': 84, 'EX': 13, 'RBS': 6, 'RBR': 12, 'SYM': 1, 'PDT': 2, ':': 9, 'WP$': 0}\n"
     ]
    }
   ],
   "source": [
    "# 1.5 Print a graphic showing the number of words for each part of speech. \n",
    "# If there are too many different parts of speech, \n",
    "# you can print only those with a higher number of corresponding words.\n",
    "\n",
    "part_frequency = {}\n",
    "for part in tagger.tag(sentences):\n",
    "    if part[1] in part_frequency:\n",
    "        part_frequency[part[1]] += 1\n",
    "    else: \n",
    "        part_frequency[part[1]] = 0\n",
    "\n",
    "print (part_frequency)"
   ]
  },
  {
   "cell_type": "code",
   "execution_count": 51,
   "metadata": {},
   "outputs": [
    {
     "data": {
      "image/png": "[encoded data removed]",
      "text/plain": [
       "<Figure size 432x288 with 1 Axes>"
      ]
     },
     "metadata": {
      "needs_background": "light"
     },
     "output_type": "display_data"
    }
   ],
   "source": [
    "plt.bar(range(len(part_frequency)), list(part_frequency.values()), align='center')\n",
    "plt.xticks(range(len(part_frequency)), list(part_frequency.keys()))\n",
    "plt.show()"
   ]
  },
  {
   "cell_type": "code",
   "execution_count": null,
   "metadata": {},
   "outputs": [],
   "source": []
  }
 ],
 "metadata": {
  "kernelspec": {
   "display_name": "Python 3",
   "language": "python",
   "name": "python3"
  },
  "language_info": {
   "codemirror_mode": {
    "name": "ipython",
    "version": 3
   },
   "file_extension": ".py",
   "mimetype": "text/x-python",
   "name": "python",
   "nbconvert_exporter": "python",
   "pygments_lexer": "ipython3",
   "version": "3.7.6"
  }
 },
 "nbformat": 4,
 "nbformat_minor": 4
}
