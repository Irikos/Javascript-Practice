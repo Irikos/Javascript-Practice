{
 "cells": [
  {
   "cell_type": "code",
   "execution_count": 1,
   "metadata": {},
   "outputs": [
    {
     "name": "stdout",
     "output_type": "stream",
     "text": [
      "Hello, world!\n",
      "Starting project...\n"
     ]
    }
   ],
   "source": [
    "print(\"Hello, world!\")\n",
    "print(\"Starting project...\")"
   ]
  },
  {
   "cell_type": "code",
   "execution_count": 2,
   "metadata": {},
   "outputs": [
    {
     "name": "stdout",
     "output_type": "stream",
     "text": [
      "Importing libraries...\n",
      "Done importing libraries.\n"
     ]
    }
   ],
   "source": [
    "print(\"Importing libraries...\")\n",
    "#imports \n",
    "import numpy as np\n",
    "import collections as cl\n",
    "import pandas as pd\n",
    "import matplotlib.pyplot as plt\n",
    "from mpl_toolkits.mplot3d import Axes3D  # noqa: F401 unused import\n",
    "import seaborn as sns\n",
    "import sklearn as sk\n",
    "from sklearn.model_selection import train_test_split\n",
    "from sklearn.ensemble import RandomForestClassifier\n",
    "from sklearn.neighbors import KNeighborsClassifier\n",
    "from sklearn import svm\n",
    "from sklearn.metrics import precision_score, recall_score, confusion_matrix, plot_confusion_matrix, classification_report, accuracy_score, f1_score\n",
    "from sklearn.preprocessing import LabelEncoder\n",
    "from sklearn.preprocessing import OneHotEncoder\n",
    "from sklearn.compose import ColumnTransformer \n",
    "from sklearn.dummy import DummyClassifier\n",
    "from sklearn.model_selection import GridSearchCV\n",
    "from collections import defaultdict\n",
    "from sklearn.cluster import KMeans\n",
    "from sklearn.manifold import TSNE\n",
    "from sklearn.decomposition import PCA\n",
    "from sklearn.preprocessing import StandardScaler\n",
    "print(\"Done importing libraries.\")"
   ]
  },
  {
   "cell_type": "code",
   "execution_count": 4,
   "metadata": {},
   "outputs": [
    {
     "name": "stdout",
     "output_type": "stream",
     "text": [
      "Importing dataset...\n",
      "Done importing dataset.\n"
     ]
    }
   ],
   "source": [
    "print(\"Importing dataset...\")\n",
    "data = pd.read_csv(\"Crimes_-_2001_to_present.csv\", dtype=object)\n",
    "print(\"Done importing dataset.\")"
   ]
  },
  {
   "cell_type": "code",
   "execution_count": 5,
   "metadata": {},
   "outputs": [
    {
     "name": "stdout",
     "output_type": "stream",
     "text": [
      "<class 'pandas.core.frame.DataFrame'>\n",
      "RangeIndex: 7124578 entries, 0 to 7124577\n",
      "Data columns (total 13 columns):\n",
      " #   Column          Dtype \n",
      "---  ------          ----- \n",
      " 0   Date            object\n",
      " 1   IUCR            object\n",
      " 2   Primary Type    object\n",
      " 3   Arrest          object\n",
      " 4   Domestic        object\n",
      " 5   Beat            object\n",
      " 6   District        object\n",
      " 7   Ward            object\n",
      " 8   Community Area  object\n",
      " 9   FBI Code        object\n",
      " 10  Year            object\n",
      " 11  Latitude        object\n",
      " 12  Longitude       object\n",
      "dtypes: object(13)\n",
      "memory usage: 706.6+ MB\n"
     ]
    }
   ],
   "source": [
    "# Feature engineering\n",
    "# 1. Drop unused tables: ID, Case Number, Description, Block, Location, Location Description as we have too much location information\n",
    "data = data.drop(['ID', 'Case Number', 'X Coordinate', 'Y Coordinate', 'Block', 'Updated On', 'Location', 'Description', 'Location Description'], axis=1)\n",
    "data.info()"
   ]
  },
  {
   "cell_type": "code",
   "execution_count": 6,
   "metadata": {},
   "outputs": [],
   "source": [
    "# We've eliminated 2020 to minimize the risk of possible anomalies happening in 2020 due to Covid-19\n",
    "data['Year'] = pd.to_numeric(data['Year'])\n",
    "data = data[(data.Year > 2014) & (data.Year < 2020)]"
   ]
  },
  {
   "cell_type": "code",
   "execution_count": 7,
   "metadata": {},
   "outputs": [],
   "source": [
    "# since the dataset is absolutely immense, we can easily drop the NaN rows. We will do so before sampling\n",
    "data = data.dropna()"
   ]
  },
  {
   "cell_type": "code",
   "execution_count": 8,
   "metadata": {},
   "outputs": [],
   "source": [
    "data['Arrest'] = pd.factorize(data['Arrest'])[0]"
   ]
  },
  {
   "cell_type": "code",
   "execution_count": 9,
   "metadata": {},
   "outputs": [],
   "source": [
    "# Dataset is too huge and takes too long to train on all of it, we're going to sample 100.000. Also, we're going to duplicate the sampled data in order to apply\n",
    "# supervised and unsupervised algorithms on the same sample\n",
    "# Random sampling\n",
    "data = data.sample(n=100000)"
   ]
  },
  {
   "cell_type": "code",
   "execution_count": 10,
   "metadata": {},
   "outputs": [],
   "source": [
    "# Since we loaded the model with object as dtype (for faster loading), \n",
    "# we're going to specify all the types manually\n",
    "data['DateTime'] = pd.to_datetime(data['Date'])\n",
    "data['Year'] = data['DateTime'].dt.year\n",
    "data['Month'] = data['DateTime'].dt.month\n",
    "data['Day'] = data['DateTime'].dt.day\n",
    "data['Hour'] = data['DateTime'].dt.hour\n",
    "\n",
    "data = data.drop(['Date'], axis=1)\n",
    "data = data.drop(['DateTime'], axis=1)"
   ]
  },
  {
   "cell_type": "code",
   "execution_count": 11,
   "metadata": {},
   "outputs": [],
   "source": [
    "# Convert categorical attributes to Numerical\n",
    "data['IUCR'] = pd.factorize(data['IUCR'])[0]\n",
    "data['Primary Type'] = pd.factorize(data['Primary Type'])[0]\n",
    "data['Domestic'] = pd.factorize(data['Domestic'])[0]\n",
    "data['Beat'] = pd.factorize(data['Beat'])[0]\n",
    "data['District'] = pd.factorize(data['District'])[0]\n",
    "data['Ward'] = pd.factorize(data['Ward'])[0]\n",
    "data['Community Area'] = pd.factorize(data['Community Area'])[0]\n",
    "data['FBI Code'] = pd.factorize(data['FBI Code'])[0]\n",
    "data['Latitude'] = pd.factorize(data['Latitude'])[0]\n",
    "data['Longitude'] = pd.factorize(data['Longitude'])[0]"
   ]
  },
  {
   "cell_type": "code",
   "execution_count": 12,
   "metadata": {},
   "outputs": [],
   "source": [
    "# Scaling the features\n",
    "data_target = data['Arrest']\n",
    "data_train = data.drop(['Arrest'], axis = 1)\n",
    "scaled_features = StandardScaler().fit_transform(data_train.values)\n",
    "data_scaled = pd.DataFrame(scaled_features, index=data_train.index, columns=data_train.columns)\n",
    "data_scaled['Arrest'] = data_target"
   ]
  },
  {
   "cell_type": "code",
   "execution_count": 13,
   "metadata": {},
   "outputs": [],
   "source": [
    "X = data_scaled.drop(['Arrest'], axis = 1)\n",
    "y = data_scaled['Arrest']"
   ]
  },
  {
   "cell_type": "code",
   "execution_count": 36,
   "metadata": {},
   "outputs": [],
   "source": [
    "# spliting data into training: 50%, validation: 25% and testing: 25%\n",
    "X = np.array(X)\n",
    "y = np.array(y)\n",
    "X_train, X_validation, y_train, y_validation = train_test_split(X, y, test_size = 0.5, train_size = 0.5, random_state = 42)\n",
    "X_validation, X_test, y_validation, y_test = train_test_split(X_validation, y_validation, test_size = 0.5, train_size = 0.5, random_state = 42)\n"
   ]
  },
  {
   "cell_type": "code",
   "execution_count": 44,
   "metadata": {},
   "outputs": [
    {
     "name": "stdout",
     "output_type": "stream",
     "text": [
      "<class 'numpy.ndarray'>\n",
      "[[-0.8440911  -1.04745557 -0.44196002 -1.22400265  0.52662401 -0.4185076\n",
      "  -0.02545065 -1.073624    1.41926128  1.61445159  1.61452818  1.62138704\n",
      "  -1.54999437 -2.00832035]\n",
      " [-0.7638568  -0.57464371 -0.44196002 -1.19786178  0.85538183  1.48158069\n",
      "   0.02975444 -0.67424151  1.41926128  0.45463247  0.45466455 -1.06758441\n",
      "   0.94215286  0.89295652]\n",
      " [ 1.1885113  -1.04745557 -0.44196002  0.25295643  1.67727639  1.55466101\n",
      "   0.91303593 -1.073624   -0.00431343 -1.07870924 -1.07859828  1.02383783\n",
      "   0.48903518 -1.85562157]\n",
      " [ 1.26874561 -0.81104964 -0.44196002 -0.41363572  0.52662401 -0.4185076\n",
      "  -0.02545065 -0.87393276  0.70747392 -1.37179955 -1.37175118  1.02383783\n",
      "   0.03591751  0.28216139]\n",
      " [ 0.92106362  2.7350393  -0.44196002  1.41622509  0.03348727  1.70082164\n",
      "  -1.01914233  1.72205342 -0.00431343 -0.52370626 -0.52357837  0.12751401\n",
      "  -1.32343553  0.74025774]\n",
      " [-0.57664342  0.13457408 -0.44196002  1.1940277  -0.9527862   1.04309878\n",
      "  -1.2399627  -0.07516778  1.41926128 -0.58672169 -0.58650568  1.32261243\n",
      "  -0.87031785  0.58755896]\n",
      " [-0.8440911  -1.04745557 -0.44196002  1.37701378 -1.28154402  1.04309878\n",
      "  -1.40557798 -1.073624    0.70747392  0.27706199  0.27710693  0.72506322\n",
      "   0.48903518  0.74025774]\n",
      " [-0.57664342  0.13457408 -0.44196002 -1.354707    0.19786618  1.40850037\n",
      "  -0.52229649 -0.07516778  0.70747392 -0.83756476 -0.83740231 -0.7688098\n",
      "   1.1687117   1.35105287]\n",
      " [-0.46966435 -1.04745557 -0.44196002  0.39673121 -0.9527862  -1.00315015\n",
      "  -1.2399627  -1.073624   -1.42788814 -0.49938362 -0.49925053  1.62138704\n",
      "   1.05543228  1.0456553 ]\n",
      " [-0.09523759  0.37098    -0.44196002 -0.28293138  1.51289748  1.62774133\n",
      "   1.13385631  0.12452347  0.70747392  0.67373932  0.67381818 -0.7688098\n",
      "   0.26247634 -0.6340313 ]]\n"
     ]
    }
   ],
   "source": [
    "print(type(X_train))\n",
    "print(X_train[:10])"
   ]
  },
  {
   "cell_type": "code",
   "execution_count": 25,
   "metadata": {},
   "outputs": [],
   "source": [
    "from sklearn.cluster import AgglomerativeClustering\n",
    "import scipy.cluster.hierarchy as shc\n",
    "\n",
    "# cluster = AgglomerativeClustering(n_clusters = 2, affinity = 'euclidean', linkage = 'ward')\n",
    "# hc_prediction = cluster.fit_predict(X_test)"
   ]
  },
  {
   "cell_type": "code",
   "execution_count": 51,
   "metadata": {},
   "outputs": [
    {
     "data": {
      "image/png": "[encoded data removed]",
      "text/plain": [
       "<Figure size 360x360 with 1 Axes>"
      ]
     },
     "metadata": {
      "needs_background": "light"
     },
     "output_type": "display_data"
    }
   ],
   "source": [
    "plt.figure(figsize=(5, 5))\n",
    "plt.title(\"Ward\")\n",
    "dend = shc.dendrogram(shc.linkage(X_train[:100], method='ward'))"
   ]
  },
  {
   "cell_type": "code",
   "execution_count": 52,
   "metadata": {},
   "outputs": [
    {
     "data": {
      "image/png": "[encoded data removed]",
      "text/plain": [
       "<Figure size 360x360 with 1 Axes>"
      ]
     },
     "metadata": {
      "needs_background": "light"
     },
     "output_type": "display_data"
    }
   ],
   "source": [
    "plt.figure(figsize=(5, 5))\n",
    "plt.title(\"\")\n",
    "dend = shc.dendrogram(shc.linkage(X_train[:100], method='average'))"
   ]
  },
  {
   "cell_type": "code",
   "execution_count": 53,
   "metadata": {},
   "outputs": [
    {
     "data": {
      "image/png": "[encoded data removed]",
      "text/plain": [
       "<Figure size 360x360 with 1 Axes>"
      ]
     },
     "metadata": {
      "needs_background": "light"
     },
     "output_type": "display_data"
    }
   ],
   "source": [
    "plt.figure(figsize=(5, 5))\n",
    "plt.title(\"Complete\")\n",
    "dend = shc.dendrogram(shc.linkage(X_train[:100], method='complete'))"
   ]
  },
  {
   "cell_type": "code",
   "execution_count": 54,
   "metadata": {},
   "outputs": [
    {
     "data": {
      "image/png": "[encoded data removed]",
      "text/plain": [
       "<Figure size 360x360 with 1 Axes>"
      ]
     },
     "metadata": {
      "needs_background": "light"
     },
     "output_type": "display_data"
    }
   ],
   "source": [
    "plt.figure(figsize=(5, 5))\n",
    "plt.title(\"Single\")\n",
    "dend = shc.dendrogram(shc.linkage(X_train[:100], method='single'))"
   ]
  },
  {
   "cell_type": "code",
   "execution_count": 60,
   "metadata": {},
   "outputs": [],
   "source": [
    "# Solving the clustering problem is equivalent to maximising  𝐵(𝐶)  or minimising  𝑊(𝐶) .\n",
    "# W(C) = Within cluster point scatter, points within the same cluster must be close to one another,  𝑊(𝐶)  should be minimised:\n",
    "# B(C) = Between clusters point scatter, points from different clusters must be far from each other,  𝐵(𝐶)  should be maximised:\n",
    "# Calculate the best parameters for the DBSCAN at exercise 2 using either  𝑊(𝐶)  or  𝐵(𝐶)  metric"
   ]
  },
  {
   "cell_type": "code",
   "execution_count": 77,
   "metadata": {},
   "outputs": [
    {
     "name": "stdout",
     "output_type": "stream",
     "text": [
      "50000\n"
     ]
    }
   ],
   "source": [
    "print(len(X_train))"
   ]
  },
  {
   "cell_type": "code",
   "execution_count": 126,
   "metadata": {},
   "outputs": [
    {
     "name": "stdout",
     "output_type": "stream",
     "text": [
      "{'w': [(2, 1556089.0039102593), (3, 836432.3227593257), (4, 579882.6034705158), (5, 432216.9571663963), (6, 347403.491911425), (7, 288172.99014123756), (8, 255975.71873466444), (9, 237283.57891933087), (10, 226758.75650716008), (11, 195225.48063206222), (12, 173980.03420515874), (13, 168272.0316592173), (14, 163786.67704714485), (15, 142846.89718960185), (16, 133431.29676004022), (17, 126636.2251845135), (18, 118804.30308689618), (19, 101675.20307756973)], 'b': [(2, 720801.9580548437), (3, 1440458.639205778), (4, 1697008.3584945882), (5, 1844674.0047987087), (6, 1929487.4700536802), (7, 1988717.971823868), (8, 2020915.2432304407), (9, 2039607.3830457763), (10, 2050132.205457946), (11, 2081665.4813330416), (12, 2102910.927759945), (13, 2108618.9303058875), (14, 2113104.2849179604), (15, 2134044.064775503), (16, 2143459.665205063), (17, 2150254.736780589), (18, 2158086.6588782067), (19, 2175215.7588875345)]}\n",
      "[2, 3, 4, 5, 6, 7, 8, 9, 10, 11, 12, 13, 14, 15, 16, 17, 18, 19]\n",
      "[2, 3, 4, 5, 6, 7, 8, 9, 10, 11, 12, 13, 14, 15, 16, 17, 18, 19]\n"
     ]
    },
    {
     "data": {
      "image/png": "[encoded data removed]",
      "text/plain": [
       "<Figure size 432x288 with 1 Axes>"
      ]
     },
     "metadata": {
      "needs_background": "light"
     },
     "output_type": "display_data"
    },
    {
     "data": {
      "image/png": "[encoded data removed]",
      "text/plain": [
       "<Figure size 432x288 with 1 Axes>"
      ]
     },
     "metadata": {
      "needs_background": "light"
     },
     "output_type": "display_data"
    }
   ],
   "source": [
    "within_between_metric = {\n",
    "    'w': [],\n",
    "    'b': []\n",
    "}\n",
    "\n",
    "for k in range(2,20):\n",
    "    cluster = AgglomerativeClustering(n_clusters = k, affinity = 'euclidean', linkage = 'ward')\n",
    "    prediction = cluster.fit_predict(X[:1000])\n",
    "    within_between_metric['w'].append((k,calculate_wc(X[:1000], prediction)))\n",
    "    within_between_metric['b'].append((k,calculate_bc(X[:1000], prediction)))\n",
    "\n",
    "print(within_between_metric)\n",
    "\n",
    "w_metric = within_between_metric['w']\n",
    "b_metric = within_between_metric['b']\n",
    "\n",
    "w_metric_x_axis = [x[0] for x in w_metric]\n",
    "w_metric_y_axis = [x[1] for x in w_metric]\n",
    "\n",
    "b_metric_x_axis = [x[0] for x in b_metric]\n",
    "b_metric_y_axis = [x[1] for x in b_metric]\n",
    "\n",
    "print(w_metric_x_axis)\n",
    "print(b_metric_x_axis)\n",
    "\n",
    "# Make a fake dataset:\n",
    "\n",
    "# Create bars\n",
    "plt.bar(w_metric_x_axis, w_metric_y_axis, color = 'blue')\n",
    "# Create names on the x-axis\n",
    "plt.xticks(w_metric_x_axis, w_metric_y_axis)\n",
    "# Show graphic\n",
    "plt.show()\n",
    "\n",
    "plt.bar(b_metric_x_axis, b_metric_y_axis, color = 'cyan')\n",
    "plt.xticks(b_metric_x_axis, b_metric_y_axis)\n",
    "# Show graphic\n",
    "cluster = AgglomerativeClustering(n_clusters = k, affinity = 'euclidean', linkage = 'ward')\n",
    "    prediction = cluster.fit_predict(X[:1000])plt.show()"
   ]
  },
  {
   "cell_type": "code",
   "execution_count": 133,
   "metadata": {},
   "outputs": [
    {
     "name": "stdout",
     "output_type": "stream",
     "text": [
      "0.6855\n"
     ]
    }
   ],
   "source": [
    "cluster = AgglomerativeClustering(n_clusters = 2, affinity = 'euclidean', linkage = 'ward')\n",
    "prediction = cluster.fit_predict(X_test[:10000])\n",
    "acc = accuracy_score(y_test[:10000], prediction)\n",
    "print(acc)"
   ]
  },
  {
   "cell_type": "code",
   "execution_count": null,
   "metadata": {},
   "outputs": [],
   "source": [
    "# Create bars\n",
    "plt.bar(w_metric_x_axis, w_metric_y_axis, color = 'blue')\n",
    "plt.bar(b_metric_x_axis, b_metric_y_axis, color = 'cyan')\n",
    "# Create names on the x-axis\n",
    "plt.xticks(w_metric_x_axis, w_metric_y_axis)\n",
    "# Show graphic\n",
    "plt.show()"
   ]
  },
  {
   "cell_type": "code",
   "execution_count": 134,
   "metadata": {},
   "outputs": [],
   "source": [
    "# x = w_metric_x_axis\n",
    "# ax1 = plt.subplot(1,1,1)\n",
    "# w = 0.3\n",
    "# #plt.xticks(), will label the bars on x axis with the respective country names.\n",
    "# pop =ax1.bar(x, w_metric_y_axis, color='b', align='center')\n",
    "# #The trick is to use two different axes that share the same x axis, we have used ax1.twinx() method.\n",
    "# ax2 = ax1.twinx()\n",
    "# #We have calculated GDP by dividing gdpPerCapita to population.\n",
    "# gdp =ax2.bar(x + w, b_metric_y_axis, width=w,color='g',align='center')\n",
    "# #Set the Y axis label as GDP.\n",
    "# plt.ylabel('GDP')\n",
    "# #To set the legend on the plot we have used plt.legend()\n",
    "# plt.legend([pop, gdp],['Population in Millions', 'GDP in Billions'])\n",
    "# #To show the plot finally we have used plt.show().\n",
    "# plt.show()"
   ]
  },
  {
   "cell_type": "code",
   "execution_count": 82,
   "metadata": {},
   "outputs": [],
   "source": [
    "def calculate_bc(points, assignments):\n",
    "    nr_clustere=max(assignments)+1\n",
    "    bc=0\n",
    "    for k in range(nr_clustere):\n",
    "        pointsincluster=points[assignments==k]\n",
    "        points2=points[assignments!=k]\n",
    "    \n",
    "        for p in pointsincluster:\n",
    "            bc+=np.sum((np.sqrt(np.sum((points2-p)**2,axis=1))))\n",
    "    bc=bc/2\n",
    "    return bc\n",
    "        \n"
   ]
  },
  {
   "cell_type": "code",
   "execution_count": 83,
   "metadata": {},
   "outputs": [
    {
     "name": "stdout",
     "output_type": "stream",
     "text": [
      "12416.782937040374\n"
     ]
    }
   ],
   "source": [
    "def calculate_wc(points, assignments):\n",
    "    nr_clustere=max(assignments)+1\n",
    "    wc=0\n",
    "    for k in range(nr_clustere):\n",
    "        pointsincluster=points[assignments==k]\n",
    "   \n",
    "        for point in pointsincluster:\n",
    "            wc+=np.sum((np.sqrt(np.sum((pointsincluster-point)**2,axis=1))))\n",
    "    wc=wc/2\n",
    "    return wc\n",
    "\n",
    "print(calculate_wc(X[:100], y[:100]))"
   ]
  },
  {
   "cell_type": "code",
   "execution_count": null,
   "metadata": {},
   "outputs": [],
   "source": []
  }
 ],
 "metadata": {
  "kernelspec": {
   "display_name": "Python 3",
   "language": "python",
   "name": "python3"
  },
  "language_info": {
   "codemirror_mode": {
    "name": "ipython",
    "version": 3
   },
   "file_extension": ".py",
   "mimetype": "text/x-python",
   "name": "python",
   "nbconvert_exporter": "python",
   "pygments_lexer": "ipython3",
   "version": "3.7.7"
  }
 },
 "nbformat": 4,
 "nbformat_minor": 4
}
