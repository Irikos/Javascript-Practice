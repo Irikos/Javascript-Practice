{
 "cells": [
  {
   "cell_type": "code",
   "execution_count": null,
   "metadata": {},
   "outputs": [],
   "source": [
    "print(\"Hello, world!\")\n",
    "print(\"Starting project...\")"
   ]
  },
  {
   "cell_type": "code",
   "execution_count": null,
   "metadata": {},
   "outputs": [],
   "source": [
    "print(\"Importing libraries...\")\n",
    "#imports \n",
    "import numpy as np\n",
    "import collections as cl\n",
    "import pandas as pd\n",
    "import matplotlib.pyplot as plt\n",
    "from mpl_toolkits.mplot3d import Axes3D  # noqa: F401 unused import\n",
    "import seaborn as sns\n",
    "import sklearn as sk\n",
    "from sklearn.model_selection import train_test_split\n",
    "from sklearn.ensemble import RandomForestClassifier\n",
    "from sklearn.neighbors import KNeighborsClassifier\n",
    "from sklearn import svm\n",
    "from sklearn.metrics import precision_score, recall_score, confusion_matrix, plot_confusion_matrix, classification_report, accuracy_score, f1_score\n",
    "from sklearn.preprocessing import LabelEncoder\n",
    "from sklearn.preprocessing import OneHotEncoder\n",
    "from sklearn.compose import ColumnTransformer \n",
    "from sklearn.dummy import DummyClassifier\n",
    "from sklearn.model_selection import GridSearchCV\n",
    "from collections import defaultdict\n",
    "from sklearn.cluster import KMeans\n",
    "from sklearn.manifold import TSNE\n",
    "from sklearn.decomposition import PCA\n",
    "from sklearn.preprocessing import StandardScaler\n",
    "print(\"Done importing libraries.\")"
   ]
  },
  {
   "cell_type": "code",
   "execution_count": null,
   "metadata": {},
   "outputs": [],
   "source": [
    "# print(\"Importing dataset...\")\n",
    "# data = pd.read_csv(\"Crimes_-_2001_to_present.csv\", dtype=object)\n",
    "# print(\"Done importing dataset.\")"
   ]
  },
  {
   "cell_type": "code",
   "execution_count": null,
   "metadata": {},
   "outputs": [],
   "source": [
    "# # We've eliminated 2020 to minimize the risk of possible anomalies happening in 2020 due to Covid-19\n",
    "# data['Year'] = pd.to_numeric(data['Year'])\n",
    "# data = data[(data.Year > 2014) & (data.Year < 2020)]"
   ]
  },
  {
   "cell_type": "code",
   "execution_count": null,
   "metadata": {},
   "outputs": [],
   "source": [
    "# # since the dataset is absolutely immense, we can easily drop the NaN rows. We will do so before sampling\n",
    "# data = data.dropna()"
   ]
  },
  {
   "cell_type": "code",
   "execution_count": null,
   "metadata": {},
   "outputs": [],
   "source": [
    "# data['Arrest'] = pd.factorize(data['Arrest'])[0]"
   ]
  },
  {
   "cell_type": "code",
   "execution_count": null,
   "metadata": {},
   "outputs": [],
   "source": [
    "# # Dataset is too huge and takes too long to train on all of it, we're going to sample 100.000. Also, we're going to duplicate the sampled data in order to apply\n",
    "# # supervised and unsupervised algorithms on the same sample\n",
    "# # Random sampling\n",
    "# data = data.sample(n=100000)"
   ]
  },
  {
   "cell_type": "code",
   "execution_count": null,
   "metadata": {},
   "outputs": [],
   "source": [
    "# # Since we loaded the model with object as dtype (for faster loading), \n",
    "# # we're going to specify all the types manually\n",
    "# data['DateTime'] = pd.to_datetime(data['Date'])\n",
    "# data['Year'] = data['DateTime'].dt.year\n",
    "# data['Month'] = data['DateTime'].dt.month\n",
    "# data['Day'] = data['DateTime'].dt.day\n",
    "# data['Hour'] = data['DateTime'].dt.hour\n",
    "\n",
    "# data = data.drop(['Date'], axis=1)\n",
    "# data = data.drop(['DateTime'], axis=1)"
   ]
  },
  {
   "cell_type": "code",
   "execution_count": null,
   "metadata": {},
   "outputs": [],
   "source": [
    "# # Convert categorical attributes to Numerical\n",
    "# data['IUCR'] = pd.factorize(data['IUCR'])[0]\n",
    "# data['Primary Type'] = pd.factorize(data['Primary Type'])[0]\n",
    "# data['Domestic'] = pd.factorize(data['Domestic'])[0]\n",
    "# data['Beat'] = pd.factorize(data['Beat'])[0]\n",
    "# data['District'] = pd.factorize(data['District'])[0]\n",
    "# data['Ward'] = pd.factorize(data['Ward'])[0]\n",
    "# data['Community Area'] = pd.factorize(data['Community Area'])[0]\n",
    "# data['FBI Code'] = pd.factorize(data['FBI Code'])[0]\n",
    "# data['Latitude'] = pd.factorize(data['Latitude'])[0]\n",
    "# data['Longitude'] = pd.factorize(data['Longitude'])[0]"
   ]
  },
  {
   "cell_type": "code",
   "execution_count": null,
   "metadata": {},
   "outputs": [],
   "source": [
    "# # Scaling the features\n",
    "# data_target = data['Arrest']\n",
    "# data_train = data.drop(['Arrest'], axis = 1)\n",
    "# scaled_features = StandardScaler().fit_transform(data_train.values)\n",
    "# data_scaled = pd.DataFrame(scaled_features, index=data_train.index, columns=data_train.columns)\n",
    "# data_scaled['Arrest'] = data_target"
   ]
  },
  {
   "cell_type": "code",
   "execution_count": null,
   "metadata": {},
   "outputs": [],
   "source": [
    "# X = data_scaled.drop(['Arrest'], axis = 1)\n",
    "# y = data_scaled['Arrest']"
   ]
  },
  {
   "cell_type": "code",
   "execution_count": null,
   "metadata": {},
   "outputs": [],
   "source": [
    "# # spliting data into training: 50%, validation: 25% and testing: 25%\n",
    "# X = np.array(X)\n",
    "# y = np.array(y)\n",
    "# X_train, X_validation, y_train, y_validation = train_test_split(X, y, test_size = 0.5, train_size = 0.5, random_state = 42)\n",
    "# X_validation, X_test, y_validation, y_test = train_test_split(X_validation, y_validation, test_size = 0.5, train_size = 0.5, random_state = 42)\n"
   ]
  },
  {
   "cell_type": "code",
   "execution_count": null,
   "metadata": {},
   "outputs": [],
   "source": [
    "# print(type(X_train))\n",
    "# print(X_train[:10])"
   ]
  },
  {
   "cell_type": "code",
   "execution_count": null,
   "metadata": {},
   "outputs": [],
   "source": [
    "# from sklearn.cluster import AgglomerativeClustering\n",
    "# import scipy.cluster.hierarchy as shc\n",
    "\n",
    "# cluster = AgglomerativeClustering(n_clusters = 2, affinity = 'euclidean', linkage = 'ward')\n",
    "# hc_prediction = cluster.fit_predict(X_test)"
   ]
  },
  {
   "cell_type": "code",
   "execution_count": null,
   "metadata": {},
   "outputs": [],
   "source": [
    "# plt.figure(figsize=(5, 5))\n",
    "# plt.title(\"Ward\")\n",
    "# dend = shc.dendrogram(shc.linkage(X_train[:100], method='ward'))"
   ]
  },
  {
   "cell_type": "code",
   "execution_count": null,
   "metadata": {},
   "outputs": [],
   "source": [
    "# plt.figure(figsize=(5, 5))\n",
    "# plt.title(\"\")\n",
    "# dend = shc.dendrogram(shc.linkage(X_train[:100], method='average'))"
   ]
  },
  {
   "cell_type": "code",
   "execution_count": null,
   "metadata": {},
   "outputs": [],
   "source": [
    "# plt.figure(figsize=(5, 5))\n",
    "# plt.title(\"Complete\")\n",
    "# dend = shc.dendrogram(shc.linkage(X_train[:100], method='complete'))"
   ]
  },
  {
   "cell_type": "code",
   "execution_count": null,
   "metadata": {},
   "outputs": [],
   "source": [
    "# plt.figure(figsize=(5, 5))\n",
    "# plt.title(\"Single\")\n",
    "# dend = shc.dendrogram(shc.linkage(X_train[:100], method='single'))"
   ]
  },
  {
   "cell_type": "code",
   "execution_count": null,
   "metadata": {},
   "outputs": [],
   "source": [
    "# Solving the clustering problem is equivalent to maximising  𝐵(𝐶)  or minimising  𝑊(𝐶) .\n",
    "# W(C) = Within cluster point scatter, points within the same cluster must be close to one another,  𝑊(𝐶)  should be minimised:\n",
    "# B(C) = Between clusters point scatter, points from different clusters must be far from each other,  𝐵(𝐶)  should be maximised:\n",
    "# Calculate the best parameters for the DBSCAN at exercise 2 using either  𝑊(𝐶)  or  𝐵(𝐶)  metric"
   ]
  },
  {
   "cell_type": "code",
   "execution_count": null,
   "metadata": {},
   "outputs": [],
   "source": [
    "# print(len(X_train))"
   ]
  },
  {
   "cell_type": "code",
   "execution_count": null,
   "metadata": {},
   "outputs": [],
   "source": [
    "# within_between_metric = {\n",
    "#     'w': [],\n",
    "#     'b': []\n",
    "# }\n",
    "\n",
    "# for k in range(2,20):\n",
    "#     cluster = AgglomerativeClustering(n_clusters = k, affinity = 'euclidean', linkage = 'ward')\n",
    "#     prediction = cluster.fit_predict(X[:1000])\n",
    "#     within_between_metric['w'].append((k,calculate_wc(X[:1000], prediction)))\n",
    "#     within_between_metric['b'].append((k,calculate_bc(X[:1000], prediction)))\n",
    "\n",
    "# print(within_between_metric)\n",
    "\n",
    "# w_metric = within_between_metric['w']\n",
    "# b_metric = within_between_metric['b']\n",
    "\n",
    "# w_metric_x_axis = [x[0] for x in w_metric]\n",
    "# w_metric_y_axis = [x[1] for x in w_metric]\n",
    "\n",
    "# b_metric_x_axis = [x[0] for x in b_metric]\n",
    "# b_metric_y_axis = [x[1] for x in b_metric]\n",
    "\n",
    "# print(w_metric_x_axis)\n",
    "# print(b_metric_x_axis)\n",
    "\n",
    "# # Make a fake dataset:\n",
    "\n",
    "# # Create bars\n",
    "# plt.bar(w_metric_x_axis, w_metric_y_axis, color = 'blue')\n",
    "# # Create names on the x-axis\n",
    "# plt.xticks(w_metric_x_axis, w_metric_y_axis)\n",
    "# # Show graphic\n",
    "# plt.show()\n",
    "\n",
    "# plt.bar(b_metric_x_axis, b_metric_y_axis, color = 'cyan')\n",
    "# plt.xticks(b_metric_x_axis, b_metric_y_axis)\n",
    "# # Show graphic\n",
    "# cluster = AgglomerativeClustering(n_clusters = k, affinity = 'euclidean', linkage = 'ward')\n",
    "#     prediction = cluster.fit_predict(X[:1000])plt.show()"
   ]
  },
  {
   "cell_type": "code",
   "execution_count": null,
   "metadata": {},
   "outputs": [],
   "source": [
    "# cluster = AgglomerativeClustering(n_clusters = 2, affinity = 'euclidean', linkage = 'ward')\n",
    "# prediction = cluster.fit_predict(X_test[:10000])\n",
    "# acc = accuracy_score(y_test[:10000], prediction)\n",
    "# print(acc)"
   ]
  },
  {
   "cell_type": "code",
   "execution_count": null,
   "metadata": {},
   "outputs": [],
   "source": [
    "# # Create bars\n",
    "# plt.bar(w_metric_x_axis, w_metric_y_axis, color = 'blue')\n",
    "# plt.bar(b_metric_x_axis, b_metric_y_axis, color = 'cyan')\n",
    "# # Create names on the x-axis\n",
    "# plt.xticks(w_metric_x_axis, w_metric_y_axis)\n",
    "# # Show graphic\n",
    "# plt.show()"
   ]
  },
  {
   "cell_type": "code",
   "execution_count": null,
   "metadata": {},
   "outputs": [],
   "source": [
    "# x = w_metric_x_axis\n",
    "# ax1 = plt.subplot(1,1,1)\n",
    "# w = 0.3\n",
    "# #plt.xticks(), will label the bars on x axis with the respective country names.\n",
    "# pop =ax1.bar(x, w_metric_y_axis, color='b', align='center')\n",
    "# #The trick is to use two different axes that share the same x axis, we have used ax1.twinx() method.\n",
    "# ax2 = ax1.twinx()\n",
    "# #We have calculated GDP by dividing gdpPerCapita to population.\n",
    "# gdp =ax2.bar(x + w, b_metric_y_axis, width=w,color='g',align='center')\n",
    "# #Set the Y axis label as GDP.\n",
    "# plt.ylabel('GDP')\n",
    "# #To set the legend on the plot we have used plt.legend()\n",
    "# plt.legend([pop, gdp],['Population in Millions', 'GDP in Billions'])\n",
    "# #To show the plot finally we have used plt.show().\n",
    "# plt.show()"
   ]
  },
  {
   "cell_type": "code",
   "execution_count": null,
   "metadata": {},
   "outputs": [],
   "source": [
    "# def calculate_bc(points, assignments):\n",
    "#     nr_clustere=max(assignments)+1\n",
    "#     bc=0\n",
    "#     for k in range(nr_clustere):\n",
    "#         pointsincluster=points[assignments==k]\n",
    "#         points2=points[assignments!=k]\n",
    "    \n",
    "#         for p in pointsincluster:\n",
    "#             bc+=np.sum((np.sqrt(np.sum((points2-p)**2,axis=1))))\n",
    "#     bc=bc/2\n",
    "#     return bc"
   ]
  },
  {
   "cell_type": "code",
   "execution_count": null,
   "metadata": {},
   "outputs": [],
   "source": [
    "# def calculate_wc(points, assignments):\n",
    "#     nr_clustere=max(assignments)+1\n",
    "#     wc=0\n",
    "#     for k in range(nr_clustere):\n",
    "#         pointsincluster=points[assignments==k]\n",
    "   \n",
    "#         for point in pointsincluster:\n",
    "#             wc+=np.sum((np.sqrt(np.sum((pointsincluster-point)**2,axis=1))))\n",
    "#     wc=wc/2\n",
    "#     return wc\n",
    "\n",
    "# print(calculate_wc(X[:100], y[:100]))"
   ]
  },
  {
   "cell_type": "code",
   "execution_count": 21,
   "metadata": {},
   "outputs": [
    {
     "data": {
      "image/png": "[encoded data removed]",
      "text/plain": [
       "<Figure size 432x288 with 1 Axes>"
      ]
     },
     "metadata": {
      "needs_background": "light"
     },
     "output_type": "display_data"
    },
    {
     "data": {
      "image/png": "[encoded data removed]",
      "text/plain": [
       "<Figure size 432x288 with 1 Axes>"
      ]
     },
     "metadata": {
      "needs_background": "light"
     },
     "output_type": "display_data"
    }
   ],
   "source": [
    "import matplotlib\n",
    "import matplotlib.pyplot as plt\n",
    "import numpy as np\n",
    "\n",
    "wb_metric = {\n",
    "    'w': {\n",
    "        'ward': [5000, 3000],\n",
    "        'average': [5500, 3500],\n",
    "        'complete': [5100, 3100],\n",
    "        'single': [5900, 5000]\n",
    "    },\n",
    "    'b': {\n",
    "        'ward': [2000, 3000],\n",
    "        'average': [2500, 3500],\n",
    "        'complete': [2100, 3100],\n",
    "        'single': [2900, 5000]\n",
    "    },\n",
    "    'x': [2,4]\n",
    "}\n",
    "\n",
    "def plot_metric_by_linkages(metric, wb_metric):\n",
    "    plot_dims = {\n",
    "        'ward': -2 * 0.2 + 0.1,\n",
    "        'average': -0.2 + 0.1,\n",
    "        'complete': 0.2 + 0.1,\n",
    "        'single': 0.1\n",
    "    }\n",
    "    labels = wb_metric[\"x\"]\n",
    "    x = np.arange(len(labels))\n",
    "    \n",
    "    fig, bar_plot = plt.subplots()\n",
    "    bar_plot.bar(x + plot_dims[\"ward\"], wb_metric[metric]['ward'], 0.2, label='ward')\n",
    "    bar_plot.bar(x + plot_dims[\"average\"], wb_metric[metric]['average'], 0.2, label='average')\n",
    "    bar_plot.bar(x + plot_dims[\"complete\"], wb_metric[metric]['complete'], 0.2, label='complete')\n",
    "    bar_plot.bar(x + plot_dims[\"single\"], wb_metric[metric]['single'], 0.2, label='single')\n",
    "\n",
    "    bar_plot.set_ylabel(str(metric).upper() + ' scores')\n",
    "    bar_plot.set_xlabel('Number of clusters')\n",
    "    bar_plot.set_title('Scores by linkage methods')\n",
    "    bar_plot.set_xticks(x)\n",
    "    bar_plot.set_xticklabels(labels)\n",
    "    bar_plot.legend()\n",
    "\n",
    "    plt.show()\n",
    "\n",
    "plot_metric_by_linkages(\"w\", wb_metric)\n",
    "plot_metric_by_linkages(\"b\", wb_metric)"
   ]
  },
  {
   "cell_type": "code",
   "execution_count": null,
   "metadata": {},
   "outputs": [],
   "source": []
  }
 ],
 "metadata": {
  "kernelspec": {
   "display_name": "Python 3",
   "language": "python",
   "name": "python3"
  },
  "language_info": {
   "codemirror_mode": {
    "name": "ipython",
    "version": 3
   },
   "file_extension": ".py",
   "mimetype": "text/x-python",
   "name": "python",
   "nbconvert_exporter": "python",
   "pygments_lexer": "ipython3",
   "version": "3.7.7"
  }
 },
 "nbformat": 4,
 "nbformat_minor": 4
}
