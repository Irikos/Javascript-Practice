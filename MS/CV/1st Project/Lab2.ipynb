{
 "cells": [
  {
   "cell_type": "code",
   "execution_count": null,
   "metadata": {},
   "outputs": [],
   "source": [
    "# Homework no. 1 for Computer Vision course with Bogdan Alexe\n",
    "Computer vision\n",
    "Automatic grading of single choice tests\n",
    "\n",
    "- The first thing we have to do is to take only the part of the image that is needed for grading (the part with the two tables). \n",
    "- After we have taken the part with the tables, we have to split the image in the left part (MATEMATICA) and the right part (INFORMATICA/FIZICA).\n",
    "right_image.png\n",
    "\n",
    "Having the image from above, we have to find the lines and the columns that contain the student's answers.\n",
    "image.png\n",
    "\n",
    "After we have found the tables, we have to crop the tables in order to take only the student's answers.\n",
    "table.png\n",
    "\n",
    "A student can choose between INFORMATICA/FIZICA, our goal is to find the 2 boxes representing the number of the subject.\n"
   ]
  },
  {
   "cell_type": "code",
   "execution_count": 107,
   "metadata": {},
   "outputs": [],
   "source": [
    "# imports\n",
    "import cv2 as cv\n",
    "import numpy as np\n",
    "import glob\n",
    "import os"
   ]
  },
  {
   "cell_type": "code",
   "execution_count": 108,
   "metadata": {},
   "outputs": [],
   "source": [
    "# Taken from lab no. 2\n",
    "# read the name of the images\n",
    "base_folder = '../1st Project/Files/images'\n",
    "images_names = glob.glob(os.path.join(base_folder, \"image_*.jpg\")) \n",
    "idx_image = -1\n",
    "SHOW_INTERMEDIATE_RESULTS = True # set this to false in order to show only the final result\n",
    "NUM_OF_SECONDS = 0 # set to 0 in order to wait until keypress"
   ]
  },
  {
   "cell_type": "code",
   "execution_count": 109,
   "metadata": {},
   "outputs": [],
   "source": [
    "idx_image = 1"
   ]
  },
  {
   "cell_type": "code",
   "execution_count": 129,
   "metadata": {},
   "outputs": [
    {
     "name": "stdout",
     "output_type": "stream",
     "text": [
      "(5847, 4132, 3)\n",
      "(877, 620, 3)\n"
     ]
    }
   ],
   "source": [
    "# read the idx-th image\n",
    "image = cv.imread(images_names[idx_image])\n",
    "#make it 0.15 times on every dimension\n",
    "img_resize = cv.resize(image, (0, 0), fx=0.15, fy=0.15)\n",
    "print(image.shape)\n",
    "print(img_resize.shape)\n",
    "if SHOW_INTERMEDIATE_RESULTS:\n",
    "    cv.imshow(\"image\", img_resize)\n",
    "    cv.waitKey(NUM_OF_SECONDS)\n",
    "    cv.destroyAllWindows()"
   ]
  },
  {
   "cell_type": "code",
   "execution_count": 221,
   "metadata": {},
   "outputs": [
    {
     "name": "stdout",
     "output_type": "stream",
     "text": [
      "(877, 620, 3)\n"
     ]
    }
   ],
   "source": [
    "# take the lower part of the image\n",
    "image_h, image_w, channels = img_resize.shape\n",
    "print(img_resize.shape)\n",
    "# DIMENSIONS ARE SET MANUALLY. REVISE THIS LATER.\n",
    "# an idea is to search for the corners after the 2nd part ofthe image\n",
    "# img_crop = img_resize[400:orig_h - 100, 0:orig_w]\n",
    "img_crop = img_resize[int(0.10*orig_h):int(orig_h*0.90),:]\n",
    "if SHOW_INTERMEDIATE_RESULTS:\n",
    "    cv.imshow(\"image\", img_crop)\n",
    "    cv.waitKey(NUM_OF_SECONDS)\n",
    "    cv.destroyAllWindows()"
   ]
  },
  {
   "cell_type": "code",
   "execution_count": 222,
   "metadata": {},
   "outputs": [],
   "source": [
    "#make it grayscale\n",
    "img_gray = cv.cvtColor(img_crop, cv.COLOR_BGR2GRAY)\n",
    "if SHOW_INTERMEDIATE_RESULTS:\n",
    "    cv.imshow(\"image\", img_gray)\n",
    "    cv.waitKey(NUM_OF_SECONDS)\n",
    "    cv.destroyAllWindows()"
   ]
  },
  {
   "cell_type": "code",
   "execution_count": 242,
   "metadata": {},
   "outputs": [
    {
     "name": "stdout",
     "output_type": "stream",
     "text": [
      "238.51802453818584\n"
     ]
    }
   ],
   "source": [
    "#obtain a binary image by applying an adaptive threshold = mean value of img1_gray\n",
    "meanValue = img_gray.mean()\n",
    "print(meanValue)\n",
    "_, img_th = cv.threshold(img_gray, meanValue, 255, cv.THRESH_BINARY_INV) # the second params is the threshold\n",
    "cv.imshow(\"image\", img_th)\n",
    "cv.waitKey(NUM_OF_SECONDS)\n",
    "cv.destroyAllWindows()"
   ]
  },
  {
   "cell_type": "code",
   "execution_count": 243,
   "metadata": {},
   "outputs": [
    {
     "name": "stdout",
     "output_type": "stream",
     "text": [
      "3\n",
      "[[0.         0.33333333 0.        ]\n",
      " [0.         0.33333333 0.        ]\n",
      " [0.         0.33333333 0.        ]]\n",
      "1.0\n"
     ]
    }
   ],
   "source": [
    "#define a vertical kernel and filter the binary image\n",
    "kernel = np.array([[0,1,0],[0,1,0],[0,1,0]]) \n",
    "\n",
    "print(kernel.sum())\n",
    "kernel = kernel / kernel.sum()\n",
    "print(kernel)\n",
    "print(kernel.sum())"
   ]
  },
  {
   "cell_type": "code",
   "execution_count": 244,
   "metadata": {},
   "outputs": [],
   "source": [
    "thresholded = img_th\n",
    "filtered = 255 - cv.filter2D(255 - thresholded, -1, kernel)\n",
    "filtered[filtered < 255] = 0\n",
    "filtered_vertical = filtered"
   ]
  },
  {
   "cell_type": "code",
   "execution_count": 245,
   "metadata": {},
   "outputs": [],
   "source": [
    "if SHOW_INTERMEDIATE_RESULTS:\n",
    "    cv.imshow(\"image\", filtered_vertical)\n",
    "    cv.waitKey(NUM_OF_SECONDS)\n",
    "    cv.destroyAllWindows()"
   ]
  },
  {
   "cell_type": "code",
   "execution_count": 257,
   "metadata": {
    "scrolled": true
   },
   "outputs": [
    {
     "name": "stdout",
     "output_type": "stream",
     "text": [
      "110\n",
      "[[0.         0.         0.         0.         0.         0.\n",
      "  0.         0.         0.         0.         0.        ]\n",
      " [0.09090909 0.09090909 0.09090909 0.09090909 0.09090909 0.09090909\n",
      "  0.09090909 0.09090909 0.09090909 0.09090909 0.09090909]\n",
      " [0.         0.         0.         0.         0.         0.\n",
      "  0.         0.         0.         0.         0.        ]]\n",
      "1.0\n"
     ]
    }
   ],
   "source": [
    "#define a horizontal kernel and filter the binary image\n",
    "kernel = np.array([11 * [0], 11 * [1], 11 * [0]])                \n",
    "print(kernel.sum())\n",
    "kernel = kernel / kernel.sum()\n",
    "print(kernel)\n",
    "print(kernel.sum())"
   ]
  },
  {
   "cell_type": "code",
   "execution_count": 258,
   "metadata": {},
   "outputs": [],
   "source": [
    "thresholded = img_th\n",
    "filtered = 255 - cv.filter2D(255 - thresholded, -1, kernel)\n",
    "filtered[filtered < 255] = 0\n",
    "filtered_horizontal = filtered"
   ]
  },
  {
   "cell_type": "code",
   "execution_count": 259,
   "metadata": {},
   "outputs": [],
   "source": [
    "if SHOW_INTERMEDIATE_RESULTS:\n",
    "    cv.imshow(\"image\", filtered_horizontal)\n",
    "    cv.waitKey(NUM_OF_SECONDS)\n",
    "    cv.destroyAllWindows()"
   ]
  },
  {
   "cell_type": "code",
   "execution_count": 249,
   "metadata": {},
   "outputs": [
    {
     "name": "stdout",
     "output_type": "stream",
     "text": [
      "0\n",
      "1\n"
     ]
    }
   ],
   "source": [
    "# find horizontal lines\n",
    "mask = filtered_horizontal // 255\n",
    "print(mask.min())\n",
    "print(mask.max())\n",
    "res = np.sum(mask, axis=1) \n",
    "# print(res.shape)\n",
    "# print(res)\n",
    "res = res.argsort() \n",
    "# print(res)"
   ]
  },
  {
   "cell_type": "code",
   "execution_count": 250,
   "metadata": {},
   "outputs": [],
   "source": [
    "num_lines = 60\n",
    "h_img = np.dstack((filtered_horizontal, filtered_horizontal, filtered_horizontal))\n",
    "lines = [] #  _ x \n",
    "for i in range(num_lines+1):\n",
    "    cv.line(h_img, (0, res[-i]), (h_img.shape[1], res[-i]), (0, 0, 255), 2) \n",
    "    lines.append([(0, res[-i]), (h_img.shape[1], res[-i])])\n",
    "        \n",
    "if SHOW_INTERMEDIATE_RESULTS:\n",
    "    cv.imshow(\"h_img\", h_img)\n",
    "    cv.waitKey(NUM_OF_SECONDS)\n",
    "    cv.destroyAllWindows()"
   ]
  },
  {
   "cell_type": "code",
   "execution_count": 256,
   "metadata": {},
   "outputs": [],
   "source": [
    "# sort only on y0 !!! only\n",
    "lines.sort(key=lambda coords: coords[0][1])\n",
    "    \n",
    "threshold_same_line = 11\n",
    "distinct_lines = []   \n",
    "distinct_lines.append(lines[0])\n",
    "     \n",
    "for line in lines:  \n",
    "    if line[0][1] - distinct_lines[-1][0][1] > threshold_same_line:\n",
    "        distinct_lines.append(line)   \n",
    "    \n",
    "# take the last 16 lines\n",
    "correct_lines = distinct_lines[-16:] \n",
    "color_image = np.dstack((img_gray, img_gray, img_gray))\n",
    "for line in correct_lines: \n",
    "    cv.line(color_image, line[0], line[1], (255, 0, 0), 1) \n",
    "        \n",
    "if SHOW_INTERMEDIATE_RESULTS:\n",
    "    cv.imshow(\"Detected lines\", color_image)\n",
    "    cv.waitKey(NUM_OF_SECONDS)\n",
    "    cv.destroyAllWindows()"
   ]
  },
  {
   "cell_type": "code",
   "execution_count": null,
   "metadata": {},
   "outputs": [],
   "source": []
  },
  {
   "cell_type": "code",
   "execution_count": null,
   "metadata": {},
   "outputs": [],
   "source": []
  },
  {
   "cell_type": "code",
   "execution_count": null,
   "metadata": {},
   "outputs": [],
   "source": []
  },
  {
   "cell_type": "code",
   "execution_count": null,
   "metadata": {},
   "outputs": [],
   "source": []
  },
  {
   "cell_type": "code",
   "execution_count": null,
   "metadata": {},
   "outputs": [],
   "source": []
  },
  {
   "cell_type": "code",
   "execution_count": null,
   "metadata": {},
   "outputs": [],
   "source": []
  },
  {
   "cell_type": "code",
   "execution_count": null,
   "metadata": {},
   "outputs": [],
   "source": []
  },
  {
   "cell_type": "code",
   "execution_count": null,
   "metadata": {},
   "outputs": [],
   "source": []
  },
  {
   "cell_type": "code",
   "execution_count": null,
   "metadata": {},
   "outputs": [],
   "source": []
  },
  {
   "cell_type": "code",
   "execution_count": null,
   "metadata": {},
   "outputs": [],
   "source": []
  },
  {
   "cell_type": "code",
   "execution_count": null,
   "metadata": {},
   "outputs": [],
   "source": []
  },
  {
   "cell_type": "code",
   "execution_count": null,
   "metadata": {},
   "outputs": [],
   "source": []
  },
  {
   "cell_type": "code",
   "execution_count": null,
   "metadata": {},
   "outputs": [],
   "source": []
  },
  {
   "cell_type": "code",
   "execution_count": null,
   "metadata": {},
   "outputs": [],
   "source": []
  }
 ],
 "metadata": {
  "kernelspec": {
   "display_name": "Python 3",
   "language": "python",
   "name": "python3"
  },
  "language_info": {
   "codemirror_mode": {
    "name": "ipython",
    "version": 3
   },
   "file_extension": ".py",
   "mimetype": "text/x-python",
   "name": "python",
   "nbconvert_exporter": "python",
   "pygments_lexer": "ipython3",
   "version": "3.6.6"
  }
 },
 "nbformat": 4,
 "nbformat_minor": 2
}
