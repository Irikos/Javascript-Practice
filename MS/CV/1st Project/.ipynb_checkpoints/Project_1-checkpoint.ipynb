{
 "cells": [
  {
   "cell_type": "code",
   "execution_count": null,
   "metadata": {},
   "outputs": [],
   "source": [
    "# here I am attempting to solve the first scenario of the requirements\n",
    "# most of the stuff to solve this is done in the labs\n",
    "# Scenario 1 (real world) - you receive a test set containing 55 scanned images annotated with the option (F or I) and with the digit (1, 2, 3 or 4). For each image you have\n",
    "# to output the corresponding grade. Each correctly labeled scanned image will worth\n",
    "# 0.03 points for a total of 1.65 points;"
   ]
  },
  {
   "cell_type": "code",
   "execution_count": null,
   "metadata": {},
   "outputs": [],
   "source": [
    "# Basically, I will do the following steps:\n",
    "# 1. Apply filters on images and detect the edges (canny edge?)\n",
    "#    1.a grayscale the image\n",
    "#    1.b apply filter (gaussian, sobel?)\n",
    "#    1.c canny edge detection?\n",
    "# 2. Detect lines\n",
    "#    2.a Detect horizontal lines\n",
    "#    2.b Detect vertical lines\n",
    "#    2.c Merge image\n",
    "#3. Detect boxes and create an inside, smaller box, as to not count the edges\n",
    "#    3.a Detect boxes (lab 3.1)\n",
    "#    3.b Verify mean color inside the boxes and mark as green with X and red without X\n",
    "#    3.c Store the data and compare it to the answers in the files\n",
    "#    3.d Do this on all files and see accuracy"
   ]
  },
  {
   "cell_type": "code",
   "execution_count": 1,
   "metadata": {},
   "outputs": [],
   "source": [
    "# imports\n",
    "# Required libraries to be installed: Pillow, OpenCV\n",
    "import cv2 as cv\n",
    "import numpy as np\n",
    "import glob\n",
    "import os\n",
    "import pickle\n",
    "import matplotlib.pyplot as plt\n",
    "# from google.colab.patches import cv2_imshow\n",
    "from IPython.display import clear_output, Image, display\n",
    "import PIL.Image\n",
    "import io"
   ]
  },
  {
   "cell_type": "code",
   "execution_count": 7,
   "metadata": {},
   "outputs": [],
   "source": [
    "base_folder = './Files/images/' # change this on your machine\n",
    "images = glob.glob(os.path.join(base_folder, \"image_*.jpg\")) \n",
    "char_to_index = {'A': 0, 'B': 1, 'C': 2, 'D': 3}\n",
    "image_index = 0"
   ]
  },
  {
   "cell_type": "code",
   "execution_count": 149,
   "metadata": {},
   "outputs": [],
   "source": [
    "# global variables\n",
    "\n",
    "# kernel size. h and v stand for orientation\n",
    "hk_size = 11\n",
    "vk_size = 11"
   ]
  },
  {
   "cell_type": "code",
   "execution_count": 153,
   "metadata": {},
   "outputs": [],
   "source": [
    "# show image function is taken from Andrei Manolache outside of the project scope, I trust it does not count as plagiarism \n",
    "def show_image(a, fmt='jpeg'):\n",
    "    a = np.uint8(np.clip(a, 0, 255))\n",
    "    f = io.BytesIO()\n",
    "    PIL.Image.fromarray(a).save(f, fmt)\n",
    "    display(Image(data=f.getvalue()))\n",
    "    \n",
    "def read_image(index):\n",
    "    image = cv.imread(images[index])\n",
    "    return cv.resize(image, (0, 0), fx=0.15, fy=0.15)\n",
    "\n",
    "def split_first_table(image):\n",
    "    image_h, image_w, channels = image.shape\n",
    "    return image[int(0.5 * image_h):int(image_h * 0.9), int(image_w * 0.1): int(image_w * 0.4)]\n",
    "\n",
    "def split_second_table(image):\n",
    "    image_h, image_w, channels = image.shape\n",
    "    return image[int(0.5 * image_h):int(image_h * 0.9), int(image_w * 0.60): int(image_w * 0.9)]\n",
    "\n",
    "def apply_filters(image):\n",
    "    image_gray = cv.cvtColor(image, cv.COLOR_BGR2GRAY)\n",
    "    return image_gray\n",
    "\n",
    "def horizontal_kernel():\n",
    "    kernel = np.array([hk_size * [0], hk_size * [1], hk_size * [0]])\n",
    "    kernel = kernel / kernel.sum()\n",
    "    return kernel\n",
    "\n",
    "def vertical_kernel():\n",
    "    kernel = np.array(vk_size * [int(vk_size / 2) * [0] + [1] + int(vk_size / 2) * [0]])\n",
    "#     kernel = np.array([[0,1,0],[0,1,0],[0,1,0]])                \n",
    "    kernel = kernel / kernel.sum()\n",
    "    return kernel\n",
    "\n",
    "def filter_vertical(image):    \n",
    "    mean_value = image.mean()\n",
    "    _, image_th = cv.threshold(image, mean_value, 255, cv.THRESH_BINARY_INV)\n",
    "    thresholded = image_th\n",
    "    filtered = 255 - cv.filter2D(255 - thresholded, -1, vertical_kernel())\n",
    "    filtered[filtered < 255] = 0\n",
    "    filtered_vertical = filtered\n",
    "    return filtered_vertical\n",
    "\n",
    "\n",
    "def filter_horizontal(image):    \n",
    "    mean_value = image.mean()\n",
    "    _, image_th = cv.threshold(image, mean_value, 255, cv.THRESH_BINARY_INV)\n",
    "    thresholded = image_th\n",
    "    filtered = 255 - cv.filter2D(255 - thresholded, -1, horizontal_kernel())\n",
    "    filtered[filtered < 255] = 0\n",
    "    filtered_vertical = filtered\n",
    "    return filtered_vertical\n",
    "\n",
    "def get_horizontal_lines(filtered_horizontal, num_lines):\n",
    "    mask = filtered_horizontal // 255\n",
    "    res = np.sum(mask, axis=1) \n",
    "    res = res.argsort() \n",
    "    h_img = np.dstack((filtered_horizontal, filtered_horizontal, filtered_horizontal))\n",
    "    lines = [] #  _ x \n",
    "    for i in range(num_lines+1):\n",
    "        cv.line(h_img, (0, res[-i]), (h_img.shape[1], res[-i]), (0, 0, 255), 2) \n",
    "        lines.append([(0, res[-i]), (h_img.shape[1], res[-i])])\n",
    "    return h_img"
   ]
  },
  {
   "cell_type": "code",
   "execution_count": 161,
   "metadata": {},
   "outputs": [
    {
     "data": {
      "image/jpeg": "[encoded data removed]",
      "text/plain": [
       "<IPython.core.display.Image object>"
      ]
     },
     "metadata": {},
     "output_type": "display_data"
    }
   ],
   "source": [
    "# testing flow\n",
    "# read image\n",
    "img = read_image(1)\n",
    "\n",
    "# cut image\n",
    "img = split_first_table(img)\n",
    "\n",
    "#apply filters\n",
    "img_gray = apply_filters(img)\n",
    "\n",
    "# obtain binary image\n",
    "filtered_h = filter_horizontal(img_gray)\n",
    "\n",
    "horizontal_l = get_horizontal_lines(filtered_h, 15)\n",
    "show_image(horizontal_l)"
   ]
  },
  {
   "cell_type": "code",
   "execution_count": 156,
   "metadata": {},
   "outputs": [
    {
     "data": {
      "image/jpeg": "[encoded data removed]",
      "text/plain": [
       "<IPython.core.display.Image object>"
      ]
     },
     "metadata": {},
     "output_type": "display_data"
    },
    {
     "data": {
      "image/jpeg": "[encoded data removed]",
      "text/plain": [
       "<IPython.core.display.Image object>"
      ]
     },
     "metadata": {},
     "output_type": "display_data"
    }
   ],
   "source": [
    "# testing written functions\n",
    "img = read_image(1)\n",
    "img1 = split_first_table(img)\n",
    "img2 = split_second_table(img)\n",
    "# show_image(img1)\n",
    "# show_image(img2)\n",
    "img1_gray = apply_filters(img1)\n",
    "show_image(img1_gray)\n",
    "img1_filtered_vertical = filter_vertical(img1_gray)\n",
    "show_image(img1_filtered_vertical)"
   ]
  },
  {
   "cell_type": "code",
   "execution_count": 13,
   "metadata": {},
   "outputs": [
    {
     "data": {
      "text/plain": [
       "150"
      ]
     },
     "execution_count": 13,
     "metadata": {},
     "output_type": "execute_result"
    }
   ],
   "source": [
    "len(images)"
   ]
  },
  {
   "cell_type": "code",
   "execution_count": null,
   "metadata": {},
   "outputs": [],
   "source": []
  }
 ],
 "metadata": {
  "kernelspec": {
   "display_name": "Python 3",
   "language": "python",
   "name": "python3"
  },
  "language_info": {
   "codemirror_mode": {
    "name": "ipython",
    "version": 3
   },
   "file_extension": ".py",
   "mimetype": "text/x-python",
   "name": "python",
   "nbconvert_exporter": "python",
   "pygments_lexer": "ipython3",
   "version": "3.7.5"
  }
 },
 "nbformat": 4,
 "nbformat_minor": 4
}
