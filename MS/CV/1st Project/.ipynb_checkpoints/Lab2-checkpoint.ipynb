{
 "cells": [
  {
   "cell_type": "code",
   "execution_count": null,
   "metadata": {},
   "outputs": [],
   "source": [
    "# Homework no. 1 for Computer Vision course with Bogdan Alexe\n",
    "Computer vision\n",
    "Automatic grading of single choice tests\n",
    "\n",
    "- The first thing we have to do is to take only the part of the image that is needed for grading (the part with the two tables). \n",
    "- After we have taken the part with the tables, we have to split the image in the left part (MATEMATICA) and the right part (INFORMATICA/FIZICA).\n",
    "right_image.png\n",
    "\n",
    "Having the image from above, we have to find the lines and the columns that contain the student's answers.\n",
    "image.png\n",
    "\n",
    "After we have found the tables, we have to crop the tables in order to take only the student's answers.\n",
    "table.png\n",
    "\n",
    "A student can choose between INFORMATICA/FIZICA, our goal is to find the 2 boxes representing the number of the subject.\n"
   ]
  },
  {
   "cell_type": "code",
   "execution_count": 1,
   "metadata": {},
   "outputs": [],
   "source": [
    "# imports\n",
    "import cv2 as cv\n",
    "import numpy as np\n",
    "import glob\n",
    "import os"
   ]
  },
  {
   "cell_type": "code",
   "execution_count": 10,
   "metadata": {},
   "outputs": [
    {
     "name": "stdout",
     "output_type": "stream",
     "text": [
      "../1st Project/Files/images\\image_10.jpg\n"
     ]
    }
   ],
   "source": [
    "# Taken from lab no. 2\n",
    "# read the name of the images\n",
    "base_folder = '../1st Project/Files/images'\n",
    "images_names = glob.glob(os.path.join(base_folder, \"image_*.jpg\")) \n",
    "idx_image = -1\n",
    "SHOW_INTERMEDIATE_RESULTS = True # set this to false in order to show only the final result\n",
    "NUM_OF_SECONDS = 0 # set to 0 in order to wait until keypress"
   ]
  },
  {
   "cell_type": "code",
   "execution_count": 15,
   "metadata": {},
   "outputs": [],
   "source": [
    "idx_image += 15"
   ]
  },
  {
   "cell_type": "code",
   "execution_count": 16,
   "metadata": {},
   "outputs": [
    {
     "name": "stdout",
     "output_type": "stream",
     "text": [
      "(5847, 4132, 3)\n",
      "(877, 620, 3)\n"
     ]
    }
   ],
   "source": [
    "# read the idx-th image\n",
    "image = cv.imread(images_names[idx_image])\n",
    "#make it 0.15 times on every dimension\n",
    "img = cv.resize(image, (0, 0), fx=0.15, fy=0.15)\n",
    "print(image.shape)\n",
    "print(img.shape)\n",
    "if SHOW_INTERMEDIATE_RESULTS:\n",
    "    cv.imshow(\"image\", img)\n",
    "    cv.waitKey(NUM_OF_SECONDS)\n",
    "    cv.destroyAllWindows()"
   ]
  }
 ],
 "metadata": {
  "kernelspec": {
   "display_name": "Python 3",
   "language": "python",
   "name": "python3"
  },
  "language_info": {
   "codemirror_mode": {
    "name": "ipython",
    "version": 3
   },
   "file_extension": ".py",
   "mimetype": "text/x-python",
   "name": "python",
   "nbconvert_exporter": "python",
   "pygments_lexer": "ipython3",
   "version": "3.6.6"
  }
 },
 "nbformat": 4,
 "nbformat_minor": 2
}
