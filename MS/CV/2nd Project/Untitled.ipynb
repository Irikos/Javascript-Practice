{
 "cells": [
  {
   "cell_type": "code",
   "execution_count": 3,
   "metadata": {},
   "outputs": [],
   "source": [
    "# imports\n",
    "# Required libraries to be installed: Pillow, OpenCV\n",
    "import cv2 as cv\n",
    "import numpy as np\n",
    "import glob\n",
    "import os\n",
    "import pickle"
   ]
  },
  {
   "cell_type": "code",
   "execution_count": null,
   "metadata": {},
   "outputs": [],
   "source": []
  },
  {
   "cell_type": "code",
   "execution_count": null,
   "metadata": {},
   "outputs": [],
   "source": []
  },
  {
   "cell_type": "code",
   "execution_count": 4,
   "metadata": {},
   "outputs": [
    {
     "name": "stdout",
     "output_type": "stream",
     "text": [
      "['./Sent/andrei_dumitriu_407/Task1\\\\1.txt', './Sent/andrei_dumitriu_407/Task1\\\\10.txt', './Sent/andrei_dumitriu_407/Task1\\\\11.txt', './Sent/andrei_dumitriu_407/Task1\\\\12.txt', './Sent/andrei_dumitriu_407/Task1\\\\13.txt', './Sent/andrei_dumitriu_407/Task1\\\\14.txt', './Sent/andrei_dumitriu_407/Task1\\\\15.txt', './Sent/andrei_dumitriu_407/Task1\\\\16.txt', './Sent/andrei_dumitriu_407/Task1\\\\17.txt', './Sent/andrei_dumitriu_407/Task1\\\\18.txt', './Sent/andrei_dumitriu_407/Task1\\\\19.txt', './Sent/andrei_dumitriu_407/Task1\\\\2.txt', './Sent/andrei_dumitriu_407/Task1\\\\20.txt', './Sent/andrei_dumitriu_407/Task1\\\\21.txt', './Sent/andrei_dumitriu_407/Task1\\\\22.txt', './Sent/andrei_dumitriu_407/Task1\\\\23.txt', './Sent/andrei_dumitriu_407/Task1\\\\24.txt', './Sent/andrei_dumitriu_407/Task1\\\\25.txt', './Sent/andrei_dumitriu_407/Task1\\\\26.txt', './Sent/andrei_dumitriu_407/Task1\\\\27.txt', './Sent/andrei_dumitriu_407/Task1\\\\28.txt', './Sent/andrei_dumitriu_407/Task1\\\\29.txt', './Sent/andrei_dumitriu_407/Task1\\\\3.txt', './Sent/andrei_dumitriu_407/Task1\\\\30.txt', './Sent/andrei_dumitriu_407/Task1\\\\31.txt', './Sent/andrei_dumitriu_407/Task1\\\\32.txt', './Sent/andrei_dumitriu_407/Task1\\\\33.txt', './Sent/andrei_dumitriu_407/Task1\\\\34.txt', './Sent/andrei_dumitriu_407/Task1\\\\35.txt', './Sent/andrei_dumitriu_407/Task1\\\\36.txt', './Sent/andrei_dumitriu_407/Task1\\\\37.txt', './Sent/andrei_dumitriu_407/Task1\\\\38.txt', './Sent/andrei_dumitriu_407/Task1\\\\39.txt', './Sent/andrei_dumitriu_407/Task1\\\\4.txt', './Sent/andrei_dumitriu_407/Task1\\\\40.txt', './Sent/andrei_dumitriu_407/Task1\\\\41.txt', './Sent/andrei_dumitriu_407/Task1\\\\42.txt', './Sent/andrei_dumitriu_407/Task1\\\\43.txt', './Sent/andrei_dumitriu_407/Task1\\\\44.txt', './Sent/andrei_dumitriu_407/Task1\\\\45.txt', './Sent/andrei_dumitriu_407/Task1\\\\46.txt', './Sent/andrei_dumitriu_407/Task1\\\\47.txt', './Sent/andrei_dumitriu_407/Task1\\\\48.txt', './Sent/andrei_dumitriu_407/Task1\\\\49.txt', './Sent/andrei_dumitriu_407/Task1\\\\5.txt', './Sent/andrei_dumitriu_407/Task1\\\\50.txt', './Sent/andrei_dumitriu_407/Task1\\\\51.txt', './Sent/andrei_dumitriu_407/Task1\\\\52.txt', './Sent/andrei_dumitriu_407/Task1\\\\53.txt', './Sent/andrei_dumitriu_407/Task1\\\\54.txt', './Sent/andrei_dumitriu_407/Task1\\\\55.txt', './Sent/andrei_dumitriu_407/Task1\\\\56.txt', './Sent/andrei_dumitriu_407/Task1\\\\57.txt', './Sent/andrei_dumitriu_407/Task1\\\\6.txt', './Sent/andrei_dumitriu_407/Task1\\\\7.txt', './Sent/andrei_dumitriu_407/Task1\\\\8.txt', './Sent/andrei_dumitriu_407/Task1\\\\9.txt']\n"
     ]
    }
   ],
   "source": [
    "# my data\n",
    "task1 = glob.glob(os.path.join('./', \"Sent/andrei_dumitriu_407/Task1/*.txt\")) \n",
    "task2 = glob.glob(os.path.join('./', \"Sent/andrei_dumitriu_407/Task2/*.txt\")) \n",
    "task3 = glob.glob(os.path.join('./', \"Sent/andrei_dumitriu_407/Task3/*.txt\")) \n",
    "task4 = glob.glob(os.path.join('./', \"Sent/andrei_dumitriu_407/Task4/*.txt\")) \n",
    "\n",
    "print(task1)"
   ]
  },
  {
   "cell_type": "code",
   "execution_count": 16,
   "metadata": {},
   "outputs": [
    {
     "name": "stdout",
     "output_type": "stream",
     "text": [
      "3\n",
      "\n",
      "1\n",
      "1\n",
      "1\n",
      "0\n",
      "0\n",
      "0\n",
      "0\n",
      "0\n",
      "7\n",
      "\n",
      "1\n",
      "1\n",
      "1\n",
      "1\n",
      "1\n",
      "1\n",
      "1\n",
      "0\n"
     ]
    }
   ],
   "source": [
    "my_task1 = []\n",
    "\n",
    "for i in range(55, len(task1)):\n",
    "    file = open(task1[i])\n",
    "    \n",
    "    for line in file:\n",
    "        value = line.split(\" \")[0]\n",
    "#         print(line.strip())\n",
    "        print(value)"
   ]
  },
  {
   "cell_type": "code",
   "execution_count": null,
   "metadata": {},
   "outputs": [],
   "source": [
    "def read_task1(path, target):\n",
    "    "
   ]
  },
  {
   "cell_type": "code",
   "execution_count": null,
   "metadata": {},
   "outputs": [],
   "source": [
    "\n",
    "f = open(\"demofile.txt\", \"r\")\n",
    "print(f.read())"
   ]
  }
 ],
 "metadata": {
  "kernelspec": {
   "display_name": "Python 3",
   "language": "python",
   "name": "python3"
  },
  "language_info": {
   "codemirror_mode": {
    "name": "ipython",
    "version": 3
   },
   "file_extension": ".py",
   "mimetype": "text/x-python",
   "name": "python",
   "nbconvert_exporter": "python",
   "pygments_lexer": "ipython3",
   "version": "3.6.6"
  }
 },
 "nbformat": 4,
 "nbformat_minor": 2
}
